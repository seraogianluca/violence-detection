{
 "cells": [
  {
   "cell_type": "code",
   "execution_count": 1,
   "metadata": {},
   "outputs": [],
   "source": [
    "import torch\n",
    "import torchvision\n",
    "from torch.utils.data.dataloader import DataLoader\n",
    "from torchvision.models.video import r3d_18\n",
    "from data.video import SpatioTemporalDataset"
   ]
  },
  {
   "cell_type": "code",
   "execution_count": 2,
   "metadata": {},
   "outputs": [],
   "source": [
    "model = r3d_18(pretrained=True)\n",
    "newmodel = torch.nn.Sequential(*(list(model.children())[:-1]))"
   ]
  },
  {
   "cell_type": "code",
   "execution_count": 14,
   "metadata": {},
   "outputs": [],
   "source": [
    "preprocessing = torchvision.transforms.Compose([\n",
    "                torchvision.transforms.Resize(112),\n",
    "                torchvision.transforms.CenterCrop(112),\n",
    "                torchvision.transforms.Normalize((0.43216, 0.394666, 0.37645), (0.22803, 0.22145, 0.216989))])\n",
    "\n",
    "data = SpatioTemporalDataset('/mnt/d/serao/rlvs_cp/train/', transforms=preprocessing, num_clips=16, train=False)\n",
    "loader = DataLoader(data, batch_size=1, shuffle=True, num_workers=8)\n",
    "\n",
    "X = []\n",
    "y = []\n",
    "limit = len(loader)\n",
    "for batch_ndx, sample in enumerate(loader):\n",
    "    out = newmodel(torch.permute(sample[0], (0,2,1,3,4)))\n",
    "    X.append(out.squeeze().detach().numpy())\n",
    "    y.append(sample[1].numpy())\n",
    "    \n",
    "    if batch_ndx == limit:\n",
    "        break"
   ]
  },
  {
   "cell_type": "code",
   "execution_count": 15,
   "metadata": {},
   "outputs": [
    {
     "name": "stderr",
     "output_type": "stream",
     "text": [
      "/home/serao/violence_detection/violence-detection/env/lib/python3.8/site-packages/sklearn/utils/validation.py:985: DataConversionWarning: A column-vector y was passed when a 1d array was expected. Please change the shape of y to (n_samples, ), for example using ravel().\n",
      "  y = column_or_1d(y, warn=True)\n",
      "/home/serao/violence_detection/violence-detection/env/lib/python3.8/site-packages/sklearn/svm/_base.py:1206: ConvergenceWarning: Liblinear failed to converge, increase the number of iterations.\n",
      "  warnings.warn(\n"
     ]
    },
    {
     "data": {
      "text/plain": [
       "Pipeline(steps=[('standardscaler', StandardScaler()),\n",
       "                ('linearsvc', LinearSVC(random_state=0, tol=1e-05))])"
      ]
     },
     "execution_count": 15,
     "metadata": {},
     "output_type": "execute_result"
    }
   ],
   "source": [
    "from sklearn.pipeline import make_pipeline\n",
    "from sklearn.preprocessing import StandardScaler\n",
    "from sklearn.svm import LinearSVC\n",
    "\n",
    "clf = make_pipeline(StandardScaler(), LinearSVC(random_state=0, tol=1e-5))\n",
    "clf.fit(X, y)"
   ]
  },
  {
   "cell_type": "code",
   "execution_count": 16,
   "metadata": {},
   "outputs": [
    {
     "name": "stdout",
     "output_type": "stream",
     "text": [
      "Accuracy:  0.73\n"
     ]
    }
   ],
   "source": [
    "preprocessing = torchvision.transforms.Compose([\n",
    "                torchvision.transforms.Resize(112),\n",
    "                torchvision.transforms.CenterCrop(112),\n",
    "                torchvision.transforms.Normalize((0.43216, 0.394666, 0.37645), (0.22803, 0.22145, 0.216989))])\n",
    "\n",
    "test_data = SpatioTemporalDataset('/mnt/d/serao/rlvs_cp/test/', transforms=preprocessing, num_clips=16, train=False)\n",
    "test_loader = DataLoader(test_data, batch_size=1, shuffle=True, num_workers=8)\n",
    "\n",
    "limit = len(test_loader)\n",
    "correct = 0\n",
    "for batch_ndx, sample in enumerate(test_loader):\n",
    "    out = newmodel(torch.permute(sample[0], (0,2,1,3,4)))\n",
    "    predicted = clf.predict(out.squeeze().detach().numpy().reshape(1,-1))\n",
    "    real = sample[1]\n",
    "    \n",
    "    if predicted[0] == real.item():\n",
    "        correct += 1\n",
    "    \n",
    "    if batch_ndx == limit:\n",
    "        break\n",
    "\n",
    "print(\"Accuracy: \", correct/limit)"
   ]
  }
 ],
 "metadata": {
  "interpreter": {
   "hash": "f440aee68b76d99ba4c015f82a73102a1558300726321a3cc2f6996325bf7aaf"
  },
  "kernelspec": {
   "display_name": "Python 3.8.10 ('env': venv)",
   "language": "python",
   "name": "python3"
  },
  "language_info": {
   "codemirror_mode": {
    "name": "ipython",
    "version": 3
   },
   "file_extension": ".py",
   "mimetype": "text/x-python",
   "name": "python",
   "nbconvert_exporter": "python",
   "pygments_lexer": "ipython3",
   "version": "3.8.10"
  },
  "orig_nbformat": 4
 },
 "nbformat": 4,
 "nbformat_minor": 2
}
