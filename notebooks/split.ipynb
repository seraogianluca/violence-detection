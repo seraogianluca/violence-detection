{
 "cells": [
  {
   "cell_type": "code",
   "execution_count": 2,
   "metadata": {},
   "outputs": [
    {
     "name": "stdout",
     "output_type": "stream",
     "text": [
      "Read videos for class NonViolence\n"
     ]
    },
    {
     "name": "stderr",
     "output_type": "stream",
     "text": [
      "100%|██████████| 1306/1306 [00:58<00:00, 22.26it/s]\n"
     ]
    },
    {
     "name": "stdout",
     "output_type": "stream",
     "text": [
      "Move videos\n"
     ]
    },
    {
     "name": "stderr",
     "output_type": "stream",
     "text": [
      "100%|██████████| 1306/1306 [00:00<00:00, 30740.09it/s]\n"
     ]
    },
    {
     "name": "stdout",
     "output_type": "stream",
     "text": [
      "Read videos for class Violence\n"
     ]
    },
    {
     "name": "stderr",
     "output_type": "stream",
     "text": [
      "100%|██████████| 1306/1306 [01:04<00:00, 20.19it/s]\n"
     ]
    },
    {
     "name": "stdout",
     "output_type": "stream",
     "text": [
      "Move videos\n"
     ]
    },
    {
     "name": "stderr",
     "output_type": "stream",
     "text": [
      "100%|██████████| 1306/1306 [00:00<00:00, 31865.05it/s]\n"
     ]
    }
   ],
   "source": [
    "import os\n",
    "import decord\n",
    "from decord import cpu\n",
    "from tqdm import tqdm\n",
    "\n",
    "def remove_mac_options(list):\n",
    "    if '.DS_Store' in list:\n",
    "        list.remove('.DS_Store')\n",
    "    return list\n",
    "\n",
    "path = '/mnt/d/serao/bus_data_30fps'\n",
    "cls = os.listdir(path)\n",
    "cls = remove_mac_options(cls)\n",
    "\n",
    "videos = os.listdir(os.path.join(path, cls[0]))\n",
    "videos = remove_mac_options(videos)\n",
    "size = len(videos)*2\n",
    "\n",
    "test_size = int(size*0.20)\n",
    "tcl_size = test_size // 2\n",
    "\n",
    "for cl in cls:\n",
    "    class_path = os.path.join(path, cl)\n",
    "    videos = sorted(os.listdir(class_path))\n",
    "\n",
    "    print(f'Read videos for class {cl}')\n",
    "    vid_list = []\n",
    "    for video in tqdm(videos):\n",
    "        vr = decord.VideoReader(os.path.join(class_path, video), ctx=cpu(0))\n",
    "        vid_size = len(vr)\n",
    "        vid_list.append((vid_size, os.path.join(class_path, video)))\n",
    "\n",
    "    print('Move videos')\n",
    "    vid_list.sort(key=lambda tup: tup[0])\n",
    "    to_test = tcl_size\n",
    "    dataset = 'test'\n",
    "    for _, video in tqdm(vid_list):\n",
    "        split = video.split(os.path.sep)\n",
    "        os.renames(video, os.path.join(path, dataset, cl, split[-1]))\n",
    "        to_test -= 1\n",
    "        if to_test == 0:\n",
    "            dataset = 'train'\n",
    "    "
   ]
  }
 ],
 "metadata": {
  "interpreter": {
   "hash": "375897ae384fc3a9d5f8e8bb1d0666a9dfaee7949d048cd52c6c0c1ac076dc2b"
  },
  "kernelspec": {
   "display_name": "Python 3.8.10 64-bit ('env': venv)",
   "language": "python",
   "name": "python3"
  },
  "language_info": {
   "codemirror_mode": {
    "name": "ipython",
    "version": 3
   },
   "file_extension": ".py",
   "mimetype": "text/x-python",
   "name": "python",
   "nbconvert_exporter": "python",
   "pygments_lexer": "ipython3",
   "version": "3.8.10"
  },
  "orig_nbformat": 4
 },
 "nbformat": 4,
 "nbformat_minor": 2
}
