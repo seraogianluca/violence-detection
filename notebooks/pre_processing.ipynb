{
 "cells": [
  {
   "cell_type": "code",
   "execution_count": 1,
   "metadata": {},
   "outputs": [],
   "source": [
    "import pandas as pd"
   ]
  },
  {
   "cell_type": "code",
   "execution_count": 2,
   "metadata": {},
   "outputs": [
    {
     "data": {
      "text/html": [
       "<div>\n",
       "<style scoped>\n",
       "    .dataframe tbody tr th:only-of-type {\n",
       "        vertical-align: middle;\n",
       "    }\n",
       "\n",
       "    .dataframe tbody tr th {\n",
       "        vertical-align: top;\n",
       "    }\n",
       "\n",
       "    .dataframe thead th {\n",
       "        text-align: right;\n",
       "    }\n",
       "</style>\n",
       "<table border=\"1\" class=\"dataframe\">\n",
       "  <thead>\n",
       "    <tr style=\"text-align: right;\">\n",
       "      <th></th>\n",
       "      <th>count</th>\n",
       "      <th>mean</th>\n",
       "      <th>std</th>\n",
       "      <th>min</th>\n",
       "      <th>25%</th>\n",
       "      <th>50%</th>\n",
       "      <th>75%</th>\n",
       "      <th>max</th>\n",
       "    </tr>\n",
       "    <tr>\n",
       "      <th>class</th>\n",
       "      <th></th>\n",
       "      <th></th>\n",
       "      <th></th>\n",
       "      <th></th>\n",
       "      <th></th>\n",
       "      <th></th>\n",
       "      <th></th>\n",
       "      <th></th>\n",
       "    </tr>\n",
       "  </thead>\n",
       "  <tbody>\n",
       "    <tr>\n",
       "      <th>NonViolence</th>\n",
       "      <td>1579.0</td>\n",
       "      <td>101.818873</td>\n",
       "      <td>234.948969</td>\n",
       "      <td>0.0</td>\n",
       "      <td>26.0</td>\n",
       "      <td>34.0</td>\n",
       "      <td>37.0</td>\n",
       "      <td>2620.0</td>\n",
       "    </tr>\n",
       "    <tr>\n",
       "      <th>Violence</th>\n",
       "      <td>766.0</td>\n",
       "      <td>71.317232</td>\n",
       "      <td>69.682322</td>\n",
       "      <td>0.0</td>\n",
       "      <td>33.0</td>\n",
       "      <td>38.0</td>\n",
       "      <td>100.0</td>\n",
       "      <td>400.0</td>\n",
       "    </tr>\n",
       "  </tbody>\n",
       "</table>\n",
       "</div>"
      ],
      "text/plain": [
       "              count        mean         std  min   25%   50%    75%     max\n",
       "class                                                                      \n",
       "NonViolence  1579.0  101.818873  234.948969  0.0  26.0  34.0   37.0  2620.0\n",
       "Violence      766.0   71.317232   69.682322  0.0  33.0  38.0  100.0   400.0"
      ]
     },
     "execution_count": 2,
     "metadata": {},
     "output_type": "execute_result"
    }
   ],
   "source": [
    "data = pd.read_csv('/Users/gianluca/Documents/GitHub/tesi/violence-detection/notebooks/dataset.csv')\n",
    "data.groupby(\"class\")[\"num_frames\"].describe()"
   ]
  },
  {
   "cell_type": "code",
   "execution_count": 13,
   "metadata": {},
   "outputs": [],
   "source": [
    "import os\n",
    "from tqdm import tqdm\n",
    "\n",
    "def getelements(path):\n",
    "    items = os.listdir(path)\n",
    "\n",
    "    if '.DS_Store' in items:\n",
    "        items.remove('.DS_Store')\n",
    "\n",
    "    return items\n",
    "\n",
    "def copy_video(source: str, dest: str, frames:list, pattern: str):\n",
    "    for i, frame in enumerate(frames, 1):\n",
    "        ext = frame.split('.')[-1]\n",
    "        filename = pattern % i\n",
    "        filename += '.' + ext\n",
    "        os.renames(os.path.join(source, frame), os.path.join(dest, filename))\n",
    "\n",
    "\n",
    "def make_dataset(source_path: str, dest_path: str, min_frames: int, max_frames: int, pattern: str = 'frame_%06d'):\n",
    "    cls = getelements(source_path)\n",
    "\n",
    "    for cl in cls:\n",
    "        print(f'Class: {cl}')\n",
    "        dirs = getelements(os.path.join(source_path, cl))\n",
    "        video_name = 1\n",
    "        for dir in tqdm(dirs):\n",
    "            frames = sorted(getelements(os.path.join(source_path, cl, dir)))\n",
    "            num_frames = len(frames)\n",
    "\n",
    "            if num_frames > max_frames:\n",
    "                for i in range(0, len(frames), max_frames):\n",
    "                    chunk = frames[i:i + max_frames]\n",
    "                    if len(chunk) >= min_frames:\n",
    "                        copy_video(os.path.join(source_path, cl, str(dir)), os.path.join(dest_path, cl, str(video_name)), chunk, pattern)\n",
    "                        video_name += 1\n",
    "            elif num_frames >= min_frames:\n",
    "                copy_video(os.path.join(source_path, cl, str(dir)), os.path.join(dest_path, cl, str(video_name)), frames, pattern)\n",
    "                video_name += 1"
   ]
  },
  {
   "cell_type": "code",
   "execution_count": 14,
   "metadata": {},
   "outputs": [
    {
     "name": "stdout",
     "output_type": "stream",
     "text": [
      "Class: NonViolence\n"
     ]
    },
    {
     "name": "stderr",
     "output_type": "stream",
     "text": [
      "100%|██████████| 1579/1579 [00:23<00:00, 67.14it/s] \n"
     ]
    },
    {
     "name": "stdout",
     "output_type": "stream",
     "text": [
      "Class: Violence\n"
     ]
    },
    {
     "name": "stderr",
     "output_type": "stream",
     "text": [
      "100%|██████████| 766/766 [00:06<00:00, 116.43it/s]\n"
     ]
    }
   ],
   "source": [
    "make_dataset(\"/Users/gianluca/Documents/GitHub/tesi/bus_dataset_bin\", \"./dataset\", 16, 48, 'frame_%02d')"
   ]
  },
  {
   "cell_type": "code",
   "execution_count": 2,
   "metadata": {},
   "outputs": [
    {
     "data": {
      "text/html": [
       "<div>\n",
       "<style scoped>\n",
       "    .dataframe tbody tr th:only-of-type {\n",
       "        vertical-align: middle;\n",
       "    }\n",
       "\n",
       "    .dataframe tbody tr th {\n",
       "        vertical-align: top;\n",
       "    }\n",
       "\n",
       "    .dataframe thead th {\n",
       "        text-align: right;\n",
       "    }\n",
       "</style>\n",
       "<table border=\"1\" class=\"dataframe\">\n",
       "  <thead>\n",
       "    <tr style=\"text-align: right;\">\n",
       "      <th></th>\n",
       "      <th>count</th>\n",
       "      <th>mean</th>\n",
       "      <th>std</th>\n",
       "      <th>min</th>\n",
       "      <th>25%</th>\n",
       "      <th>50%</th>\n",
       "      <th>75%</th>\n",
       "      <th>max</th>\n",
       "    </tr>\n",
       "    <tr>\n",
       "      <th>class</th>\n",
       "      <th></th>\n",
       "      <th></th>\n",
       "      <th></th>\n",
       "      <th></th>\n",
       "      <th></th>\n",
       "      <th></th>\n",
       "      <th></th>\n",
       "      <th></th>\n",
       "    </tr>\n",
       "  </thead>\n",
       "  <tbody>\n",
       "    <tr>\n",
       "      <th>NonViolence</th>\n",
       "      <td>3878.0</td>\n",
       "      <td>41.178700</td>\n",
       "      <td>9.767495</td>\n",
       "      <td>16.0</td>\n",
       "      <td>34.0</td>\n",
       "      <td>48.0</td>\n",
       "      <td>48.0</td>\n",
       "      <td>48.0</td>\n",
       "    </tr>\n",
       "    <tr>\n",
       "      <th>Violence</th>\n",
       "      <td>1306.0</td>\n",
       "      <td>40.534456</td>\n",
       "      <td>10.064427</td>\n",
       "      <td>16.0</td>\n",
       "      <td>34.0</td>\n",
       "      <td>48.0</td>\n",
       "      <td>48.0</td>\n",
       "      <td>48.0</td>\n",
       "    </tr>\n",
       "  </tbody>\n",
       "</table>\n",
       "</div>"
      ],
      "text/plain": [
       "              count       mean        std   min   25%   50%   75%   max\n",
       "class                                                                  \n",
       "NonViolence  3878.0  41.178700   9.767495  16.0  34.0  48.0  48.0  48.0\n",
       "Violence     1306.0  40.534456  10.064427  16.0  34.0  48.0  48.0  48.0"
      ]
     },
     "execution_count": 2,
     "metadata": {},
     "output_type": "execute_result"
    }
   ],
   "source": [
    "data = pd.read_csv('/Users/gianluca/Documents/GitHub/tesi/violence-detection/notebooks/dataset_mod.csv')\n",
    "data.groupby(\"class\")[\"num_frames\"].describe()"
   ]
  },
  {
   "cell_type": "code",
   "execution_count": 3,
   "metadata": {},
   "outputs": [
    {
     "data": {
      "text/plain": [
       "class        num_frames\n",
       "NonViolence  16             34\n",
       "             17             31\n",
       "             18             56\n",
       "             19             55\n",
       "             20             54\n",
       "                          ... \n",
       "Violence     44              6\n",
       "             45              8\n",
       "             46              2\n",
       "             47              1\n",
       "             48            755\n",
       "Length: 66, dtype: int64"
      ]
     },
     "execution_count": 3,
     "metadata": {},
     "output_type": "execute_result"
    }
   ],
   "source": [
    "data.groupby(['class', 'num_frames']).size()"
   ]
  },
  {
   "cell_type": "code",
   "execution_count": 9,
   "metadata": {},
   "outputs": [],
   "source": [
    "import numpy as np\n",
    "\n",
    "minCount = data.groupby(['class']).size().min()\n",
    "minCount\n",
    "\n",
    "nonViolence = os.listdir('./dataset/NonViolence')\n",
    "if '.DS_Store' in nonViolence:\n",
    "    nonViolence.remove('.DS_Store')\n",
    "\n",
    "nonViolence = list(np.random.choice(nonViolence, size=minCount, replace=False))\n",
    "nonViolence.sort(key=int)"
   ]
  },
  {
   "cell_type": "code",
   "execution_count": 11,
   "metadata": {},
   "outputs": [
    {
     "name": "stderr",
     "output_type": "stream",
     "text": [
      "100%|██████████| 3878/3878 [00:00<00:00, 9213.72it/s]\n"
     ]
    }
   ],
   "source": [
    "from tqdm import tqdm\n",
    "\n",
    "path = './dataset/NonViolence'\n",
    "dest = './dataset/NonViolence_new'\n",
    "videos = os.listdir(path)\n",
    "if '.DS_Store' in videos:\n",
    "    videos.remove('.DS_Store')\n",
    "videos.sort(key=int)\n",
    "\n",
    "for video in tqdm(videos):\n",
    "    if video in nonViolence:\n",
    "        os.renames(os.path.join(path, video), os.path.join(dest, video))"
   ]
  },
  {
   "cell_type": "code",
   "execution_count": 14,
   "metadata": {},
   "outputs": [
    {
     "data": {
      "text/html": [
       "<div>\n",
       "<style scoped>\n",
       "    .dataframe tbody tr th:only-of-type {\n",
       "        vertical-align: middle;\n",
       "    }\n",
       "\n",
       "    .dataframe tbody tr th {\n",
       "        vertical-align: top;\n",
       "    }\n",
       "\n",
       "    .dataframe thead th {\n",
       "        text-align: right;\n",
       "    }\n",
       "</style>\n",
       "<table border=\"1\" class=\"dataframe\">\n",
       "  <thead>\n",
       "    <tr style=\"text-align: right;\">\n",
       "      <th></th>\n",
       "      <th>count</th>\n",
       "      <th>mean</th>\n",
       "      <th>std</th>\n",
       "      <th>min</th>\n",
       "      <th>25%</th>\n",
       "      <th>50%</th>\n",
       "      <th>75%</th>\n",
       "      <th>max</th>\n",
       "    </tr>\n",
       "    <tr>\n",
       "      <th>class</th>\n",
       "      <th></th>\n",
       "      <th></th>\n",
       "      <th></th>\n",
       "      <th></th>\n",
       "      <th></th>\n",
       "      <th></th>\n",
       "      <th></th>\n",
       "      <th></th>\n",
       "    </tr>\n",
       "  </thead>\n",
       "  <tbody>\n",
       "    <tr>\n",
       "      <th>NonViolence</th>\n",
       "      <td>1306.0</td>\n",
       "      <td>41.042879</td>\n",
       "      <td>9.822938</td>\n",
       "      <td>16.0</td>\n",
       "      <td>34.0</td>\n",
       "      <td>48.0</td>\n",
       "      <td>48.0</td>\n",
       "      <td>48.0</td>\n",
       "    </tr>\n",
       "    <tr>\n",
       "      <th>Violence</th>\n",
       "      <td>1306.0</td>\n",
       "      <td>40.534456</td>\n",
       "      <td>10.064427</td>\n",
       "      <td>16.0</td>\n",
       "      <td>34.0</td>\n",
       "      <td>48.0</td>\n",
       "      <td>48.0</td>\n",
       "      <td>48.0</td>\n",
       "    </tr>\n",
       "  </tbody>\n",
       "</table>\n",
       "</div>"
      ],
      "text/plain": [
       "              count       mean        std   min   25%   50%   75%   max\n",
       "class                                                                  \n",
       "NonViolence  1306.0  41.042879   9.822938  16.0  34.0  48.0  48.0  48.0\n",
       "Violence     1306.0  40.534456  10.064427  16.0  34.0  48.0  48.0  48.0"
      ]
     },
     "execution_count": 14,
     "metadata": {},
     "output_type": "execute_result"
    }
   ],
   "source": [
    "data = pd.read_csv('/Users/gianluca/Documents/GitHub/tesi/violence-detection/notebooks/dataset_balanced.csv')\n",
    "data.groupby(\"class\")[\"num_frames\"].describe()"
   ]
  },
  {
   "cell_type": "code",
   "execution_count": 1,
   "metadata": {},
   "outputs": [
    {
     "name": "stdout",
     "output_type": "stream",
     "text": [
      "Class: NonViolence\n"
     ]
    },
    {
     "name": "stderr",
     "output_type": "stream",
     "text": [
      "100%|██████████| 1306/1306 [30:12<00:00,  1.39s/it]\n"
     ]
    },
    {
     "name": "stdout",
     "output_type": "stream",
     "text": [
      "Class: Violence\n"
     ]
    },
    {
     "name": "stderr",
     "output_type": "stream",
     "text": [
      "100%|██████████| 1306/1306 [32:00<00:00,  1.47s/it]\n"
     ]
    }
   ],
   "source": [
    "import cv2\n",
    "from tqdm import tqdm\n",
    "\n",
    "frame_data = './dataset'\n",
    "\n",
    "cls = os.listdir(frame_data)\n",
    "if '.DS_Store' in cls:\n",
    "        cls.remove('.DS_Store')\n",
    "\n",
    "for cl in cls:\n",
    "    base = os.path.join(frame_data, cl)\n",
    "    videos = os.listdir(base)\n",
    "    if '.DS_Store' in videos:\n",
    "        videos.remove('.DS_Store')\n",
    "    print(f'Class: {cl}')\n",
    "\n",
    "    for video in tqdm(videos):\n",
    "        video_base = os.path.join(base, video)\n",
    "        frames = sorted(os.listdir(video_base))\n",
    "        if '.DS_Store' in frames:\n",
    "            frames.remove('.DS_Store')\n",
    "\n",
    "        frame = cv2.imread(os.path.join(video_base, frames[0]))\n",
    "        height, width, layers = frame.shape\n",
    "\n",
    "        video_name = os.path.join(base, cl.upper() + '_' + video + '.avi')\n",
    "        out = cv2.VideoWriter(video_name,cv2.VideoWriter_fourcc(*'MPEG'), 30, (width, height))\n",
    "        for frame in frames:\n",
    "            img = cv2.imread(os.path.join(video_base, frame))\n",
    "            out.write(img)\n",
    "        out.release()       "
   ]
  }
 ],
 "metadata": {
  "interpreter": {
   "hash": "1b16c665e5cc4fc98ff64773589d994cbc8122c73d332331e51b0f3187a2d49e"
  },
  "kernelspec": {
   "display_name": "Python 3.9.9 64-bit ('env': venv)",
   "language": "python",
   "name": "python3"
  },
  "language_info": {
   "codemirror_mode": {
    "name": "ipython",
    "version": 3
   },
   "file_extension": ".py",
   "mimetype": "text/x-python",
   "name": "python",
   "nbconvert_exporter": "python",
   "pygments_lexer": "ipython3",
   "version": "3.9.9"
  },
  "orig_nbformat": 4
 },
 "nbformat": 4,
 "nbformat_minor": 2
}
