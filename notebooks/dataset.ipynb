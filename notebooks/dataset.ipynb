{
 "cells": [
  {
   "cell_type": "code",
   "execution_count": 1,
   "metadata": {},
   "outputs": [],
   "source": [
    "import os\n",
    "import numpy as np"
   ]
  },
  {
   "cell_type": "code",
   "execution_count": 3,
   "metadata": {},
   "outputs": [],
   "source": [
    "# /Users/gianluca/Documents/GitHub/tesi/dataset/bus_dataset_bin\n",
    "path = './dataset'\n",
    "dataset = os.listdir(path)\n",
    "dataset.remove('.DS_Store')"
   ]
  },
  {
   "cell_type": "code",
   "execution_count": 5,
   "metadata": {},
   "outputs": [],
   "source": [
    "with open('./dataset_balanced.csv', 'a') as f:\n",
    "    f.write('video,num_frames,class\\n')\n",
    "    for cls in dataset:\n",
    "        video_path = path + os.sep + cls\n",
    "        videos = os.listdir(video_path)\n",
    "        if '.DS_Sore' in videos:\n",
    "            videos.remove('.DS_Store')\n",
    "        videos.sort(key=int)\n",
    "\n",
    "        for video in videos:\n",
    "            length = len(os.listdir(video_path + os.sep + video))\n",
    "            f.write(video + ',' + str(length) + ',' + cls + '\\n')\n"
   ]
  }
 ],
 "metadata": {
  "interpreter": {
   "hash": "b0fa6594d8f4cbf19f97940f81e996739fb7646882a419484c72d19e05852a7e"
  },
  "kernelspec": {
   "display_name": "Python 3.9.9 64-bit",
   "language": "python",
   "name": "python3"
  },
  "language_info": {
   "codemirror_mode": {
    "name": "ipython",
    "version": 3
   },
   "file_extension": ".py",
   "mimetype": "text/x-python",
   "name": "python",
   "nbconvert_exporter": "python",
   "pygments_lexer": "ipython3",
   "version": "3.9.9"
  },
  "orig_nbformat": 4
 },
 "nbformat": 4,
 "nbformat_minor": 2
}
