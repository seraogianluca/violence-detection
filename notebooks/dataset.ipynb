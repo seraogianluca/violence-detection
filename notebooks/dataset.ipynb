{
 "cells": [
  {
   "cell_type": "code",
   "execution_count": 1,
   "metadata": {},
   "outputs": [],
   "source": [
    "import os\n",
    "import numpy as np"
   ]
  },
  {
   "cell_type": "code",
   "execution_count": 2,
   "metadata": {},
   "outputs": [],
   "source": [
    "path = 'path_to_file'\n",
    "dataset = os.listdir(path)\n",
    "dataset.remove('.DS_Store')"
   ]
  },
  {
   "cell_type": "code",
   "execution_count": 12,
   "metadata": {},
   "outputs": [],
   "source": [
    "# get stats\n",
    "with open('./stat.txt', 'a') as f:\n",
    "    f.write('Classes: ')\n",
    "    for cls in dataset:\n",
    "        f.write(cls + ' ')\n",
    "    f.write('\\n\\n')"
   ]
  },
  {
   "cell_type": "code",
   "execution_count": 14,
   "metadata": {},
   "outputs": [],
   "source": [
    "videos_path = path + os.sep + dataset[0]\n",
    "videos = os.listdir(videos_path)\n",
    "videos.remove('.DS_Store')\n",
    "videos.sort(key=int)\n",
    "\n",
    "short = {}\n",
    "short_count = 0\n",
    "video_lenght = {}\n",
    "data = []\n",
    "for video in videos:\n",
    "    lenght = len(os.listdir(videos_path + os.sep + video))\n",
    "    data.append(lenght)\n",
    "    if lenght == 0:\n",
    "        print(f'{video} : {lenght}')\n",
    "        os.rmdir(videos_path + os.sep + video)\n",
    "    if lenght < 16:\n",
    "        short[video] = lenght\n",
    "        short_count += 1\n",
    "    else:\n",
    "        video_lenght[video] = lenght\n",
    "\n",
    "vl_np = np.array(data)\n",
    "with open('./stat.txt', 'a') as f:\n",
    "    f.write(f'Class: {dataset[0]}\\n')\n",
    "    f.write(f'Min: {vl_np.min()}\\n')\n",
    "    f.write(f'Max: {vl_np.max()}\\n')\n",
    "    f.write(f'Mean: {vl_np.mean()}\\n')\n",
    "    f.write(f'Std: {vl_np.std()}\\n')\n",
    "    f.write(f'Videos under 16 frames: {short_count}\\n')\n",
    "    f.write(f'List:\\n')\n",
    "\n",
    "    for key, value in short.items():\n",
    "        f.write('%s:%s\\n' % (key, value))\n",
    "    f.write('\\n')\n",
    "\n",
    "    f.write('Videos:\\n')\n",
    "    for key, value in video_lenght.items(): \n",
    "        f.write('%s:%s\\n' % (key, value))\n",
    "    f.write('\\n\\n')"
   ]
  }
 ],
 "metadata": {
  "interpreter": {
   "hash": "b0fa6594d8f4cbf19f97940f81e996739fb7646882a419484c72d19e05852a7e"
  },
  "kernelspec": {
   "display_name": "Python 3.9.9 64-bit",
   "language": "python",
   "name": "python3"
  },
  "language_info": {
   "codemirror_mode": {
    "name": "ipython",
    "version": 3
   },
   "file_extension": ".py",
   "mimetype": "text/x-python",
   "name": "python",
   "nbconvert_exporter": "python",
   "pygments_lexer": "ipython3",
   "version": "3.9.9"
  },
  "orig_nbformat": 4
 },
 "nbformat": 4,
 "nbformat_minor": 2
}
