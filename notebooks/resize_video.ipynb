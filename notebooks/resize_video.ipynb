{
 "cells": [
  {
   "cell_type": "code",
   "execution_count": null,
   "metadata": {},
   "outputs": [],
   "source": [
    "import os\n",
    "from moviepy.editor import *\n",
    "from torchvision.datasets.folder import make_dataset\n",
    "from tqdm import tqdm\n",
    "\n",
    "\n",
    "classes = [d.name for d in os.scandir('/mnt/d/serao/busd_cp/train') if d.is_dir()]\n",
    "classes.sort()\n",
    "class_to_index = {cls_name: i for i, cls_name in enumerate(classes)}\n",
    "videos_index = make_dataset('/mnt/d/serao/busd_cp/train', class_to_index, ('.avi', '.mp4'), is_valid_file=None)\n",
    "\n",
    "for video, label in tqdm(videos_index):\n",
    "    clip1 = VideoFileClip(video)\n",
    "    # resizing video downsize 50 %\n",
    "    clip2 = clip1.resize(0.5)\n",
    "    clip2.write_videofile(video)"
   ]
  }
 ],
 "metadata": {
  "interpreter": {
   "hash": "375897ae384fc3a9d5f8e8bb1d0666a9dfaee7949d048cd52c6c0c1ac076dc2b"
  },
  "kernelspec": {
   "display_name": "Python 3.8.10 ('env': venv)",
   "language": "python",
   "name": "python3"
  },
  "language_info": {
   "name": "python",
   "version": "3.8.10"
  },
  "orig_nbformat": 4
 },
 "nbformat": 4,
 "nbformat_minor": 2
}
