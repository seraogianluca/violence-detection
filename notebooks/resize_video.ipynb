{
 "cells": [
  {
   "cell_type": "code",
   "execution_count": 2,
   "metadata": {},
   "outputs": [
    {
     "name": "stdout",
     "output_type": "stream",
     "text": [
      "Moviepy - Building video /mnt/d/serao/busd_cp/test/NonViolence/NONVIOLENCE_1004.mp4.\n",
      "Moviepy - Writing video /mnt/d/serao/busd_cp/test/NonViolence/NONVIOLENCE_1004.mp4\n",
      "\n"
     ]
    },
    {
     "name": "stderr",
     "output_type": "stream",
     "text": [
      "                                                   "
     ]
    },
    {
     "name": "stdout",
     "output_type": "stream",
     "text": [
      "Moviepy - Done !\n",
      "Moviepy - video ready /mnt/d/serao/busd_cp/test/NonViolence/NONVIOLENCE_1004.mp4\n"
     ]
    },
    {
     "name": "stderr",
     "output_type": "stream",
     "text": [
      "\r"
     ]
    },
    {
     "name": "stdout",
     "output_type": "stream",
     "text": [
      "Moviepy - Building video /mnt/d/serao/busd_cp/test/NonViolence/NONVIOLENCE_101.mp4.\n",
      "Moviepy - Writing video /mnt/d/serao/busd_cp/test/NonViolence/NONVIOLENCE_101.mp4\n",
      "\n"
     ]
    },
    {
     "name": "stderr",
     "output_type": "stream",
     "text": [
      "                                                            \r"
     ]
    },
    {
     "name": "stdout",
     "output_type": "stream",
     "text": [
      "Moviepy - Done !\n",
      "Moviepy - video ready /mnt/d/serao/busd_cp/test/NonViolence/NONVIOLENCE_101.mp4\n",
      "Moviepy - Building video /mnt/d/serao/busd_cp/test/NonViolence/NONVIOLENCE_1028.mp4.\n",
      "Moviepy - Writing video /mnt/d/serao/busd_cp/test/NonViolence/NONVIOLENCE_1028.mp4\n",
      "\n"
     ]
    },
    {
     "name": "stderr",
     "output_type": "stream",
     "text": [
      "                                                   \r"
     ]
    },
    {
     "name": "stdout",
     "output_type": "stream",
     "text": [
      "Moviepy - Done !\n",
      "Moviepy - video ready /mnt/d/serao/busd_cp/test/NonViolence/NONVIOLENCE_1028.mp4\n",
      "Moviepy - Building video /mnt/d/serao/busd_cp/test/NonViolence/NONVIOLENCE_1046.mp4.\n",
      "Moviepy - Writing video /mnt/d/serao/busd_cp/test/NonViolence/NONVIOLENCE_1046.mp4\n",
      "\n"
     ]
    },
    {
     "name": "stderr",
     "output_type": "stream",
     "text": [
      "                                                            \r"
     ]
    },
    {
     "name": "stdout",
     "output_type": "stream",
     "text": [
      "Moviepy - Done !\n",
      "Moviepy - video ready /mnt/d/serao/busd_cp/test/NonViolence/NONVIOLENCE_1046.mp4\n",
      "Moviepy - Building video /mnt/d/serao/busd_cp/test/NonViolence/NONVIOLENCE_1063.mp4.\n",
      "Moviepy - Writing video /mnt/d/serao/busd_cp/test/NonViolence/NONVIOLENCE_1063.mp4\n",
      "\n"
     ]
    },
    {
     "name": "stderr",
     "output_type": "stream",
     "text": [
      "                                                   \r"
     ]
    },
    {
     "name": "stdout",
     "output_type": "stream",
     "text": [
      "Moviepy - Done !\n",
      "Moviepy - video ready /mnt/d/serao/busd_cp/test/NonViolence/NONVIOLENCE_1063.mp4\n",
      "Moviepy - Building video /mnt/d/serao/busd_cp/test/NonViolence/NONVIOLENCE_1078.mp4.\n",
      "Moviepy - Writing video /mnt/d/serao/busd_cp/test/NonViolence/NONVIOLENCE_1078.mp4\n",
      "\n"
     ]
    },
    {
     "name": "stderr",
     "output_type": "stream",
     "text": [
      "                                                   \r"
     ]
    },
    {
     "name": "stdout",
     "output_type": "stream",
     "text": [
      "Moviepy - Done !\n",
      "Moviepy - video ready /mnt/d/serao/busd_cp/test/NonViolence/NONVIOLENCE_1078.mp4\n",
      "Moviepy - Building video /mnt/d/serao/busd_cp/test/NonViolence/NONVIOLENCE_1089.mp4.\n",
      "Moviepy - Writing video /mnt/d/serao/busd_cp/test/NonViolence/NONVIOLENCE_1089.mp4\n",
      "\n"
     ]
    },
    {
     "name": "stderr",
     "output_type": "stream",
     "text": [
      "                                                            \r"
     ]
    },
    {
     "name": "stdout",
     "output_type": "stream",
     "text": [
      "Moviepy - Done !\n",
      "Moviepy - video ready /mnt/d/serao/busd_cp/test/NonViolence/NONVIOLENCE_1089.mp4\n",
      "Moviepy - Building video /mnt/d/serao/busd_cp/test/NonViolence/NONVIOLENCE_1105.mp4.\n",
      "Moviepy - Writing video /mnt/d/serao/busd_cp/test/NonViolence/NONVIOLENCE_1105.mp4\n",
      "\n"
     ]
    },
    {
     "name": "stderr",
     "output_type": "stream",
     "text": [
      "                                                   \r"
     ]
    },
    {
     "name": "stdout",
     "output_type": "stream",
     "text": [
      "Moviepy - Done !\n",
      "Moviepy - video ready /mnt/d/serao/busd_cp/test/NonViolence/NONVIOLENCE_1105.mp4\n",
      "Moviepy - Building video /mnt/d/serao/busd_cp/test/NonViolence/NONVIOLENCE_1122.mp4.\n",
      "Moviepy - Writing video /mnt/d/serao/busd_cp/test/NonViolence/NONVIOLENCE_1122.mp4\n",
      "\n"
     ]
    },
    {
     "name": "stderr",
     "output_type": "stream",
     "text": [
      "                                                            \r"
     ]
    },
    {
     "name": "stdout",
     "output_type": "stream",
     "text": [
      "Moviepy - Done !\n",
      "Moviepy - video ready /mnt/d/serao/busd_cp/test/NonViolence/NONVIOLENCE_1122.mp4\n",
      "Moviepy - Building video /mnt/d/serao/busd_cp/test/NonViolence/NONVIOLENCE_1133.mp4.\n",
      "Moviepy - Writing video /mnt/d/serao/busd_cp/test/NonViolence/NONVIOLENCE_1133.mp4\n",
      "\n"
     ]
    },
    {
     "name": "stderr",
     "output_type": "stream",
     "text": [
      "                                                            \r"
     ]
    },
    {
     "name": "stdout",
     "output_type": "stream",
     "text": [
      "Moviepy - Done !\n",
      "Moviepy - video ready /mnt/d/serao/busd_cp/test/NonViolence/NONVIOLENCE_1133.mp4\n",
      "Moviepy - Building video /mnt/d/serao/busd_cp/test/NonViolence/NONVIOLENCE_1142.mp4.\n",
      "Moviepy - Writing video /mnt/d/serao/busd_cp/test/NonViolence/NONVIOLENCE_1142.mp4\n",
      "\n"
     ]
    },
    {
     "name": "stderr",
     "output_type": "stream",
     "text": [
      "                                                             \r"
     ]
    },
    {
     "name": "stdout",
     "output_type": "stream",
     "text": [
      "Moviepy - Done !\n",
      "Moviepy - video ready /mnt/d/serao/busd_cp/test/NonViolence/NONVIOLENCE_1142.mp4\n",
      "Moviepy - Building video /mnt/d/serao/busd_cp/test/NonViolence/NONVIOLENCE_1195.mp4.\n",
      "Moviepy - Writing video /mnt/d/serao/busd_cp/test/NonViolence/NONVIOLENCE_1195.mp4\n",
      "\n"
     ]
    },
    {
     "name": "stderr",
     "output_type": "stream",
     "text": [
      "                                                            \r"
     ]
    },
    {
     "name": "stdout",
     "output_type": "stream",
     "text": [
      "Moviepy - Done !\n",
      "Moviepy - video ready /mnt/d/serao/busd_cp/test/NonViolence/NONVIOLENCE_1195.mp4\n",
      "Moviepy - Building video /mnt/d/serao/busd_cp/test/NonViolence/NONVIOLENCE_12.mp4.\n",
      "Moviepy - Writing video /mnt/d/serao/busd_cp/test/NonViolence/NONVIOLENCE_12.mp4\n",
      "\n"
     ]
    },
    {
     "name": "stderr",
     "output_type": "stream",
     "text": [
      "                                                            \r"
     ]
    },
    {
     "name": "stdout",
     "output_type": "stream",
     "text": [
      "Moviepy - Done !\n",
      "Moviepy - video ready /mnt/d/serao/busd_cp/test/NonViolence/NONVIOLENCE_12.mp4\n",
      "Moviepy - Building video /mnt/d/serao/busd_cp/test/NonViolence/NONVIOLENCE_1207.mp4.\n",
      "Moviepy - Writing video /mnt/d/serao/busd_cp/test/NonViolence/NONVIOLENCE_1207.mp4\n",
      "\n"
     ]
    },
    {
     "name": "stderr",
     "output_type": "stream",
     "text": [
      "                                                   \r"
     ]
    },
    {
     "name": "stdout",
     "output_type": "stream",
     "text": [
      "Moviepy - Done !\n",
      "Moviepy - video ready /mnt/d/serao/busd_cp/test/NonViolence/NONVIOLENCE_1207.mp4\n",
      "Moviepy - Building video /mnt/d/serao/busd_cp/test/NonViolence/NONVIOLENCE_1215.mp4.\n",
      "Moviepy - Writing video /mnt/d/serao/busd_cp/test/NonViolence/NONVIOLENCE_1215.mp4\n",
      "\n"
     ]
    },
    {
     "name": "stderr",
     "output_type": "stream",
     "text": [
      "                                                            \r"
     ]
    },
    {
     "name": "stdout",
     "output_type": "stream",
     "text": [
      "Moviepy - Done !\n",
      "Moviepy - video ready /mnt/d/serao/busd_cp/test/NonViolence/NONVIOLENCE_1215.mp4\n",
      "Moviepy - Building video /mnt/d/serao/busd_cp/test/NonViolence/NONVIOLENCE_1281.mp4.\n",
      "Moviepy - Writing video /mnt/d/serao/busd_cp/test/NonViolence/NONVIOLENCE_1281.mp4\n",
      "\n"
     ]
    },
    {
     "name": "stderr",
     "output_type": "stream",
     "text": [
      "                                                             \r"
     ]
    },
    {
     "name": "stdout",
     "output_type": "stream",
     "text": [
      "Moviepy - Done !\n",
      "Moviepy - video ready /mnt/d/serao/busd_cp/test/NonViolence/NONVIOLENCE_1281.mp4\n",
      "Moviepy - Building video /mnt/d/serao/busd_cp/test/NonViolence/NONVIOLENCE_1331.mp4.\n",
      "Moviepy - Writing video /mnt/d/serao/busd_cp/test/NonViolence/NONVIOLENCE_1331.mp4\n",
      "\n"
     ]
    },
    {
     "name": "stderr",
     "output_type": "stream",
     "text": [
      "                                                            \r"
     ]
    },
    {
     "name": "stdout",
     "output_type": "stream",
     "text": [
      "Moviepy - Done !\n",
      "Moviepy - video ready /mnt/d/serao/busd_cp/test/NonViolence/NONVIOLENCE_1331.mp4\n",
      "Moviepy - Building video /mnt/d/serao/busd_cp/test/NonViolence/NONVIOLENCE_1334.mp4.\n",
      "Moviepy - Writing video /mnt/d/serao/busd_cp/test/NonViolence/NONVIOLENCE_1334.mp4\n",
      "\n"
     ]
    },
    {
     "name": "stderr",
     "output_type": "stream",
     "text": [
      "                                                   \r"
     ]
    },
    {
     "name": "stdout",
     "output_type": "stream",
     "text": [
      "Moviepy - Done !\n",
      "Moviepy - video ready /mnt/d/serao/busd_cp/test/NonViolence/NONVIOLENCE_1334.mp4\n",
      "Moviepy - Building video /mnt/d/serao/busd_cp/test/NonViolence/NONVIOLENCE_1339.mp4.\n",
      "Moviepy - Writing video /mnt/d/serao/busd_cp/test/NonViolence/NONVIOLENCE_1339.mp4\n",
      "\n"
     ]
    },
    {
     "name": "stderr",
     "output_type": "stream",
     "text": [
      "                                                   \r"
     ]
    },
    {
     "name": "stdout",
     "output_type": "stream",
     "text": [
      "Moviepy - Done !\n",
      "Moviepy - video ready /mnt/d/serao/busd_cp/test/NonViolence/NONVIOLENCE_1339.mp4\n",
      "Moviepy - Building video /mnt/d/serao/busd_cp/test/NonViolence/NONVIOLENCE_1341.mp4.\n",
      "Moviepy - Writing video /mnt/d/serao/busd_cp/test/NonViolence/NONVIOLENCE_1341.mp4\n",
      "\n"
     ]
    },
    {
     "name": "stderr",
     "output_type": "stream",
     "text": [
      "                                                   \r"
     ]
    },
    {
     "name": "stdout",
     "output_type": "stream",
     "text": [
      "Moviepy - Done !\n",
      "Moviepy - video ready /mnt/d/serao/busd_cp/test/NonViolence/NONVIOLENCE_1341.mp4\n",
      "Moviepy - Building video /mnt/d/serao/busd_cp/test/NonViolence/NONVIOLENCE_1369.mp4.\n",
      "Moviepy - Writing video /mnt/d/serao/busd_cp/test/NonViolence/NONVIOLENCE_1369.mp4\n",
      "\n"
     ]
    },
    {
     "name": "stderr",
     "output_type": "stream",
     "text": [
      "                                                   \r"
     ]
    },
    {
     "name": "stdout",
     "output_type": "stream",
     "text": [
      "Moviepy - Done !\n",
      "Moviepy - video ready /mnt/d/serao/busd_cp/test/NonViolence/NONVIOLENCE_1369.mp4\n",
      "Moviepy - Building video /mnt/d/serao/busd_cp/test/NonViolence/NONVIOLENCE_1386.mp4.\n",
      "Moviepy - Writing video /mnt/d/serao/busd_cp/test/NonViolence/NONVIOLENCE_1386.mp4\n",
      "\n"
     ]
    },
    {
     "name": "stderr",
     "output_type": "stream",
     "text": [
      "                                                            \r"
     ]
    },
    {
     "name": "stdout",
     "output_type": "stream",
     "text": [
      "Moviepy - Done !\n",
      "Moviepy - video ready /mnt/d/serao/busd_cp/test/NonViolence/NONVIOLENCE_1386.mp4\n",
      "Moviepy - Building video /mnt/d/serao/busd_cp/test/NonViolence/NONVIOLENCE_1387.mp4.\n",
      "Moviepy - Writing video /mnt/d/serao/busd_cp/test/NonViolence/NONVIOLENCE_1387.mp4\n",
      "\n"
     ]
    },
    {
     "name": "stderr",
     "output_type": "stream",
     "text": [
      "                                                            \r"
     ]
    },
    {
     "name": "stdout",
     "output_type": "stream",
     "text": [
      "Moviepy - Done !\n",
      "Moviepy - video ready /mnt/d/serao/busd_cp/test/NonViolence/NONVIOLENCE_1387.mp4\n",
      "Moviepy - Building video /mnt/d/serao/busd_cp/test/NonViolence/NONVIOLENCE_1399.mp4.\n",
      "Moviepy - Writing video /mnt/d/serao/busd_cp/test/NonViolence/NONVIOLENCE_1399.mp4\n",
      "\n"
     ]
    },
    {
     "name": "stderr",
     "output_type": "stream",
     "text": [
      "                                                            \r"
     ]
    },
    {
     "name": "stdout",
     "output_type": "stream",
     "text": [
      "Moviepy - Done !\n",
      "Moviepy - video ready /mnt/d/serao/busd_cp/test/NonViolence/NONVIOLENCE_1399.mp4\n",
      "Moviepy - Building video /mnt/d/serao/busd_cp/test/NonViolence/NONVIOLENCE_1401.mp4.\n",
      "Moviepy - Writing video /mnt/d/serao/busd_cp/test/NonViolence/NONVIOLENCE_1401.mp4\n",
      "\n"
     ]
    },
    {
     "name": "stderr",
     "output_type": "stream",
     "text": [
      "                                                            \r"
     ]
    },
    {
     "name": "stdout",
     "output_type": "stream",
     "text": [
      "Moviepy - Done !\n",
      "Moviepy - video ready /mnt/d/serao/busd_cp/test/NonViolence/NONVIOLENCE_1401.mp4\n",
      "Moviepy - Building video /mnt/d/serao/busd_cp/test/NonViolence/NONVIOLENCE_1416.mp4.\n",
      "Moviepy - Writing video /mnt/d/serao/busd_cp/test/NonViolence/NONVIOLENCE_1416.mp4\n",
      "\n"
     ]
    },
    {
     "name": "stderr",
     "output_type": "stream",
     "text": [
      "                                                            \r"
     ]
    },
    {
     "name": "stdout",
     "output_type": "stream",
     "text": [
      "Moviepy - Done !\n",
      "Moviepy - video ready /mnt/d/serao/busd_cp/test/NonViolence/NONVIOLENCE_1416.mp4\n",
      "Moviepy - Building video /mnt/d/serao/busd_cp/test/NonViolence/NONVIOLENCE_1421.mp4.\n",
      "Moviepy - Writing video /mnt/d/serao/busd_cp/test/NonViolence/NONVIOLENCE_1421.mp4\n",
      "\n"
     ]
    },
    {
     "name": "stderr",
     "output_type": "stream",
     "text": [
      "                                                   \r"
     ]
    },
    {
     "name": "stdout",
     "output_type": "stream",
     "text": [
      "Moviepy - Done !\n",
      "Moviepy - video ready /mnt/d/serao/busd_cp/test/NonViolence/NONVIOLENCE_1421.mp4\n",
      "Moviepy - Building video /mnt/d/serao/busd_cp/test/NonViolence/NONVIOLENCE_1425.mp4.\n",
      "Moviepy - Writing video /mnt/d/serao/busd_cp/test/NonViolence/NONVIOLENCE_1425.mp4\n",
      "\n"
     ]
    },
    {
     "name": "stderr",
     "output_type": "stream",
     "text": [
      "                                                             \r"
     ]
    },
    {
     "name": "stdout",
     "output_type": "stream",
     "text": [
      "Moviepy - Done !\n",
      "Moviepy - video ready /mnt/d/serao/busd_cp/test/NonViolence/NONVIOLENCE_1425.mp4\n",
      "Moviepy - Building video /mnt/d/serao/busd_cp/test/NonViolence/NONVIOLENCE_1432.mp4.\n",
      "Moviepy - Writing video /mnt/d/serao/busd_cp/test/NonViolence/NONVIOLENCE_1432.mp4\n",
      "\n"
     ]
    },
    {
     "name": "stderr",
     "output_type": "stream",
     "text": [
      "                                                            \r"
     ]
    },
    {
     "name": "stdout",
     "output_type": "stream",
     "text": [
      "Moviepy - Done !\n",
      "Moviepy - video ready /mnt/d/serao/busd_cp/test/NonViolence/NONVIOLENCE_1432.mp4\n",
      "Moviepy - Building video /mnt/d/serao/busd_cp/test/NonViolence/NONVIOLENCE_1453.mp4.\n",
      "Moviepy - Writing video /mnt/d/serao/busd_cp/test/NonViolence/NONVIOLENCE_1453.mp4\n",
      "\n"
     ]
    },
    {
     "name": "stderr",
     "output_type": "stream",
     "text": [
      "                                                            \r"
     ]
    },
    {
     "name": "stdout",
     "output_type": "stream",
     "text": [
      "Moviepy - Done !\n",
      "Moviepy - video ready /mnt/d/serao/busd_cp/test/NonViolence/NONVIOLENCE_1453.mp4\n",
      "Moviepy - Building video /mnt/d/serao/busd_cp/test/NonViolence/NONVIOLENCE_1454.mp4.\n",
      "Moviepy - Writing video /mnt/d/serao/busd_cp/test/NonViolence/NONVIOLENCE_1454.mp4\n",
      "\n"
     ]
    },
    {
     "name": "stderr",
     "output_type": "stream",
     "text": [
      "                                                   \r"
     ]
    },
    {
     "name": "stdout",
     "output_type": "stream",
     "text": [
      "Moviepy - Done !\n",
      "Moviepy - video ready /mnt/d/serao/busd_cp/test/NonViolence/NONVIOLENCE_1454.mp4\n",
      "Moviepy - Building video /mnt/d/serao/busd_cp/test/NonViolence/NONVIOLENCE_1457.mp4.\n",
      "Moviepy - Writing video /mnt/d/serao/busd_cp/test/NonViolence/NONVIOLENCE_1457.mp4\n",
      "\n"
     ]
    },
    {
     "name": "stderr",
     "output_type": "stream",
     "text": [
      "                                                            \r"
     ]
    },
    {
     "name": "stdout",
     "output_type": "stream",
     "text": [
      "Moviepy - Done !\n",
      "Moviepy - video ready /mnt/d/serao/busd_cp/test/NonViolence/NONVIOLENCE_1457.mp4\n",
      "Moviepy - Building video /mnt/d/serao/busd_cp/test/NonViolence/NONVIOLENCE_1489.mp4.\n",
      "Moviepy - Writing video /mnt/d/serao/busd_cp/test/NonViolence/NONVIOLENCE_1489.mp4\n",
      "\n"
     ]
    },
    {
     "name": "stderr",
     "output_type": "stream",
     "text": [
      "                                                            \r"
     ]
    },
    {
     "name": "stdout",
     "output_type": "stream",
     "text": [
      "Moviepy - Done !\n",
      "Moviepy - video ready /mnt/d/serao/busd_cp/test/NonViolence/NONVIOLENCE_1489.mp4\n",
      "Moviepy - Building video /mnt/d/serao/busd_cp/test/NonViolence/NONVIOLENCE_1491.mp4.\n",
      "Moviepy - Writing video /mnt/d/serao/busd_cp/test/NonViolence/NONVIOLENCE_1491.mp4\n",
      "\n"
     ]
    },
    {
     "name": "stderr",
     "output_type": "stream",
     "text": [
      "                                                            \r"
     ]
    },
    {
     "name": "stdout",
     "output_type": "stream",
     "text": [
      "Moviepy - Done !\n",
      "Moviepy - video ready /mnt/d/serao/busd_cp/test/NonViolence/NONVIOLENCE_1491.mp4\n",
      "Moviepy - Building video /mnt/d/serao/busd_cp/test/NonViolence/NONVIOLENCE_1505.mp4.\n",
      "Moviepy - Writing video /mnt/d/serao/busd_cp/test/NonViolence/NONVIOLENCE_1505.mp4\n",
      "\n"
     ]
    },
    {
     "name": "stderr",
     "output_type": "stream",
     "text": [
      "                                                             \r"
     ]
    },
    {
     "name": "stdout",
     "output_type": "stream",
     "text": [
      "Moviepy - Done !\n",
      "Moviepy - video ready /mnt/d/serao/busd_cp/test/NonViolence/NONVIOLENCE_1505.mp4\n",
      "Moviepy - Building video /mnt/d/serao/busd_cp/test/NonViolence/NONVIOLENCE_1529.mp4.\n",
      "Moviepy - Writing video /mnt/d/serao/busd_cp/test/NonViolence/NONVIOLENCE_1529.mp4\n",
      "\n"
     ]
    },
    {
     "name": "stderr",
     "output_type": "stream",
     "text": [
      "                                                   \r"
     ]
    },
    {
     "name": "stdout",
     "output_type": "stream",
     "text": [
      "Moviepy - Done !\n",
      "Moviepy - video ready /mnt/d/serao/busd_cp/test/NonViolence/NONVIOLENCE_1529.mp4\n",
      "Moviepy - Building video /mnt/d/serao/busd_cp/test/NonViolence/NONVIOLENCE_1530.mp4.\n",
      "Moviepy - Writing video /mnt/d/serao/busd_cp/test/NonViolence/NONVIOLENCE_1530.mp4\n",
      "\n"
     ]
    },
    {
     "name": "stderr",
     "output_type": "stream",
     "text": [
      "                                                             \r"
     ]
    },
    {
     "name": "stdout",
     "output_type": "stream",
     "text": [
      "Moviepy - Done !\n",
      "Moviepy - video ready /mnt/d/serao/busd_cp/test/NonViolence/NONVIOLENCE_1530.mp4\n",
      "Moviepy - Building video /mnt/d/serao/busd_cp/test/NonViolence/NONVIOLENCE_1540.mp4.\n",
      "Moviepy - Writing video /mnt/d/serao/busd_cp/test/NonViolence/NONVIOLENCE_1540.mp4\n",
      "\n"
     ]
    },
    {
     "name": "stderr",
     "output_type": "stream",
     "text": [
      "                                                   \r"
     ]
    },
    {
     "name": "stdout",
     "output_type": "stream",
     "text": [
      "Moviepy - Done !\n",
      "Moviepy - video ready /mnt/d/serao/busd_cp/test/NonViolence/NONVIOLENCE_1540.mp4\n",
      "Moviepy - Building video /mnt/d/serao/busd_cp/test/NonViolence/NONVIOLENCE_1558.mp4.\n",
      "Moviepy - Writing video /mnt/d/serao/busd_cp/test/NonViolence/NONVIOLENCE_1558.mp4\n",
      "\n"
     ]
    },
    {
     "name": "stderr",
     "output_type": "stream",
     "text": [
      "                                                            \r"
     ]
    },
    {
     "name": "stdout",
     "output_type": "stream",
     "text": [
      "Moviepy - Done !\n",
      "Moviepy - video ready /mnt/d/serao/busd_cp/test/NonViolence/NONVIOLENCE_1558.mp4\n",
      "Moviepy - Building video /mnt/d/serao/busd_cp/test/NonViolence/NONVIOLENCE_1567.mp4.\n",
      "Moviepy - Writing video /mnt/d/serao/busd_cp/test/NonViolence/NONVIOLENCE_1567.mp4\n",
      "\n"
     ]
    },
    {
     "name": "stderr",
     "output_type": "stream",
     "text": [
      "                                                            \r"
     ]
    },
    {
     "name": "stdout",
     "output_type": "stream",
     "text": [
      "Moviepy - Done !\n",
      "Moviepy - video ready /mnt/d/serao/busd_cp/test/NonViolence/NONVIOLENCE_1567.mp4\n",
      "Moviepy - Building video /mnt/d/serao/busd_cp/test/NonViolence/NONVIOLENCE_1570.mp4.\n",
      "Moviepy - Writing video /mnt/d/serao/busd_cp/test/NonViolence/NONVIOLENCE_1570.mp4\n",
      "\n"
     ]
    },
    {
     "name": "stderr",
     "output_type": "stream",
     "text": [
      "                                                            \r"
     ]
    },
    {
     "name": "stdout",
     "output_type": "stream",
     "text": [
      "Moviepy - Done !\n",
      "Moviepy - video ready /mnt/d/serao/busd_cp/test/NonViolence/NONVIOLENCE_1570.mp4\n",
      "Moviepy - Building video /mnt/d/serao/busd_cp/test/NonViolence/NONVIOLENCE_1610.mp4.\n",
      "Moviepy - Writing video /mnt/d/serao/busd_cp/test/NonViolence/NONVIOLENCE_1610.mp4\n",
      "\n"
     ]
    },
    {
     "name": "stderr",
     "output_type": "stream",
     "text": [
      "                                                            \r"
     ]
    },
    {
     "name": "stdout",
     "output_type": "stream",
     "text": [
      "Moviepy - Done !\n",
      "Moviepy - video ready /mnt/d/serao/busd_cp/test/NonViolence/NONVIOLENCE_1610.mp4\n",
      "Moviepy - Building video /mnt/d/serao/busd_cp/test/NonViolence/NONVIOLENCE_1629.mp4.\n",
      "Moviepy - Writing video /mnt/d/serao/busd_cp/test/NonViolence/NONVIOLENCE_1629.mp4\n",
      "\n"
     ]
    },
    {
     "name": "stderr",
     "output_type": "stream",
     "text": [
      "                                                            \r"
     ]
    },
    {
     "name": "stdout",
     "output_type": "stream",
     "text": [
      "Moviepy - Done !\n",
      "Moviepy - video ready /mnt/d/serao/busd_cp/test/NonViolence/NONVIOLENCE_1629.mp4\n",
      "Moviepy - Building video /mnt/d/serao/busd_cp/test/NonViolence/NONVIOLENCE_1646.mp4.\n",
      "Moviepy - Writing video /mnt/d/serao/busd_cp/test/NonViolence/NONVIOLENCE_1646.mp4\n",
      "\n"
     ]
    },
    {
     "name": "stderr",
     "output_type": "stream",
     "text": [
      "                                                   \r"
     ]
    },
    {
     "name": "stdout",
     "output_type": "stream",
     "text": [
      "Moviepy - Done !\n",
      "Moviepy - video ready /mnt/d/serao/busd_cp/test/NonViolence/NONVIOLENCE_1646.mp4\n",
      "Moviepy - Building video /mnt/d/serao/busd_cp/test/NonViolence/NONVIOLENCE_1648.mp4.\n",
      "Moviepy - Writing video /mnt/d/serao/busd_cp/test/NonViolence/NONVIOLENCE_1648.mp4\n",
      "\n"
     ]
    },
    {
     "name": "stderr",
     "output_type": "stream",
     "text": [
      "                                                            \r"
     ]
    },
    {
     "name": "stdout",
     "output_type": "stream",
     "text": [
      "Moviepy - Done !\n",
      "Moviepy - video ready /mnt/d/serao/busd_cp/test/NonViolence/NONVIOLENCE_1648.mp4\n",
      "Moviepy - Building video /mnt/d/serao/busd_cp/test/NonViolence/NONVIOLENCE_1656.mp4.\n",
      "Moviepy - Writing video /mnt/d/serao/busd_cp/test/NonViolence/NONVIOLENCE_1656.mp4\n",
      "\n"
     ]
    },
    {
     "name": "stderr",
     "output_type": "stream",
     "text": [
      "                                                            \r"
     ]
    },
    {
     "name": "stdout",
     "output_type": "stream",
     "text": [
      "Moviepy - Done !\n",
      "Moviepy - video ready /mnt/d/serao/busd_cp/test/NonViolence/NONVIOLENCE_1656.mp4\n",
      "Moviepy - Building video /mnt/d/serao/busd_cp/test/NonViolence/NONVIOLENCE_1658.mp4.\n",
      "Moviepy - Writing video /mnt/d/serao/busd_cp/test/NonViolence/NONVIOLENCE_1658.mp4\n",
      "\n"
     ]
    },
    {
     "name": "stderr",
     "output_type": "stream",
     "text": [
      "                                                            \r"
     ]
    },
    {
     "name": "stdout",
     "output_type": "stream",
     "text": [
      "Moviepy - Done !\n",
      "Moviepy - video ready /mnt/d/serao/busd_cp/test/NonViolence/NONVIOLENCE_1658.mp4\n",
      "Moviepy - Building video /mnt/d/serao/busd_cp/test/NonViolence/NONVIOLENCE_1678.mp4.\n",
      "Moviepy - Writing video /mnt/d/serao/busd_cp/test/NonViolence/NONVIOLENCE_1678.mp4\n",
      "\n"
     ]
    },
    {
     "name": "stderr",
     "output_type": "stream",
     "text": [
      "                                                   \r"
     ]
    },
    {
     "name": "stdout",
     "output_type": "stream",
     "text": [
      "Moviepy - Done !\n",
      "Moviepy - video ready /mnt/d/serao/busd_cp/test/NonViolence/NONVIOLENCE_1678.mp4\n",
      "Moviepy - Building video /mnt/d/serao/busd_cp/test/NonViolence/NONVIOLENCE_17.mp4.\n",
      "Moviepy - Writing video /mnt/d/serao/busd_cp/test/NonViolence/NONVIOLENCE_17.mp4\n",
      "\n"
     ]
    },
    {
     "name": "stderr",
     "output_type": "stream",
     "text": [
      "                                                            \r"
     ]
    },
    {
     "name": "stdout",
     "output_type": "stream",
     "text": [
      "Moviepy - Done !\n",
      "Moviepy - video ready /mnt/d/serao/busd_cp/test/NonViolence/NONVIOLENCE_17.mp4\n",
      "Moviepy - Building video /mnt/d/serao/busd_cp/test/NonViolence/NONVIOLENCE_1708.mp4.\n",
      "Moviepy - Writing video /mnt/d/serao/busd_cp/test/NonViolence/NONVIOLENCE_1708.mp4\n",
      "\n"
     ]
    },
    {
     "name": "stderr",
     "output_type": "stream",
     "text": [
      "                                                   \r"
     ]
    },
    {
     "name": "stdout",
     "output_type": "stream",
     "text": [
      "Moviepy - Done !\n",
      "Moviepy - video ready /mnt/d/serao/busd_cp/test/NonViolence/NONVIOLENCE_1708.mp4\n",
      "Moviepy - Building video /mnt/d/serao/busd_cp/test/NonViolence/NONVIOLENCE_1722.mp4.\n",
      "Moviepy - Writing video /mnt/d/serao/busd_cp/test/NonViolence/NONVIOLENCE_1722.mp4\n",
      "\n"
     ]
    },
    {
     "name": "stderr",
     "output_type": "stream",
     "text": [
      "                                                            \r"
     ]
    },
    {
     "name": "stdout",
     "output_type": "stream",
     "text": [
      "Moviepy - Done !\n",
      "Moviepy - video ready /mnt/d/serao/busd_cp/test/NonViolence/NONVIOLENCE_1722.mp4\n",
      "Moviepy - Building video /mnt/d/serao/busd_cp/test/NonViolence/NONVIOLENCE_1736.mp4.\n",
      "Moviepy - Writing video /mnt/d/serao/busd_cp/test/NonViolence/NONVIOLENCE_1736.mp4\n",
      "\n"
     ]
    },
    {
     "name": "stderr",
     "output_type": "stream",
     "text": [
      "                                                   \r"
     ]
    },
    {
     "name": "stdout",
     "output_type": "stream",
     "text": [
      "Moviepy - Done !\n",
      "Moviepy - video ready /mnt/d/serao/busd_cp/test/NonViolence/NONVIOLENCE_1736.mp4\n",
      "Moviepy - Building video /mnt/d/serao/busd_cp/test/NonViolence/NONVIOLENCE_1758.mp4.\n",
      "Moviepy - Writing video /mnt/d/serao/busd_cp/test/NonViolence/NONVIOLENCE_1758.mp4\n",
      "\n"
     ]
    },
    {
     "name": "stderr",
     "output_type": "stream",
     "text": [
      "                                                            \r"
     ]
    },
    {
     "name": "stdout",
     "output_type": "stream",
     "text": [
      "Moviepy - Done !\n",
      "Moviepy - video ready /mnt/d/serao/busd_cp/test/NonViolence/NONVIOLENCE_1758.mp4\n",
      "Moviepy - Building video /mnt/d/serao/busd_cp/test/NonViolence/NONVIOLENCE_1770.mp4.\n",
      "Moviepy - Writing video /mnt/d/serao/busd_cp/test/NonViolence/NONVIOLENCE_1770.mp4\n",
      "\n"
     ]
    },
    {
     "name": "stderr",
     "output_type": "stream",
     "text": [
      "                                                            \r"
     ]
    },
    {
     "name": "stdout",
     "output_type": "stream",
     "text": [
      "Moviepy - Done !\n",
      "Moviepy - video ready /mnt/d/serao/busd_cp/test/NonViolence/NONVIOLENCE_1770.mp4\n",
      "Moviepy - Building video /mnt/d/serao/busd_cp/test/NonViolence/NONVIOLENCE_1778.mp4.\n",
      "Moviepy - Writing video /mnt/d/serao/busd_cp/test/NonViolence/NONVIOLENCE_1778.mp4\n",
      "\n"
     ]
    },
    {
     "name": "stderr",
     "output_type": "stream",
     "text": [
      "                                                            \r"
     ]
    },
    {
     "name": "stdout",
     "output_type": "stream",
     "text": [
      "Moviepy - Done !\n",
      "Moviepy - video ready /mnt/d/serao/busd_cp/test/NonViolence/NONVIOLENCE_1778.mp4\n",
      "Moviepy - Building video /mnt/d/serao/busd_cp/test/NonViolence/NONVIOLENCE_1788.mp4.\n",
      "Moviepy - Writing video /mnt/d/serao/busd_cp/test/NonViolence/NONVIOLENCE_1788.mp4\n",
      "\n"
     ]
    },
    {
     "name": "stderr",
     "output_type": "stream",
     "text": [
      "                                                   \r"
     ]
    },
    {
     "name": "stdout",
     "output_type": "stream",
     "text": [
      "Moviepy - Done !\n",
      "Moviepy - video ready /mnt/d/serao/busd_cp/test/NonViolence/NONVIOLENCE_1788.mp4\n",
      "Moviepy - Building video /mnt/d/serao/busd_cp/test/NonViolence/NONVIOLENCE_1800.mp4.\n",
      "Moviepy - Writing video /mnt/d/serao/busd_cp/test/NonViolence/NONVIOLENCE_1800.mp4\n",
      "\n"
     ]
    },
    {
     "name": "stderr",
     "output_type": "stream",
     "text": [
      "                                                            \r"
     ]
    },
    {
     "name": "stdout",
     "output_type": "stream",
     "text": [
      "Moviepy - Done !\n",
      "Moviepy - video ready /mnt/d/serao/busd_cp/test/NonViolence/NONVIOLENCE_1800.mp4\n",
      "Moviepy - Building video /mnt/d/serao/busd_cp/test/NonViolence/NONVIOLENCE_1816.mp4.\n",
      "Moviepy - Writing video /mnt/d/serao/busd_cp/test/NonViolence/NONVIOLENCE_1816.mp4\n",
      "\n"
     ]
    },
    {
     "name": "stderr",
     "output_type": "stream",
     "text": [
      "                                                            \r"
     ]
    },
    {
     "name": "stdout",
     "output_type": "stream",
     "text": [
      "Moviepy - Done !\n",
      "Moviepy - video ready /mnt/d/serao/busd_cp/test/NonViolence/NONVIOLENCE_1816.mp4\n",
      "Moviepy - Building video /mnt/d/serao/busd_cp/test/NonViolence/NONVIOLENCE_1826.mp4.\n",
      "Moviepy - Writing video /mnt/d/serao/busd_cp/test/NonViolence/NONVIOLENCE_1826.mp4\n",
      "\n"
     ]
    },
    {
     "name": "stderr",
     "output_type": "stream",
     "text": [
      "                                                   \r"
     ]
    },
    {
     "name": "stdout",
     "output_type": "stream",
     "text": [
      "Moviepy - Done !\n",
      "Moviepy - video ready /mnt/d/serao/busd_cp/test/NonViolence/NONVIOLENCE_1826.mp4\n",
      "Moviepy - Building video /mnt/d/serao/busd_cp/test/NonViolence/NONVIOLENCE_1828.mp4.\n",
      "Moviepy - Writing video /mnt/d/serao/busd_cp/test/NonViolence/NONVIOLENCE_1828.mp4\n",
      "\n"
     ]
    },
    {
     "name": "stderr",
     "output_type": "stream",
     "text": [
      "                                                            \r"
     ]
    },
    {
     "name": "stdout",
     "output_type": "stream",
     "text": [
      "Moviepy - Done !\n",
      "Moviepy - video ready /mnt/d/serao/busd_cp/test/NonViolence/NONVIOLENCE_1828.mp4\n",
      "Moviepy - Building video /mnt/d/serao/busd_cp/test/NonViolence/NONVIOLENCE_1833.mp4.\n",
      "Moviepy - Writing video /mnt/d/serao/busd_cp/test/NonViolence/NONVIOLENCE_1833.mp4\n",
      "\n"
     ]
    },
    {
     "name": "stderr",
     "output_type": "stream",
     "text": [
      "                                                            \r"
     ]
    },
    {
     "name": "stdout",
     "output_type": "stream",
     "text": [
      "Moviepy - Done !\n",
      "Moviepy - video ready /mnt/d/serao/busd_cp/test/NonViolence/NONVIOLENCE_1833.mp4\n",
      "Moviepy - Building video /mnt/d/serao/busd_cp/test/NonViolence/NONVIOLENCE_1835.mp4.\n",
      "Moviepy - Writing video /mnt/d/serao/busd_cp/test/NonViolence/NONVIOLENCE_1835.mp4\n",
      "\n"
     ]
    },
    {
     "name": "stderr",
     "output_type": "stream",
     "text": [
      "                                                            \r"
     ]
    },
    {
     "name": "stdout",
     "output_type": "stream",
     "text": [
      "Moviepy - Done !\n",
      "Moviepy - video ready /mnt/d/serao/busd_cp/test/NonViolence/NONVIOLENCE_1835.mp4\n",
      "Moviepy - Building video /mnt/d/serao/busd_cp/test/NonViolence/NONVIOLENCE_185.mp4.\n",
      "Moviepy - Writing video /mnt/d/serao/busd_cp/test/NonViolence/NONVIOLENCE_185.mp4\n",
      "\n"
     ]
    },
    {
     "name": "stderr",
     "output_type": "stream",
     "text": [
      "                                                            \r"
     ]
    },
    {
     "name": "stdout",
     "output_type": "stream",
     "text": [
      "Moviepy - Done !\n",
      "Moviepy - video ready /mnt/d/serao/busd_cp/test/NonViolence/NONVIOLENCE_185.mp4\n",
      "Moviepy - Building video /mnt/d/serao/busd_cp/test/NonViolence/NONVIOLENCE_1859.mp4.\n",
      "Moviepy - Writing video /mnt/d/serao/busd_cp/test/NonViolence/NONVIOLENCE_1859.mp4\n",
      "\n"
     ]
    },
    {
     "name": "stderr",
     "output_type": "stream",
     "text": [
      "                                                             \r"
     ]
    },
    {
     "name": "stdout",
     "output_type": "stream",
     "text": [
      "Moviepy - Done !\n",
      "Moviepy - video ready /mnt/d/serao/busd_cp/test/NonViolence/NONVIOLENCE_1859.mp4\n",
      "Moviepy - Building video /mnt/d/serao/busd_cp/test/NonViolence/NONVIOLENCE_1866.mp4.\n",
      "Moviepy - Writing video /mnt/d/serao/busd_cp/test/NonViolence/NONVIOLENCE_1866.mp4\n",
      "\n"
     ]
    },
    {
     "name": "stderr",
     "output_type": "stream",
     "text": [
      "                                                            \r"
     ]
    },
    {
     "name": "stdout",
     "output_type": "stream",
     "text": [
      "Moviepy - Done !\n",
      "Moviepy - video ready /mnt/d/serao/busd_cp/test/NonViolence/NONVIOLENCE_1866.mp4\n",
      "Moviepy - Building video /mnt/d/serao/busd_cp/test/NonViolence/NONVIOLENCE_187.mp4.\n",
      "Moviepy - Writing video /mnt/d/serao/busd_cp/test/NonViolence/NONVIOLENCE_187.mp4\n",
      "\n"
     ]
    },
    {
     "name": "stderr",
     "output_type": "stream",
     "text": [
      "                                                   \r"
     ]
    },
    {
     "name": "stdout",
     "output_type": "stream",
     "text": [
      "Moviepy - Done !\n",
      "Moviepy - video ready /mnt/d/serao/busd_cp/test/NonViolence/NONVIOLENCE_187.mp4\n",
      "Moviepy - Building video /mnt/d/serao/busd_cp/test/NonViolence/NONVIOLENCE_1875.mp4.\n",
      "Moviepy - Writing video /mnt/d/serao/busd_cp/test/NonViolence/NONVIOLENCE_1875.mp4\n",
      "\n"
     ]
    },
    {
     "name": "stderr",
     "output_type": "stream",
     "text": [
      "                                                   \r"
     ]
    },
    {
     "name": "stdout",
     "output_type": "stream",
     "text": [
      "Moviepy - Done !\n",
      "Moviepy - video ready /mnt/d/serao/busd_cp/test/NonViolence/NONVIOLENCE_1875.mp4\n",
      "Moviepy - Building video /mnt/d/serao/busd_cp/test/NonViolence/NONVIOLENCE_1913.mp4.\n",
      "Moviepy - Writing video /mnt/d/serao/busd_cp/test/NonViolence/NONVIOLENCE_1913.mp4\n",
      "\n"
     ]
    },
    {
     "name": "stderr",
     "output_type": "stream",
     "text": [
      "                                                            \r"
     ]
    },
    {
     "name": "stdout",
     "output_type": "stream",
     "text": [
      "Moviepy - Done !\n",
      "Moviepy - video ready /mnt/d/serao/busd_cp/test/NonViolence/NONVIOLENCE_1913.mp4\n",
      "Moviepy - Building video /mnt/d/serao/busd_cp/test/NonViolence/NONVIOLENCE_1917.mp4.\n",
      "Moviepy - Writing video /mnt/d/serao/busd_cp/test/NonViolence/NONVIOLENCE_1917.mp4\n",
      "\n"
     ]
    },
    {
     "name": "stderr",
     "output_type": "stream",
     "text": [
      "                                                            \r"
     ]
    },
    {
     "name": "stdout",
     "output_type": "stream",
     "text": [
      "Moviepy - Done !\n",
      "Moviepy - video ready /mnt/d/serao/busd_cp/test/NonViolence/NONVIOLENCE_1917.mp4\n",
      "Moviepy - Building video /mnt/d/serao/busd_cp/test/NonViolence/NONVIOLENCE_194.mp4.\n",
      "Moviepy - Writing video /mnt/d/serao/busd_cp/test/NonViolence/NONVIOLENCE_194.mp4\n",
      "\n"
     ]
    },
    {
     "name": "stderr",
     "output_type": "stream",
     "text": [
      "                                                   \r"
     ]
    },
    {
     "name": "stdout",
     "output_type": "stream",
     "text": [
      "Moviepy - Done !\n",
      "Moviepy - video ready /mnt/d/serao/busd_cp/test/NonViolence/NONVIOLENCE_194.mp4\n",
      "Moviepy - Building video /mnt/d/serao/busd_cp/test/NonViolence/NONVIOLENCE_1947.mp4.\n",
      "Moviepy - Writing video /mnt/d/serao/busd_cp/test/NonViolence/NONVIOLENCE_1947.mp4\n",
      "\n"
     ]
    },
    {
     "name": "stderr",
     "output_type": "stream",
     "text": [
      "                                                            \r"
     ]
    },
    {
     "name": "stdout",
     "output_type": "stream",
     "text": [
      "Moviepy - Done !\n",
      "Moviepy - video ready /mnt/d/serao/busd_cp/test/NonViolence/NONVIOLENCE_1947.mp4\n",
      "Moviepy - Building video /mnt/d/serao/busd_cp/test/NonViolence/NONVIOLENCE_195.mp4.\n",
      "Moviepy - Writing video /mnt/d/serao/busd_cp/test/NonViolence/NONVIOLENCE_195.mp4\n",
      "\n"
     ]
    },
    {
     "name": "stderr",
     "output_type": "stream",
     "text": [
      "                                                   \r"
     ]
    },
    {
     "name": "stdout",
     "output_type": "stream",
     "text": [
      "Moviepy - Done !\n",
      "Moviepy - video ready /mnt/d/serao/busd_cp/test/NonViolence/NONVIOLENCE_195.mp4\n",
      "Moviepy - Building video /mnt/d/serao/busd_cp/test/NonViolence/NONVIOLENCE_1950.mp4.\n",
      "Moviepy - Writing video /mnt/d/serao/busd_cp/test/NonViolence/NONVIOLENCE_1950.mp4\n",
      "\n"
     ]
    },
    {
     "name": "stderr",
     "output_type": "stream",
     "text": [
      "                                                             \r"
     ]
    },
    {
     "name": "stdout",
     "output_type": "stream",
     "text": [
      "Moviepy - Done !\n",
      "Moviepy - video ready /mnt/d/serao/busd_cp/test/NonViolence/NONVIOLENCE_1950.mp4\n",
      "Moviepy - Building video /mnt/d/serao/busd_cp/test/NonViolence/NONVIOLENCE_1959.mp4.\n",
      "Moviepy - Writing video /mnt/d/serao/busd_cp/test/NonViolence/NONVIOLENCE_1959.mp4\n",
      "\n"
     ]
    },
    {
     "name": "stderr",
     "output_type": "stream",
     "text": [
      "                                                            \r"
     ]
    },
    {
     "name": "stdout",
     "output_type": "stream",
     "text": [
      "Moviepy - Done !\n",
      "Moviepy - video ready /mnt/d/serao/busd_cp/test/NonViolence/NONVIOLENCE_1959.mp4\n",
      "Moviepy - Building video /mnt/d/serao/busd_cp/test/NonViolence/NONVIOLENCE_1963.mp4.\n",
      "Moviepy - Writing video /mnt/d/serao/busd_cp/test/NonViolence/NONVIOLENCE_1963.mp4\n",
      "\n"
     ]
    },
    {
     "name": "stderr",
     "output_type": "stream",
     "text": [
      "                                                            \r"
     ]
    },
    {
     "name": "stdout",
     "output_type": "stream",
     "text": [
      "Moviepy - Done !\n",
      "Moviepy - video ready /mnt/d/serao/busd_cp/test/NonViolence/NONVIOLENCE_1963.mp4\n",
      "Moviepy - Building video /mnt/d/serao/busd_cp/test/NonViolence/NONVIOLENCE_1998.mp4.\n",
      "Moviepy - Writing video /mnt/d/serao/busd_cp/test/NonViolence/NONVIOLENCE_1998.mp4\n",
      "\n"
     ]
    },
    {
     "name": "stderr",
     "output_type": "stream",
     "text": [
      "                                                             \r"
     ]
    },
    {
     "name": "stdout",
     "output_type": "stream",
     "text": [
      "Moviepy - Done !\n",
      "Moviepy - video ready /mnt/d/serao/busd_cp/test/NonViolence/NONVIOLENCE_1998.mp4\n",
      "Moviepy - Building video /mnt/d/serao/busd_cp/test/NonViolence/NONVIOLENCE_2011.mp4.\n",
      "Moviepy - Writing video /mnt/d/serao/busd_cp/test/NonViolence/NONVIOLENCE_2011.mp4\n",
      "\n"
     ]
    },
    {
     "name": "stderr",
     "output_type": "stream",
     "text": [
      "                                                             \r"
     ]
    },
    {
     "name": "stdout",
     "output_type": "stream",
     "text": [
      "Moviepy - Done !\n",
      "Moviepy - video ready /mnt/d/serao/busd_cp/test/NonViolence/NONVIOLENCE_2011.mp4\n",
      "Moviepy - Building video /mnt/d/serao/busd_cp/test/NonViolence/NONVIOLENCE_2018.mp4.\n",
      "Moviepy - Writing video /mnt/d/serao/busd_cp/test/NonViolence/NONVIOLENCE_2018.mp4\n",
      "\n"
     ]
    },
    {
     "name": "stderr",
     "output_type": "stream",
     "text": [
      "                                                            \r"
     ]
    },
    {
     "name": "stdout",
     "output_type": "stream",
     "text": [
      "Moviepy - Done !\n",
      "Moviepy - video ready /mnt/d/serao/busd_cp/test/NonViolence/NONVIOLENCE_2018.mp4\n",
      "Moviepy - Building video /mnt/d/serao/busd_cp/test/NonViolence/NONVIOLENCE_2034.mp4.\n",
      "Moviepy - Writing video /mnt/d/serao/busd_cp/test/NonViolence/NONVIOLENCE_2034.mp4\n",
      "\n"
     ]
    },
    {
     "name": "stderr",
     "output_type": "stream",
     "text": [
      "                                                   \r"
     ]
    },
    {
     "name": "stdout",
     "output_type": "stream",
     "text": [
      "Moviepy - Done !\n",
      "Moviepy - video ready /mnt/d/serao/busd_cp/test/NonViolence/NONVIOLENCE_2034.mp4\n",
      "Moviepy - Building video /mnt/d/serao/busd_cp/test/NonViolence/NONVIOLENCE_2037.mp4.\n",
      "Moviepy - Writing video /mnt/d/serao/busd_cp/test/NonViolence/NONVIOLENCE_2037.mp4\n",
      "\n"
     ]
    },
    {
     "name": "stderr",
     "output_type": "stream",
     "text": [
      "                                                            \r"
     ]
    },
    {
     "name": "stdout",
     "output_type": "stream",
     "text": [
      "Moviepy - Done !\n",
      "Moviepy - video ready /mnt/d/serao/busd_cp/test/NonViolence/NONVIOLENCE_2037.mp4\n",
      "Moviepy - Building video /mnt/d/serao/busd_cp/test/NonViolence/NONVIOLENCE_2068.mp4.\n",
      "Moviepy - Writing video /mnt/d/serao/busd_cp/test/NonViolence/NONVIOLENCE_2068.mp4\n",
      "\n"
     ]
    },
    {
     "name": "stderr",
     "output_type": "stream",
     "text": [
      "                                                   \r"
     ]
    },
    {
     "name": "stdout",
     "output_type": "stream",
     "text": [
      "Moviepy - Done !\n",
      "Moviepy - video ready /mnt/d/serao/busd_cp/test/NonViolence/NONVIOLENCE_2068.mp4\n",
      "Moviepy - Building video /mnt/d/serao/busd_cp/test/NonViolence/NONVIOLENCE_2073.mp4.\n",
      "Moviepy - Writing video /mnt/d/serao/busd_cp/test/NonViolence/NONVIOLENCE_2073.mp4\n",
      "\n"
     ]
    },
    {
     "name": "stderr",
     "output_type": "stream",
     "text": [
      "                                                   \r"
     ]
    },
    {
     "name": "stdout",
     "output_type": "stream",
     "text": [
      "Moviepy - Done !\n",
      "Moviepy - video ready /mnt/d/serao/busd_cp/test/NonViolence/NONVIOLENCE_2073.mp4\n",
      "Moviepy - Building video /mnt/d/serao/busd_cp/test/NonViolence/NONVIOLENCE_2078.mp4.\n",
      "Moviepy - Writing video /mnt/d/serao/busd_cp/test/NonViolence/NONVIOLENCE_2078.mp4\n",
      "\n"
     ]
    },
    {
     "name": "stderr",
     "output_type": "stream",
     "text": [
      "                                                   \r"
     ]
    },
    {
     "name": "stdout",
     "output_type": "stream",
     "text": [
      "Moviepy - Done !\n",
      "Moviepy - video ready /mnt/d/serao/busd_cp/test/NonViolence/NONVIOLENCE_2078.mp4\n",
      "Moviepy - Building video /mnt/d/serao/busd_cp/test/NonViolence/NONVIOLENCE_2112.mp4.\n",
      "Moviepy - Writing video /mnt/d/serao/busd_cp/test/NonViolence/NONVIOLENCE_2112.mp4\n",
      "\n"
     ]
    },
    {
     "name": "stderr",
     "output_type": "stream",
     "text": [
      "                                                            \r"
     ]
    },
    {
     "name": "stdout",
     "output_type": "stream",
     "text": [
      "Moviepy - Done !\n",
      "Moviepy - video ready /mnt/d/serao/busd_cp/test/NonViolence/NONVIOLENCE_2112.mp4\n",
      "Moviepy - Building video /mnt/d/serao/busd_cp/test/NonViolence/NONVIOLENCE_2116.mp4.\n",
      "Moviepy - Writing video /mnt/d/serao/busd_cp/test/NonViolence/NONVIOLENCE_2116.mp4\n",
      "\n"
     ]
    },
    {
     "name": "stderr",
     "output_type": "stream",
     "text": [
      "                                                   \r"
     ]
    },
    {
     "name": "stdout",
     "output_type": "stream",
     "text": [
      "Moviepy - Done !\n",
      "Moviepy - video ready /mnt/d/serao/busd_cp/test/NonViolence/NONVIOLENCE_2116.mp4\n",
      "Moviepy - Building video /mnt/d/serao/busd_cp/test/NonViolence/NONVIOLENCE_2127.mp4.\n",
      "Moviepy - Writing video /mnt/d/serao/busd_cp/test/NonViolence/NONVIOLENCE_2127.mp4\n",
      "\n"
     ]
    },
    {
     "name": "stderr",
     "output_type": "stream",
     "text": [
      "                                                   \r"
     ]
    },
    {
     "name": "stdout",
     "output_type": "stream",
     "text": [
      "Moviepy - Done !\n",
      "Moviepy - video ready /mnt/d/serao/busd_cp/test/NonViolence/NONVIOLENCE_2127.mp4\n",
      "Moviepy - Building video /mnt/d/serao/busd_cp/test/NonViolence/NONVIOLENCE_214.mp4.\n",
      "Moviepy - Writing video /mnt/d/serao/busd_cp/test/NonViolence/NONVIOLENCE_214.mp4\n",
      "\n"
     ]
    },
    {
     "name": "stderr",
     "output_type": "stream",
     "text": [
      "                                                             \r"
     ]
    },
    {
     "name": "stdout",
     "output_type": "stream",
     "text": [
      "Moviepy - Done !\n",
      "Moviepy - video ready /mnt/d/serao/busd_cp/test/NonViolence/NONVIOLENCE_214.mp4\n",
      "Moviepy - Building video /mnt/d/serao/busd_cp/test/NonViolence/NONVIOLENCE_2142.mp4.\n",
      "Moviepy - Writing video /mnt/d/serao/busd_cp/test/NonViolence/NONVIOLENCE_2142.mp4\n",
      "\n"
     ]
    },
    {
     "name": "stderr",
     "output_type": "stream",
     "text": [
      "                                                   \r"
     ]
    },
    {
     "name": "stdout",
     "output_type": "stream",
     "text": [
      "Moviepy - Done !\n",
      "Moviepy - video ready /mnt/d/serao/busd_cp/test/NonViolence/NONVIOLENCE_2142.mp4\n",
      "Moviepy - Building video /mnt/d/serao/busd_cp/test/NonViolence/NONVIOLENCE_215.mp4.\n",
      "Moviepy - Writing video /mnt/d/serao/busd_cp/test/NonViolence/NONVIOLENCE_215.mp4\n",
      "\n"
     ]
    },
    {
     "name": "stderr",
     "output_type": "stream",
     "text": [
      "                                                            \r"
     ]
    },
    {
     "name": "stdout",
     "output_type": "stream",
     "text": [
      "Moviepy - Done !\n",
      "Moviepy - video ready /mnt/d/serao/busd_cp/test/NonViolence/NONVIOLENCE_215.mp4\n",
      "Moviepy - Building video /mnt/d/serao/busd_cp/test/NonViolence/NONVIOLENCE_2152.mp4.\n",
      "Moviepy - Writing video /mnt/d/serao/busd_cp/test/NonViolence/NONVIOLENCE_2152.mp4\n",
      "\n"
     ]
    },
    {
     "name": "stderr",
     "output_type": "stream",
     "text": [
      "                                                            \r"
     ]
    },
    {
     "name": "stdout",
     "output_type": "stream",
     "text": [
      "Moviepy - Done !\n",
      "Moviepy - video ready /mnt/d/serao/busd_cp/test/NonViolence/NONVIOLENCE_2152.mp4\n",
      "Moviepy - Building video /mnt/d/serao/busd_cp/test/NonViolence/NONVIOLENCE_2161.mp4.\n",
      "Moviepy - Writing video /mnt/d/serao/busd_cp/test/NonViolence/NONVIOLENCE_2161.mp4\n",
      "\n"
     ]
    },
    {
     "name": "stderr",
     "output_type": "stream",
     "text": [
      "                                                   \r"
     ]
    },
    {
     "name": "stdout",
     "output_type": "stream",
     "text": [
      "Moviepy - Done !\n",
      "Moviepy - video ready /mnt/d/serao/busd_cp/test/NonViolence/NONVIOLENCE_2161.mp4\n",
      "Moviepy - Building video /mnt/d/serao/busd_cp/test/NonViolence/NONVIOLENCE_219.mp4.\n",
      "Moviepy - Writing video /mnt/d/serao/busd_cp/test/NonViolence/NONVIOLENCE_219.mp4\n",
      "\n"
     ]
    },
    {
     "name": "stderr",
     "output_type": "stream",
     "text": [
      "                                                            \r"
     ]
    },
    {
     "name": "stdout",
     "output_type": "stream",
     "text": [
      "Moviepy - Done !\n",
      "Moviepy - video ready /mnt/d/serao/busd_cp/test/NonViolence/NONVIOLENCE_219.mp4\n",
      "Moviepy - Building video /mnt/d/serao/busd_cp/test/NonViolence/NONVIOLENCE_2204.mp4.\n",
      "Moviepy - Writing video /mnt/d/serao/busd_cp/test/NonViolence/NONVIOLENCE_2204.mp4\n",
      "\n"
     ]
    },
    {
     "name": "stderr",
     "output_type": "stream",
     "text": [
      "                                                            \r"
     ]
    },
    {
     "name": "stdout",
     "output_type": "stream",
     "text": [
      "Moviepy - Done !\n",
      "Moviepy - video ready /mnt/d/serao/busd_cp/test/NonViolence/NONVIOLENCE_2204.mp4\n",
      "Moviepy - Building video /mnt/d/serao/busd_cp/test/NonViolence/NONVIOLENCE_2214.mp4.\n",
      "Moviepy - Writing video /mnt/d/serao/busd_cp/test/NonViolence/NONVIOLENCE_2214.mp4\n",
      "\n"
     ]
    },
    {
     "name": "stderr",
     "output_type": "stream",
     "text": [
      "                                                            \r"
     ]
    },
    {
     "name": "stdout",
     "output_type": "stream",
     "text": [
      "Moviepy - Done !\n",
      "Moviepy - video ready /mnt/d/serao/busd_cp/test/NonViolence/NONVIOLENCE_2214.mp4\n",
      "Moviepy - Building video /mnt/d/serao/busd_cp/test/NonViolence/NONVIOLENCE_2218.mp4.\n",
      "Moviepy - Writing video /mnt/d/serao/busd_cp/test/NonViolence/NONVIOLENCE_2218.mp4\n",
      "\n"
     ]
    },
    {
     "name": "stderr",
     "output_type": "stream",
     "text": [
      "                                                   \r"
     ]
    },
    {
     "name": "stdout",
     "output_type": "stream",
     "text": [
      "Moviepy - Done !\n",
      "Moviepy - video ready /mnt/d/serao/busd_cp/test/NonViolence/NONVIOLENCE_2218.mp4\n",
      "Moviepy - Building video /mnt/d/serao/busd_cp/test/NonViolence/NONVIOLENCE_2237.mp4.\n",
      "Moviepy - Writing video /mnt/d/serao/busd_cp/test/NonViolence/NONVIOLENCE_2237.mp4\n",
      "\n"
     ]
    },
    {
     "name": "stderr",
     "output_type": "stream",
     "text": [
      "                                                            \r"
     ]
    },
    {
     "name": "stdout",
     "output_type": "stream",
     "text": [
      "Moviepy - Done !\n",
      "Moviepy - video ready /mnt/d/serao/busd_cp/test/NonViolence/NONVIOLENCE_2237.mp4\n",
      "Moviepy - Building video /mnt/d/serao/busd_cp/test/NonViolence/NONVIOLENCE_2252.mp4.\n",
      "Moviepy - Writing video /mnt/d/serao/busd_cp/test/NonViolence/NONVIOLENCE_2252.mp4\n",
      "\n"
     ]
    },
    {
     "name": "stderr",
     "output_type": "stream",
     "text": [
      "                                                   \r"
     ]
    },
    {
     "name": "stdout",
     "output_type": "stream",
     "text": [
      "Moviepy - Done !\n",
      "Moviepy - video ready /mnt/d/serao/busd_cp/test/NonViolence/NONVIOLENCE_2252.mp4\n",
      "Moviepy - Building video /mnt/d/serao/busd_cp/test/NonViolence/NONVIOLENCE_2255.mp4.\n",
      "Moviepy - Writing video /mnt/d/serao/busd_cp/test/NonViolence/NONVIOLENCE_2255.mp4\n",
      "\n"
     ]
    },
    {
     "name": "stderr",
     "output_type": "stream",
     "text": [
      "                                                            \r"
     ]
    },
    {
     "name": "stdout",
     "output_type": "stream",
     "text": [
      "Moviepy - Done !\n",
      "Moviepy - video ready /mnt/d/serao/busd_cp/test/NonViolence/NONVIOLENCE_2255.mp4\n",
      "Moviepy - Building video /mnt/d/serao/busd_cp/test/NonViolence/NONVIOLENCE_2261.mp4.\n",
      "Moviepy - Writing video /mnt/d/serao/busd_cp/test/NonViolence/NONVIOLENCE_2261.mp4\n",
      "\n"
     ]
    },
    {
     "name": "stderr",
     "output_type": "stream",
     "text": [
      "                                                             \r"
     ]
    },
    {
     "name": "stdout",
     "output_type": "stream",
     "text": [
      "Moviepy - Done !\n",
      "Moviepy - video ready /mnt/d/serao/busd_cp/test/NonViolence/NONVIOLENCE_2261.mp4\n",
      "Moviepy - Building video /mnt/d/serao/busd_cp/test/NonViolence/NONVIOLENCE_2263.mp4.\n",
      "Moviepy - Writing video /mnt/d/serao/busd_cp/test/NonViolence/NONVIOLENCE_2263.mp4\n",
      "\n"
     ]
    },
    {
     "name": "stderr",
     "output_type": "stream",
     "text": [
      "                                                             \r"
     ]
    },
    {
     "name": "stdout",
     "output_type": "stream",
     "text": [
      "Moviepy - Done !\n",
      "Moviepy - video ready /mnt/d/serao/busd_cp/test/NonViolence/NONVIOLENCE_2263.mp4\n",
      "Moviepy - Building video /mnt/d/serao/busd_cp/test/NonViolence/NONVIOLENCE_2293.mp4.\n",
      "Moviepy - Writing video /mnt/d/serao/busd_cp/test/NonViolence/NONVIOLENCE_2293.mp4\n",
      "\n"
     ]
    },
    {
     "name": "stderr",
     "output_type": "stream",
     "text": [
      "                                                   \r"
     ]
    },
    {
     "name": "stdout",
     "output_type": "stream",
     "text": [
      "Moviepy - Done !\n",
      "Moviepy - video ready /mnt/d/serao/busd_cp/test/NonViolence/NONVIOLENCE_2293.mp4\n",
      "Moviepy - Building video /mnt/d/serao/busd_cp/test/NonViolence/NONVIOLENCE_2296.mp4.\n",
      "Moviepy - Writing video /mnt/d/serao/busd_cp/test/NonViolence/NONVIOLENCE_2296.mp4\n",
      "\n"
     ]
    },
    {
     "name": "stderr",
     "output_type": "stream",
     "text": [
      "                                                   \r"
     ]
    },
    {
     "name": "stdout",
     "output_type": "stream",
     "text": [
      "Moviepy - Done !\n",
      "Moviepy - video ready /mnt/d/serao/busd_cp/test/NonViolence/NONVIOLENCE_2296.mp4\n",
      "Moviepy - Building video /mnt/d/serao/busd_cp/test/NonViolence/NONVIOLENCE_2313.mp4.\n",
      "Moviepy - Writing video /mnt/d/serao/busd_cp/test/NonViolence/NONVIOLENCE_2313.mp4\n",
      "\n"
     ]
    },
    {
     "name": "stderr",
     "output_type": "stream",
     "text": [
      "                                                   "
     ]
    },
    {
     "name": "stdout",
     "output_type": "stream",
     "text": [
      "Moviepy - Done !\n",
      "Moviepy - video ready /mnt/d/serao/busd_cp/test/NonViolence/NONVIOLENCE_2313.mp4\n"
     ]
    },
    {
     "name": "stderr",
     "output_type": "stream",
     "text": [
      "\r"
     ]
    },
    {
     "name": "stdout",
     "output_type": "stream",
     "text": [
      "Moviepy - Building video /mnt/d/serao/busd_cp/test/NonViolence/NONVIOLENCE_2323.mp4.\n",
      "Moviepy - Writing video /mnt/d/serao/busd_cp/test/NonViolence/NONVIOLENCE_2323.mp4\n",
      "\n"
     ]
    },
    {
     "name": "stderr",
     "output_type": "stream",
     "text": [
      "                                                            \r"
     ]
    },
    {
     "name": "stdout",
     "output_type": "stream",
     "text": [
      "Moviepy - Done !\n",
      "Moviepy - video ready /mnt/d/serao/busd_cp/test/NonViolence/NONVIOLENCE_2323.mp4\n",
      "Moviepy - Building video /mnt/d/serao/busd_cp/test/NonViolence/NONVIOLENCE_2324.mp4.\n",
      "Moviepy - Writing video /mnt/d/serao/busd_cp/test/NonViolence/NONVIOLENCE_2324.mp4\n",
      "\n"
     ]
    },
    {
     "name": "stderr",
     "output_type": "stream",
     "text": [
      "                                                            \r"
     ]
    },
    {
     "name": "stdout",
     "output_type": "stream",
     "text": [
      "Moviepy - Done !\n",
      "Moviepy - video ready /mnt/d/serao/busd_cp/test/NonViolence/NONVIOLENCE_2324.mp4\n",
      "Moviepy - Building video /mnt/d/serao/busd_cp/test/NonViolence/NONVIOLENCE_2345.mp4.\n",
      "Moviepy - Writing video /mnt/d/serao/busd_cp/test/NonViolence/NONVIOLENCE_2345.mp4\n",
      "\n"
     ]
    },
    {
     "name": "stderr",
     "output_type": "stream",
     "text": [
      "                                                             \r"
     ]
    },
    {
     "name": "stdout",
     "output_type": "stream",
     "text": [
      "Moviepy - Done !\n",
      "Moviepy - video ready /mnt/d/serao/busd_cp/test/NonViolence/NONVIOLENCE_2345.mp4\n",
      "Moviepy - Building video /mnt/d/serao/busd_cp/test/NonViolence/NONVIOLENCE_2352.mp4.\n",
      "Moviepy - Writing video /mnt/d/serao/busd_cp/test/NonViolence/NONVIOLENCE_2352.mp4\n",
      "\n"
     ]
    },
    {
     "name": "stderr",
     "output_type": "stream",
     "text": [
      "                                                            \r"
     ]
    },
    {
     "name": "stdout",
     "output_type": "stream",
     "text": [
      "Moviepy - Done !\n",
      "Moviepy - video ready /mnt/d/serao/busd_cp/test/NonViolence/NONVIOLENCE_2352.mp4\n",
      "Moviepy - Building video /mnt/d/serao/busd_cp/test/NonViolence/NONVIOLENCE_2357.mp4.\n",
      "Moviepy - Writing video /mnt/d/serao/busd_cp/test/NonViolence/NONVIOLENCE_2357.mp4\n",
      "\n"
     ]
    },
    {
     "name": "stderr",
     "output_type": "stream",
     "text": [
      "                                                            \r"
     ]
    },
    {
     "name": "stdout",
     "output_type": "stream",
     "text": [
      "Moviepy - Done !\n",
      "Moviepy - video ready /mnt/d/serao/busd_cp/test/NonViolence/NONVIOLENCE_2357.mp4\n",
      "Moviepy - Building video /mnt/d/serao/busd_cp/test/NonViolence/NONVIOLENCE_2363.mp4.\n",
      "Moviepy - Writing video /mnt/d/serao/busd_cp/test/NonViolence/NONVIOLENCE_2363.mp4\n",
      "\n"
     ]
    },
    {
     "name": "stderr",
     "output_type": "stream",
     "text": [
      "                                                            \r"
     ]
    },
    {
     "name": "stdout",
     "output_type": "stream",
     "text": [
      "Moviepy - Done !\n",
      "Moviepy - video ready /mnt/d/serao/busd_cp/test/NonViolence/NONVIOLENCE_2363.mp4\n",
      "Moviepy - Building video /mnt/d/serao/busd_cp/test/NonViolence/NONVIOLENCE_2388.mp4.\n",
      "Moviepy - Writing video /mnt/d/serao/busd_cp/test/NonViolence/NONVIOLENCE_2388.mp4\n",
      "\n"
     ]
    },
    {
     "name": "stderr",
     "output_type": "stream",
     "text": [
      "                                                            \r"
     ]
    },
    {
     "name": "stdout",
     "output_type": "stream",
     "text": [
      "Moviepy - Done !\n",
      "Moviepy - video ready /mnt/d/serao/busd_cp/test/NonViolence/NONVIOLENCE_2388.mp4\n",
      "Moviepy - Building video /mnt/d/serao/busd_cp/test/NonViolence/NONVIOLENCE_2422.mp4.\n",
      "Moviepy - Writing video /mnt/d/serao/busd_cp/test/NonViolence/NONVIOLENCE_2422.mp4\n",
      "\n"
     ]
    },
    {
     "name": "stderr",
     "output_type": "stream",
     "text": [
      "                                                            \r"
     ]
    },
    {
     "name": "stdout",
     "output_type": "stream",
     "text": [
      "Moviepy - Done !\n",
      "Moviepy - video ready /mnt/d/serao/busd_cp/test/NonViolence/NONVIOLENCE_2422.mp4\n",
      "Moviepy - Building video /mnt/d/serao/busd_cp/test/NonViolence/NONVIOLENCE_2427.mp4.\n",
      "Moviepy - Writing video /mnt/d/serao/busd_cp/test/NonViolence/NONVIOLENCE_2427.mp4\n",
      "\n"
     ]
    },
    {
     "name": "stderr",
     "output_type": "stream",
     "text": [
      "                                                   \r"
     ]
    },
    {
     "name": "stdout",
     "output_type": "stream",
     "text": [
      "Moviepy - Done !\n",
      "Moviepy - video ready /mnt/d/serao/busd_cp/test/NonViolence/NONVIOLENCE_2427.mp4\n",
      "Moviepy - Building video /mnt/d/serao/busd_cp/test/NonViolence/NONVIOLENCE_2462.mp4.\n",
      "Moviepy - Writing video /mnt/d/serao/busd_cp/test/NonViolence/NONVIOLENCE_2462.mp4\n",
      "\n"
     ]
    },
    {
     "name": "stderr",
     "output_type": "stream",
     "text": [
      "                                                   \r"
     ]
    },
    {
     "name": "stdout",
     "output_type": "stream",
     "text": [
      "Moviepy - Done !\n",
      "Moviepy - video ready /mnt/d/serao/busd_cp/test/NonViolence/NONVIOLENCE_2462.mp4\n",
      "Moviepy - Building video /mnt/d/serao/busd_cp/test/NonViolence/NONVIOLENCE_2464.mp4.\n",
      "Moviepy - Writing video /mnt/d/serao/busd_cp/test/NonViolence/NONVIOLENCE_2464.mp4\n",
      "\n"
     ]
    },
    {
     "name": "stderr",
     "output_type": "stream",
     "text": [
      "                                                            \r"
     ]
    },
    {
     "name": "stdout",
     "output_type": "stream",
     "text": [
      "Moviepy - Done !\n",
      "Moviepy - video ready /mnt/d/serao/busd_cp/test/NonViolence/NONVIOLENCE_2464.mp4\n",
      "Moviepy - Building video /mnt/d/serao/busd_cp/test/NonViolence/NONVIOLENCE_2471.mp4.\n",
      "Moviepy - Writing video /mnt/d/serao/busd_cp/test/NonViolence/NONVIOLENCE_2471.mp4\n",
      "\n"
     ]
    },
    {
     "name": "stderr",
     "output_type": "stream",
     "text": [
      "                                                   \r"
     ]
    },
    {
     "name": "stdout",
     "output_type": "stream",
     "text": [
      "Moviepy - Done !\n",
      "Moviepy - video ready /mnt/d/serao/busd_cp/test/NonViolence/NONVIOLENCE_2471.mp4\n",
      "Moviepy - Building video /mnt/d/serao/busd_cp/test/NonViolence/NONVIOLENCE_2478.mp4.\n",
      "Moviepy - Writing video /mnt/d/serao/busd_cp/test/NonViolence/NONVIOLENCE_2478.mp4\n",
      "\n"
     ]
    },
    {
     "name": "stderr",
     "output_type": "stream",
     "text": [
      "                                                   \r"
     ]
    },
    {
     "name": "stdout",
     "output_type": "stream",
     "text": [
      "Moviepy - Done !\n",
      "Moviepy - video ready /mnt/d/serao/busd_cp/test/NonViolence/NONVIOLENCE_2478.mp4\n",
      "Moviepy - Building video /mnt/d/serao/busd_cp/test/NonViolence/NONVIOLENCE_251.mp4.\n",
      "Moviepy - Writing video /mnt/d/serao/busd_cp/test/NonViolence/NONVIOLENCE_251.mp4\n",
      "\n"
     ]
    },
    {
     "name": "stderr",
     "output_type": "stream",
     "text": [
      "                                                   \r"
     ]
    },
    {
     "name": "stdout",
     "output_type": "stream",
     "text": [
      "Moviepy - Done !\n",
      "Moviepy - video ready /mnt/d/serao/busd_cp/test/NonViolence/NONVIOLENCE_251.mp4\n",
      "Moviepy - Building video /mnt/d/serao/busd_cp/test/NonViolence/NONVIOLENCE_2511.mp4.\n",
      "Moviepy - Writing video /mnt/d/serao/busd_cp/test/NonViolence/NONVIOLENCE_2511.mp4\n",
      "\n"
     ]
    },
    {
     "name": "stderr",
     "output_type": "stream",
     "text": [
      "                                                             \r"
     ]
    },
    {
     "name": "stdout",
     "output_type": "stream",
     "text": [
      "Moviepy - Done !\n",
      "Moviepy - video ready /mnt/d/serao/busd_cp/test/NonViolence/NONVIOLENCE_2511.mp4\n",
      "Moviepy - Building video /mnt/d/serao/busd_cp/test/NonViolence/NONVIOLENCE_2556.mp4.\n",
      "Moviepy - Writing video /mnt/d/serao/busd_cp/test/NonViolence/NONVIOLENCE_2556.mp4\n",
      "\n"
     ]
    },
    {
     "name": "stderr",
     "output_type": "stream",
     "text": [
      "                                                            \r"
     ]
    },
    {
     "name": "stdout",
     "output_type": "stream",
     "text": [
      "Moviepy - Done !\n",
      "Moviepy - video ready /mnt/d/serao/busd_cp/test/NonViolence/NONVIOLENCE_2556.mp4\n",
      "Moviepy - Building video /mnt/d/serao/busd_cp/test/NonViolence/NONVIOLENCE_2567.mp4.\n",
      "Moviepy - Writing video /mnt/d/serao/busd_cp/test/NonViolence/NONVIOLENCE_2567.mp4\n",
      "\n"
     ]
    },
    {
     "name": "stderr",
     "output_type": "stream",
     "text": [
      "                                                            \r"
     ]
    },
    {
     "name": "stdout",
     "output_type": "stream",
     "text": [
      "Moviepy - Done !\n",
      "Moviepy - video ready /mnt/d/serao/busd_cp/test/NonViolence/NONVIOLENCE_2567.mp4\n",
      "Moviepy - Building video /mnt/d/serao/busd_cp/test/NonViolence/NONVIOLENCE_2570.mp4.\n",
      "Moviepy - Writing video /mnt/d/serao/busd_cp/test/NonViolence/NONVIOLENCE_2570.mp4\n",
      "\n"
     ]
    },
    {
     "name": "stderr",
     "output_type": "stream",
     "text": [
      "                                                            \r"
     ]
    },
    {
     "name": "stdout",
     "output_type": "stream",
     "text": [
      "Moviepy - Done !\n",
      "Moviepy - video ready /mnt/d/serao/busd_cp/test/NonViolence/NONVIOLENCE_2570.mp4\n",
      "Moviepy - Building video /mnt/d/serao/busd_cp/test/NonViolence/NONVIOLENCE_26.mp4.\n",
      "Moviepy - Writing video /mnt/d/serao/busd_cp/test/NonViolence/NONVIOLENCE_26.mp4\n",
      "\n"
     ]
    },
    {
     "name": "stderr",
     "output_type": "stream",
     "text": [
      "                                                   \r"
     ]
    },
    {
     "name": "stdout",
     "output_type": "stream",
     "text": [
      "Moviepy - Done !\n",
      "Moviepy - video ready /mnt/d/serao/busd_cp/test/NonViolence/NONVIOLENCE_26.mp4\n",
      "Moviepy - Building video /mnt/d/serao/busd_cp/test/NonViolence/NONVIOLENCE_2613.mp4.\n",
      "Moviepy - Writing video /mnt/d/serao/busd_cp/test/NonViolence/NONVIOLENCE_2613.mp4\n",
      "\n"
     ]
    },
    {
     "name": "stderr",
     "output_type": "stream",
     "text": [
      "                                                            \r"
     ]
    },
    {
     "name": "stdout",
     "output_type": "stream",
     "text": [
      "Moviepy - Done !\n",
      "Moviepy - video ready /mnt/d/serao/busd_cp/test/NonViolence/NONVIOLENCE_2613.mp4\n",
      "Moviepy - Building video /mnt/d/serao/busd_cp/test/NonViolence/NONVIOLENCE_2620.mp4.\n",
      "Moviepy - Writing video /mnt/d/serao/busd_cp/test/NonViolence/NONVIOLENCE_2620.mp4\n",
      "\n"
     ]
    },
    {
     "name": "stderr",
     "output_type": "stream",
     "text": [
      "                                                            \r"
     ]
    },
    {
     "name": "stdout",
     "output_type": "stream",
     "text": [
      "Moviepy - Done !\n",
      "Moviepy - video ready /mnt/d/serao/busd_cp/test/NonViolence/NONVIOLENCE_2620.mp4\n",
      "Moviepy - Building video /mnt/d/serao/busd_cp/test/NonViolence/NONVIOLENCE_2627.mp4.\n",
      "Moviepy - Writing video /mnt/d/serao/busd_cp/test/NonViolence/NONVIOLENCE_2627.mp4\n",
      "\n"
     ]
    },
    {
     "name": "stderr",
     "output_type": "stream",
     "text": [
      "                                                            \r"
     ]
    },
    {
     "name": "stdout",
     "output_type": "stream",
     "text": [
      "Moviepy - Done !\n",
      "Moviepy - video ready /mnt/d/serao/busd_cp/test/NonViolence/NONVIOLENCE_2627.mp4\n",
      "Moviepy - Building video /mnt/d/serao/busd_cp/test/NonViolence/NONVIOLENCE_2647.mp4.\n",
      "Moviepy - Writing video /mnt/d/serao/busd_cp/test/NonViolence/NONVIOLENCE_2647.mp4\n",
      "\n"
     ]
    },
    {
     "name": "stderr",
     "output_type": "stream",
     "text": [
      "                                                   \r"
     ]
    },
    {
     "name": "stdout",
     "output_type": "stream",
     "text": [
      "Moviepy - Done !\n",
      "Moviepy - video ready /mnt/d/serao/busd_cp/test/NonViolence/NONVIOLENCE_2647.mp4\n",
      "Moviepy - Building video /mnt/d/serao/busd_cp/test/NonViolence/NONVIOLENCE_2653.mp4.\n",
      "Moviepy - Writing video /mnt/d/serao/busd_cp/test/NonViolence/NONVIOLENCE_2653.mp4\n",
      "\n"
     ]
    },
    {
     "name": "stderr",
     "output_type": "stream",
     "text": [
      "                                                   \r"
     ]
    },
    {
     "name": "stdout",
     "output_type": "stream",
     "text": [
      "Moviepy - Done !\n",
      "Moviepy - video ready /mnt/d/serao/busd_cp/test/NonViolence/NONVIOLENCE_2653.mp4\n",
      "Moviepy - Building video /mnt/d/serao/busd_cp/test/NonViolence/NONVIOLENCE_2675.mp4.\n",
      "Moviepy - Writing video /mnt/d/serao/busd_cp/test/NonViolence/NONVIOLENCE_2675.mp4\n",
      "\n"
     ]
    },
    {
     "name": "stderr",
     "output_type": "stream",
     "text": [
      "                                                   \r"
     ]
    },
    {
     "name": "stdout",
     "output_type": "stream",
     "text": [
      "Moviepy - Done !\n",
      "Moviepy - video ready /mnt/d/serao/busd_cp/test/NonViolence/NONVIOLENCE_2675.mp4\n",
      "Moviepy - Building video /mnt/d/serao/busd_cp/test/NonViolence/NONVIOLENCE_2680.mp4.\n",
      "Moviepy - Writing video /mnt/d/serao/busd_cp/test/NonViolence/NONVIOLENCE_2680.mp4\n",
      "\n"
     ]
    },
    {
     "name": "stderr",
     "output_type": "stream",
     "text": [
      "                                                   \r"
     ]
    },
    {
     "name": "stdout",
     "output_type": "stream",
     "text": [
      "Moviepy - Done !\n",
      "Moviepy - video ready /mnt/d/serao/busd_cp/test/NonViolence/NONVIOLENCE_2680.mp4\n",
      "Moviepy - Building video /mnt/d/serao/busd_cp/test/NonViolence/NONVIOLENCE_2690.mp4.\n",
      "Moviepy - Writing video /mnt/d/serao/busd_cp/test/NonViolence/NONVIOLENCE_2690.mp4\n",
      "\n"
     ]
    },
    {
     "name": "stderr",
     "output_type": "stream",
     "text": [
      "                                                   \r"
     ]
    },
    {
     "name": "stdout",
     "output_type": "stream",
     "text": [
      "Moviepy - Done !\n",
      "Moviepy - video ready /mnt/d/serao/busd_cp/test/NonViolence/NONVIOLENCE_2690.mp4\n",
      "Moviepy - Building video /mnt/d/serao/busd_cp/test/NonViolence/NONVIOLENCE_2729.mp4.\n",
      "Moviepy - Writing video /mnt/d/serao/busd_cp/test/NonViolence/NONVIOLENCE_2729.mp4\n",
      "\n"
     ]
    },
    {
     "name": "stderr",
     "output_type": "stream",
     "text": [
      "                                                            \r"
     ]
    },
    {
     "name": "stdout",
     "output_type": "stream",
     "text": [
      "Moviepy - Done !\n",
      "Moviepy - video ready /mnt/d/serao/busd_cp/test/NonViolence/NONVIOLENCE_2729.mp4\n",
      "Moviepy - Building video /mnt/d/serao/busd_cp/test/NonViolence/NONVIOLENCE_2744.mp4.\n",
      "Moviepy - Writing video /mnt/d/serao/busd_cp/test/NonViolence/NONVIOLENCE_2744.mp4\n",
      "\n"
     ]
    },
    {
     "name": "stderr",
     "output_type": "stream",
     "text": [
      "                                                             \r"
     ]
    },
    {
     "name": "stdout",
     "output_type": "stream",
     "text": [
      "Moviepy - Done !\n",
      "Moviepy - video ready /mnt/d/serao/busd_cp/test/NonViolence/NONVIOLENCE_2744.mp4\n",
      "Moviepy - Building video /mnt/d/serao/busd_cp/test/NonViolence/NONVIOLENCE_2745.mp4.\n",
      "Moviepy - Writing video /mnt/d/serao/busd_cp/test/NonViolence/NONVIOLENCE_2745.mp4\n",
      "\n"
     ]
    },
    {
     "name": "stderr",
     "output_type": "stream",
     "text": [
      "                                                            \r"
     ]
    },
    {
     "name": "stdout",
     "output_type": "stream",
     "text": [
      "Moviepy - Done !\n",
      "Moviepy - video ready /mnt/d/serao/busd_cp/test/NonViolence/NONVIOLENCE_2745.mp4\n",
      "Moviepy - Building video /mnt/d/serao/busd_cp/test/NonViolence/NONVIOLENCE_2753.mp4.\n",
      "Moviepy - Writing video /mnt/d/serao/busd_cp/test/NonViolence/NONVIOLENCE_2753.mp4\n",
      "\n"
     ]
    },
    {
     "name": "stderr",
     "output_type": "stream",
     "text": [
      "                                                            \r"
     ]
    },
    {
     "name": "stdout",
     "output_type": "stream",
     "text": [
      "Moviepy - Done !\n",
      "Moviepy - video ready /mnt/d/serao/busd_cp/test/NonViolence/NONVIOLENCE_2753.mp4\n",
      "Moviepy - Building video /mnt/d/serao/busd_cp/test/NonViolence/NONVIOLENCE_2770.mp4.\n",
      "Moviepy - Writing video /mnt/d/serao/busd_cp/test/NonViolence/NONVIOLENCE_2770.mp4\n",
      "\n"
     ]
    },
    {
     "name": "stderr",
     "output_type": "stream",
     "text": [
      "                                                   \r"
     ]
    },
    {
     "name": "stdout",
     "output_type": "stream",
     "text": [
      "Moviepy - Done !\n",
      "Moviepy - video ready /mnt/d/serao/busd_cp/test/NonViolence/NONVIOLENCE_2770.mp4\n",
      "Moviepy - Building video /mnt/d/serao/busd_cp/test/NonViolence/NONVIOLENCE_2788.mp4.\n",
      "Moviepy - Writing video /mnt/d/serao/busd_cp/test/NonViolence/NONVIOLENCE_2788.mp4\n",
      "\n"
     ]
    },
    {
     "name": "stderr",
     "output_type": "stream",
     "text": [
      "                                                            \r"
     ]
    },
    {
     "name": "stdout",
     "output_type": "stream",
     "text": [
      "Moviepy - Done !\n",
      "Moviepy - video ready /mnt/d/serao/busd_cp/test/NonViolence/NONVIOLENCE_2788.mp4\n",
      "Moviepy - Building video /mnt/d/serao/busd_cp/test/NonViolence/NONVIOLENCE_2793.mp4.\n",
      "Moviepy - Writing video /mnt/d/serao/busd_cp/test/NonViolence/NONVIOLENCE_2793.mp4\n",
      "\n"
     ]
    },
    {
     "name": "stderr",
     "output_type": "stream",
     "text": [
      "                                                            \r"
     ]
    },
    {
     "name": "stdout",
     "output_type": "stream",
     "text": [
      "Moviepy - Done !\n",
      "Moviepy - video ready /mnt/d/serao/busd_cp/test/NonViolence/NONVIOLENCE_2793.mp4\n",
      "Moviepy - Building video /mnt/d/serao/busd_cp/test/NonViolence/NONVIOLENCE_2808.mp4.\n",
      "Moviepy - Writing video /mnt/d/serao/busd_cp/test/NonViolence/NONVIOLENCE_2808.mp4\n",
      "\n"
     ]
    },
    {
     "name": "stderr",
     "output_type": "stream",
     "text": [
      "                                                   \r"
     ]
    },
    {
     "name": "stdout",
     "output_type": "stream",
     "text": [
      "Moviepy - Done !\n",
      "Moviepy - video ready /mnt/d/serao/busd_cp/test/NonViolence/NONVIOLENCE_2808.mp4\n",
      "Moviepy - Building video /mnt/d/serao/busd_cp/test/NonViolence/NONVIOLENCE_2833.mp4.\n",
      "Moviepy - Writing video /mnt/d/serao/busd_cp/test/NonViolence/NONVIOLENCE_2833.mp4\n",
      "\n"
     ]
    },
    {
     "name": "stderr",
     "output_type": "stream",
     "text": [
      "                                                            \r"
     ]
    },
    {
     "name": "stdout",
     "output_type": "stream",
     "text": [
      "Moviepy - Done !\n",
      "Moviepy - video ready /mnt/d/serao/busd_cp/test/NonViolence/NONVIOLENCE_2833.mp4\n",
      "Moviepy - Building video /mnt/d/serao/busd_cp/test/NonViolence/NONVIOLENCE_2848.mp4.\n",
      "Moviepy - Writing video /mnt/d/serao/busd_cp/test/NonViolence/NONVIOLENCE_2848.mp4\n",
      "\n"
     ]
    },
    {
     "name": "stderr",
     "output_type": "stream",
     "text": [
      "                                                   \r"
     ]
    },
    {
     "name": "stdout",
     "output_type": "stream",
     "text": [
      "Moviepy - Done !\n",
      "Moviepy - video ready /mnt/d/serao/busd_cp/test/NonViolence/NONVIOLENCE_2848.mp4\n",
      "Moviepy - Building video /mnt/d/serao/busd_cp/test/NonViolence/NONVIOLENCE_2878.mp4.\n",
      "Moviepy - Writing video /mnt/d/serao/busd_cp/test/NonViolence/NONVIOLENCE_2878.mp4\n",
      "\n"
     ]
    },
    {
     "name": "stderr",
     "output_type": "stream",
     "text": [
      "                                                            \r"
     ]
    },
    {
     "name": "stdout",
     "output_type": "stream",
     "text": [
      "Moviepy - Done !\n",
      "Moviepy - video ready /mnt/d/serao/busd_cp/test/NonViolence/NONVIOLENCE_2878.mp4\n",
      "Moviepy - Building video /mnt/d/serao/busd_cp/test/NonViolence/NONVIOLENCE_2879.mp4.\n",
      "Moviepy - Writing video /mnt/d/serao/busd_cp/test/NonViolence/NONVIOLENCE_2879.mp4\n",
      "\n"
     ]
    },
    {
     "name": "stderr",
     "output_type": "stream",
     "text": [
      "                                                            \r"
     ]
    },
    {
     "name": "stdout",
     "output_type": "stream",
     "text": [
      "Moviepy - Done !\n",
      "Moviepy - video ready /mnt/d/serao/busd_cp/test/NonViolence/NONVIOLENCE_2879.mp4\n",
      "Moviepy - Building video /mnt/d/serao/busd_cp/test/NonViolence/NONVIOLENCE_2882.mp4.\n",
      "Moviepy - Writing video /mnt/d/serao/busd_cp/test/NonViolence/NONVIOLENCE_2882.mp4\n",
      "\n"
     ]
    },
    {
     "name": "stderr",
     "output_type": "stream",
     "text": [
      "                                                             \r"
     ]
    },
    {
     "name": "stdout",
     "output_type": "stream",
     "text": [
      "Moviepy - Done !\n",
      "Moviepy - video ready /mnt/d/serao/busd_cp/test/NonViolence/NONVIOLENCE_2882.mp4\n",
      "Moviepy - Building video /mnt/d/serao/busd_cp/test/NonViolence/NONVIOLENCE_2918.mp4.\n",
      "Moviepy - Writing video /mnt/d/serao/busd_cp/test/NonViolence/NONVIOLENCE_2918.mp4\n",
      "\n"
     ]
    },
    {
     "name": "stderr",
     "output_type": "stream",
     "text": [
      "                                                   \r"
     ]
    },
    {
     "name": "stdout",
     "output_type": "stream",
     "text": [
      "Moviepy - Done !\n",
      "Moviepy - video ready /mnt/d/serao/busd_cp/test/NonViolence/NONVIOLENCE_2918.mp4\n",
      "Moviepy - Building video /mnt/d/serao/busd_cp/test/NonViolence/NONVIOLENCE_2919.mp4.\n",
      "Moviepy - Writing video /mnt/d/serao/busd_cp/test/NonViolence/NONVIOLENCE_2919.mp4\n",
      "\n"
     ]
    },
    {
     "name": "stderr",
     "output_type": "stream",
     "text": [
      "                                                             \r"
     ]
    },
    {
     "name": "stdout",
     "output_type": "stream",
     "text": [
      "Moviepy - Done !\n",
      "Moviepy - video ready /mnt/d/serao/busd_cp/test/NonViolence/NONVIOLENCE_2919.mp4\n",
      "Moviepy - Building video /mnt/d/serao/busd_cp/test/NonViolence/NONVIOLENCE_2925.mp4.\n",
      "Moviepy - Writing video /mnt/d/serao/busd_cp/test/NonViolence/NONVIOLENCE_2925.mp4\n",
      "\n"
     ]
    },
    {
     "name": "stderr",
     "output_type": "stream",
     "text": [
      "                                                   \r"
     ]
    },
    {
     "name": "stdout",
     "output_type": "stream",
     "text": [
      "Moviepy - Done !\n",
      "Moviepy - video ready /mnt/d/serao/busd_cp/test/NonViolence/NONVIOLENCE_2925.mp4\n",
      "Moviepy - Building video /mnt/d/serao/busd_cp/test/NonViolence/NONVIOLENCE_2933.mp4.\n",
      "Moviepy - Writing video /mnt/d/serao/busd_cp/test/NonViolence/NONVIOLENCE_2933.mp4\n",
      "\n"
     ]
    },
    {
     "name": "stderr",
     "output_type": "stream",
     "text": [
      "                                                             \r"
     ]
    },
    {
     "name": "stdout",
     "output_type": "stream",
     "text": [
      "Moviepy - Done !\n",
      "Moviepy - video ready /mnt/d/serao/busd_cp/test/NonViolence/NONVIOLENCE_2933.mp4\n",
      "Moviepy - Building video /mnt/d/serao/busd_cp/test/NonViolence/NONVIOLENCE_2956.mp4.\n",
      "Moviepy - Writing video /mnt/d/serao/busd_cp/test/NonViolence/NONVIOLENCE_2956.mp4\n",
      "\n"
     ]
    },
    {
     "name": "stderr",
     "output_type": "stream",
     "text": [
      "                                                   \r"
     ]
    },
    {
     "name": "stdout",
     "output_type": "stream",
     "text": [
      "Moviepy - Done !\n",
      "Moviepy - video ready /mnt/d/serao/busd_cp/test/NonViolence/NONVIOLENCE_2956.mp4\n",
      "Moviepy - Building video /mnt/d/serao/busd_cp/test/NonViolence/NONVIOLENCE_296.mp4.\n",
      "Moviepy - Writing video /mnt/d/serao/busd_cp/test/NonViolence/NONVIOLENCE_296.mp4\n",
      "\n"
     ]
    },
    {
     "name": "stderr",
     "output_type": "stream",
     "text": [
      "                                                            \r"
     ]
    },
    {
     "name": "stdout",
     "output_type": "stream",
     "text": [
      "Moviepy - Done !\n",
      "Moviepy - video ready /mnt/d/serao/busd_cp/test/NonViolence/NONVIOLENCE_296.mp4\n",
      "Moviepy - Building video /mnt/d/serao/busd_cp/test/NonViolence/NONVIOLENCE_2967.mp4.\n",
      "Moviepy - Writing video /mnt/d/serao/busd_cp/test/NonViolence/NONVIOLENCE_2967.mp4\n",
      "\n"
     ]
    },
    {
     "name": "stderr",
     "output_type": "stream",
     "text": [
      "                                                             \r"
     ]
    },
    {
     "name": "stdout",
     "output_type": "stream",
     "text": [
      "Moviepy - Done !\n",
      "Moviepy - video ready /mnt/d/serao/busd_cp/test/NonViolence/NONVIOLENCE_2967.mp4\n",
      "Moviepy - Building video /mnt/d/serao/busd_cp/test/NonViolence/NONVIOLENCE_2973.mp4.\n",
      "Moviepy - Writing video /mnt/d/serao/busd_cp/test/NonViolence/NONVIOLENCE_2973.mp4\n",
      "\n"
     ]
    },
    {
     "name": "stderr",
     "output_type": "stream",
     "text": [
      "                                                   \r"
     ]
    },
    {
     "name": "stdout",
     "output_type": "stream",
     "text": [
      "Moviepy - Done !\n",
      "Moviepy - video ready /mnt/d/serao/busd_cp/test/NonViolence/NONVIOLENCE_2973.mp4\n",
      "Moviepy - Building video /mnt/d/serao/busd_cp/test/NonViolence/NONVIOLENCE_2994.mp4.\n",
      "Moviepy - Writing video /mnt/d/serao/busd_cp/test/NonViolence/NONVIOLENCE_2994.mp4\n",
      "\n"
     ]
    },
    {
     "name": "stderr",
     "output_type": "stream",
     "text": [
      "                                                   "
     ]
    },
    {
     "name": "stdout",
     "output_type": "stream",
     "text": [
      "Moviepy - Done !\n",
      "Moviepy - video ready /mnt/d/serao/busd_cp/test/NonViolence/NONVIOLENCE_2994.mp4\n"
     ]
    },
    {
     "name": "stderr",
     "output_type": "stream",
     "text": [
      "\r"
     ]
    },
    {
     "name": "stdout",
     "output_type": "stream",
     "text": [
      "Moviepy - Building video /mnt/d/serao/busd_cp/test/NonViolence/NONVIOLENCE_3016.mp4.\n",
      "Moviepy - Writing video /mnt/d/serao/busd_cp/test/NonViolence/NONVIOLENCE_3016.mp4\n",
      "\n"
     ]
    },
    {
     "name": "stderr",
     "output_type": "stream",
     "text": [
      "                                                   "
     ]
    },
    {
     "name": "stdout",
     "output_type": "stream",
     "text": [
      "Moviepy - Done !\n",
      "Moviepy - video ready /mnt/d/serao/busd_cp/test/NonViolence/NONVIOLENCE_3016.mp4\n"
     ]
    },
    {
     "name": "stderr",
     "output_type": "stream",
     "text": [
      "\r"
     ]
    },
    {
     "name": "stdout",
     "output_type": "stream",
     "text": [
      "Moviepy - Building video /mnt/d/serao/busd_cp/test/NonViolence/NONVIOLENCE_3023.mp4.\n",
      "Moviepy - Writing video /mnt/d/serao/busd_cp/test/NonViolence/NONVIOLENCE_3023.mp4\n",
      "\n"
     ]
    },
    {
     "name": "stderr",
     "output_type": "stream",
     "text": [
      "                                                            \r"
     ]
    },
    {
     "name": "stdout",
     "output_type": "stream",
     "text": [
      "Moviepy - Done !\n",
      "Moviepy - video ready /mnt/d/serao/busd_cp/test/NonViolence/NONVIOLENCE_3023.mp4\n",
      "Moviepy - Building video /mnt/d/serao/busd_cp/test/NonViolence/NONVIOLENCE_3027.mp4.\n",
      "Moviepy - Writing video /mnt/d/serao/busd_cp/test/NonViolence/NONVIOLENCE_3027.mp4\n",
      "\n"
     ]
    },
    {
     "name": "stderr",
     "output_type": "stream",
     "text": [
      "                                                            \r"
     ]
    },
    {
     "name": "stdout",
     "output_type": "stream",
     "text": [
      "Moviepy - Done !\n",
      "Moviepy - video ready /mnt/d/serao/busd_cp/test/NonViolence/NONVIOLENCE_3027.mp4\n",
      "Moviepy - Building video /mnt/d/serao/busd_cp/test/NonViolence/NONVIOLENCE_3032.mp4.\n",
      "Moviepy - Writing video /mnt/d/serao/busd_cp/test/NonViolence/NONVIOLENCE_3032.mp4\n",
      "\n"
     ]
    },
    {
     "name": "stderr",
     "output_type": "stream",
     "text": [
      "                                                            \r"
     ]
    },
    {
     "name": "stdout",
     "output_type": "stream",
     "text": [
      "Moviepy - Done !\n",
      "Moviepy - video ready /mnt/d/serao/busd_cp/test/NonViolence/NONVIOLENCE_3032.mp4\n",
      "Moviepy - Building video /mnt/d/serao/busd_cp/test/NonViolence/NONVIOLENCE_3038.mp4.\n",
      "Moviepy - Writing video /mnt/d/serao/busd_cp/test/NonViolence/NONVIOLENCE_3038.mp4\n",
      "\n"
     ]
    },
    {
     "name": "stderr",
     "output_type": "stream",
     "text": [
      "                                                            \r"
     ]
    },
    {
     "name": "stdout",
     "output_type": "stream",
     "text": [
      "Moviepy - Done !\n",
      "Moviepy - video ready /mnt/d/serao/busd_cp/test/NonViolence/NONVIOLENCE_3038.mp4\n",
      "Moviepy - Building video /mnt/d/serao/busd_cp/test/NonViolence/NONVIOLENCE_3052.mp4.\n",
      "Moviepy - Writing video /mnt/d/serao/busd_cp/test/NonViolence/NONVIOLENCE_3052.mp4\n",
      "\n"
     ]
    },
    {
     "name": "stderr",
     "output_type": "stream",
     "text": [
      "                                                   \r"
     ]
    },
    {
     "name": "stdout",
     "output_type": "stream",
     "text": [
      "Moviepy - Done !\n",
      "Moviepy - video ready /mnt/d/serao/busd_cp/test/NonViolence/NONVIOLENCE_3052.mp4\n",
      "Moviepy - Building video /mnt/d/serao/busd_cp/test/NonViolence/NONVIOLENCE_3065.mp4.\n",
      "Moviepy - Writing video /mnt/d/serao/busd_cp/test/NonViolence/NONVIOLENCE_3065.mp4\n",
      "\n"
     ]
    },
    {
     "name": "stderr",
     "output_type": "stream",
     "text": [
      "                                                            \r"
     ]
    },
    {
     "name": "stdout",
     "output_type": "stream",
     "text": [
      "Moviepy - Done !\n",
      "Moviepy - video ready /mnt/d/serao/busd_cp/test/NonViolence/NONVIOLENCE_3065.mp4\n",
      "Moviepy - Building video /mnt/d/serao/busd_cp/test/NonViolence/NONVIOLENCE_3082.mp4.\n",
      "Moviepy - Writing video /mnt/d/serao/busd_cp/test/NonViolence/NONVIOLENCE_3082.mp4\n",
      "\n"
     ]
    },
    {
     "name": "stderr",
     "output_type": "stream",
     "text": [
      "                                                            \r"
     ]
    },
    {
     "name": "stdout",
     "output_type": "stream",
     "text": [
      "Moviepy - Done !\n",
      "Moviepy - video ready /mnt/d/serao/busd_cp/test/NonViolence/NONVIOLENCE_3082.mp4\n",
      "Moviepy - Building video /mnt/d/serao/busd_cp/test/NonViolence/NONVIOLENCE_309.mp4.\n",
      "Moviepy - Writing video /mnt/d/serao/busd_cp/test/NonViolence/NONVIOLENCE_309.mp4\n",
      "\n"
     ]
    },
    {
     "name": "stderr",
     "output_type": "stream",
     "text": [
      "                                                   "
     ]
    },
    {
     "name": "stdout",
     "output_type": "stream",
     "text": [
      "Moviepy - Done !\n",
      "Moviepy - video ready /mnt/d/serao/busd_cp/test/NonViolence/NONVIOLENCE_309.mp4\n"
     ]
    },
    {
     "name": "stderr",
     "output_type": "stream",
     "text": [
      "\r"
     ]
    },
    {
     "name": "stdout",
     "output_type": "stream",
     "text": [
      "Moviepy - Building video /mnt/d/serao/busd_cp/test/NonViolence/NONVIOLENCE_3113.mp4.\n",
      "Moviepy - Writing video /mnt/d/serao/busd_cp/test/NonViolence/NONVIOLENCE_3113.mp4\n",
      "\n"
     ]
    },
    {
     "name": "stderr",
     "output_type": "stream",
     "text": [
      "                                                            \r"
     ]
    },
    {
     "name": "stdout",
     "output_type": "stream",
     "text": [
      "Moviepy - Done !\n",
      "Moviepy - video ready /mnt/d/serao/busd_cp/test/NonViolence/NONVIOLENCE_3113.mp4\n",
      "Moviepy - Building video /mnt/d/serao/busd_cp/test/NonViolence/NONVIOLENCE_3134.mp4.\n",
      "Moviepy - Writing video /mnt/d/serao/busd_cp/test/NonViolence/NONVIOLENCE_3134.mp4\n",
      "\n"
     ]
    },
    {
     "name": "stderr",
     "output_type": "stream",
     "text": [
      "                                                            \r"
     ]
    },
    {
     "name": "stdout",
     "output_type": "stream",
     "text": [
      "Moviepy - Done !\n",
      "Moviepy - video ready /mnt/d/serao/busd_cp/test/NonViolence/NONVIOLENCE_3134.mp4\n",
      "Moviepy - Building video /mnt/d/serao/busd_cp/test/NonViolence/NONVIOLENCE_3143.mp4.\n",
      "Moviepy - Writing video /mnt/d/serao/busd_cp/test/NonViolence/NONVIOLENCE_3143.mp4\n",
      "\n"
     ]
    },
    {
     "name": "stderr",
     "output_type": "stream",
     "text": [
      "                                                            \r"
     ]
    },
    {
     "name": "stdout",
     "output_type": "stream",
     "text": [
      "Moviepy - Done !\n",
      "Moviepy - video ready /mnt/d/serao/busd_cp/test/NonViolence/NONVIOLENCE_3143.mp4\n",
      "Moviepy - Building video /mnt/d/serao/busd_cp/test/NonViolence/NONVIOLENCE_3148.mp4.\n",
      "Moviepy - Writing video /mnt/d/serao/busd_cp/test/NonViolence/NONVIOLENCE_3148.mp4\n",
      "\n"
     ]
    },
    {
     "name": "stderr",
     "output_type": "stream",
     "text": [
      "                                                             \r"
     ]
    },
    {
     "name": "stdout",
     "output_type": "stream",
     "text": [
      "Moviepy - Done !\n",
      "Moviepy - video ready /mnt/d/serao/busd_cp/test/NonViolence/NONVIOLENCE_3148.mp4\n",
      "Moviepy - Building video /mnt/d/serao/busd_cp/test/NonViolence/NONVIOLENCE_3158.mp4.\n",
      "Moviepy - Writing video /mnt/d/serao/busd_cp/test/NonViolence/NONVIOLENCE_3158.mp4\n",
      "\n"
     ]
    },
    {
     "name": "stderr",
     "output_type": "stream",
     "text": [
      "                                                            \r"
     ]
    },
    {
     "name": "stdout",
     "output_type": "stream",
     "text": [
      "Moviepy - Done !\n",
      "Moviepy - video ready /mnt/d/serao/busd_cp/test/NonViolence/NONVIOLENCE_3158.mp4\n",
      "Moviepy - Building video /mnt/d/serao/busd_cp/test/NonViolence/NONVIOLENCE_3188.mp4.\n",
      "Moviepy - Writing video /mnt/d/serao/busd_cp/test/NonViolence/NONVIOLENCE_3188.mp4\n",
      "\n"
     ]
    },
    {
     "name": "stderr",
     "output_type": "stream",
     "text": [
      "                                                   \r"
     ]
    },
    {
     "name": "stdout",
     "output_type": "stream",
     "text": [
      "Moviepy - Done !\n",
      "Moviepy - video ready /mnt/d/serao/busd_cp/test/NonViolence/NONVIOLENCE_3188.mp4\n",
      "Moviepy - Building video /mnt/d/serao/busd_cp/test/NonViolence/NONVIOLENCE_3193.mp4.\n",
      "Moviepy - Writing video /mnt/d/serao/busd_cp/test/NonViolence/NONVIOLENCE_3193.mp4\n",
      "\n"
     ]
    },
    {
     "name": "stderr",
     "output_type": "stream",
     "text": [
      "                                                            \r"
     ]
    },
    {
     "name": "stdout",
     "output_type": "stream",
     "text": [
      "Moviepy - Done !\n",
      "Moviepy - video ready /mnt/d/serao/busd_cp/test/NonViolence/NONVIOLENCE_3193.mp4\n",
      "Moviepy - Building video /mnt/d/serao/busd_cp/test/NonViolence/NONVIOLENCE_3223.mp4.\n",
      "Moviepy - Writing video /mnt/d/serao/busd_cp/test/NonViolence/NONVIOLENCE_3223.mp4\n",
      "\n"
     ]
    },
    {
     "name": "stderr",
     "output_type": "stream",
     "text": [
      "                                                             \r"
     ]
    },
    {
     "name": "stdout",
     "output_type": "stream",
     "text": [
      "Moviepy - Done !\n",
      "Moviepy - video ready /mnt/d/serao/busd_cp/test/NonViolence/NONVIOLENCE_3223.mp4\n",
      "Moviepy - Building video /mnt/d/serao/busd_cp/test/NonViolence/NONVIOLENCE_3228.mp4.\n",
      "Moviepy - Writing video /mnt/d/serao/busd_cp/test/NonViolence/NONVIOLENCE_3228.mp4\n",
      "\n"
     ]
    },
    {
     "name": "stderr",
     "output_type": "stream",
     "text": [
      "                                                            \r"
     ]
    },
    {
     "name": "stdout",
     "output_type": "stream",
     "text": [
      "Moviepy - Done !\n",
      "Moviepy - video ready /mnt/d/serao/busd_cp/test/NonViolence/NONVIOLENCE_3228.mp4\n",
      "Moviepy - Building video /mnt/d/serao/busd_cp/test/NonViolence/NONVIOLENCE_3245.mp4.\n",
      "Moviepy - Writing video /mnt/d/serao/busd_cp/test/NonViolence/NONVIOLENCE_3245.mp4\n",
      "\n"
     ]
    },
    {
     "name": "stderr",
     "output_type": "stream",
     "text": [
      "                                                            \r"
     ]
    },
    {
     "name": "stdout",
     "output_type": "stream",
     "text": [
      "Moviepy - Done !\n",
      "Moviepy - video ready /mnt/d/serao/busd_cp/test/NonViolence/NONVIOLENCE_3245.mp4\n",
      "Moviepy - Building video /mnt/d/serao/busd_cp/test/NonViolence/NONVIOLENCE_3251.mp4.\n",
      "Moviepy - Writing video /mnt/d/serao/busd_cp/test/NonViolence/NONVIOLENCE_3251.mp4\n",
      "\n"
     ]
    },
    {
     "name": "stderr",
     "output_type": "stream",
     "text": [
      "                                                             \r"
     ]
    },
    {
     "name": "stdout",
     "output_type": "stream",
     "text": [
      "Moviepy - Done !\n",
      "Moviepy - video ready /mnt/d/serao/busd_cp/test/NonViolence/NONVIOLENCE_3251.mp4\n",
      "Moviepy - Building video /mnt/d/serao/busd_cp/test/NonViolence/NONVIOLENCE_3257.mp4.\n",
      "Moviepy - Writing video /mnt/d/serao/busd_cp/test/NonViolence/NONVIOLENCE_3257.mp4\n",
      "\n"
     ]
    },
    {
     "name": "stderr",
     "output_type": "stream",
     "text": [
      "                                                   \r"
     ]
    },
    {
     "name": "stdout",
     "output_type": "stream",
     "text": [
      "Moviepy - Done !\n",
      "Moviepy - video ready /mnt/d/serao/busd_cp/test/NonViolence/NONVIOLENCE_3257.mp4\n",
      "Moviepy - Building video /mnt/d/serao/busd_cp/test/NonViolence/NONVIOLENCE_3259.mp4.\n",
      "Moviepy - Writing video /mnt/d/serao/busd_cp/test/NonViolence/NONVIOLENCE_3259.mp4\n",
      "\n"
     ]
    },
    {
     "name": "stderr",
     "output_type": "stream",
     "text": [
      "                                                            \r"
     ]
    },
    {
     "name": "stdout",
     "output_type": "stream",
     "text": [
      "Moviepy - Done !\n",
      "Moviepy - video ready /mnt/d/serao/busd_cp/test/NonViolence/NONVIOLENCE_3259.mp4\n",
      "Moviepy - Building video /mnt/d/serao/busd_cp/test/NonViolence/NONVIOLENCE_3262.mp4.\n",
      "Moviepy - Writing video /mnt/d/serao/busd_cp/test/NonViolence/NONVIOLENCE_3262.mp4\n",
      "\n"
     ]
    },
    {
     "name": "stderr",
     "output_type": "stream",
     "text": [
      "                                                             \r"
     ]
    },
    {
     "name": "stdout",
     "output_type": "stream",
     "text": [
      "Moviepy - Done !\n",
      "Moviepy - video ready /mnt/d/serao/busd_cp/test/NonViolence/NONVIOLENCE_3262.mp4\n",
      "Moviepy - Building video /mnt/d/serao/busd_cp/test/NonViolence/NONVIOLENCE_3288.mp4.\n",
      "Moviepy - Writing video /mnt/d/serao/busd_cp/test/NonViolence/NONVIOLENCE_3288.mp4\n",
      "\n"
     ]
    },
    {
     "name": "stderr",
     "output_type": "stream",
     "text": [
      "                                                            \r"
     ]
    },
    {
     "name": "stdout",
     "output_type": "stream",
     "text": [
      "Moviepy - Done !\n",
      "Moviepy - video ready /mnt/d/serao/busd_cp/test/NonViolence/NONVIOLENCE_3288.mp4\n",
      "Moviepy - Building video /mnt/d/serao/busd_cp/test/NonViolence/NONVIOLENCE_3324.mp4.\n",
      "Moviepy - Writing video /mnt/d/serao/busd_cp/test/NonViolence/NONVIOLENCE_3324.mp4\n",
      "\n"
     ]
    },
    {
     "name": "stderr",
     "output_type": "stream",
     "text": [
      "                                                   \r"
     ]
    },
    {
     "name": "stdout",
     "output_type": "stream",
     "text": [
      "Moviepy - Done !\n",
      "Moviepy - video ready /mnt/d/serao/busd_cp/test/NonViolence/NONVIOLENCE_3324.mp4\n",
      "Moviepy - Building video /mnt/d/serao/busd_cp/test/NonViolence/NONVIOLENCE_3329.mp4.\n",
      "Moviepy - Writing video /mnt/d/serao/busd_cp/test/NonViolence/NONVIOLENCE_3329.mp4\n",
      "\n"
     ]
    },
    {
     "name": "stderr",
     "output_type": "stream",
     "text": [
      "                                                             \r"
     ]
    },
    {
     "name": "stdout",
     "output_type": "stream",
     "text": [
      "Moviepy - Done !\n",
      "Moviepy - video ready /mnt/d/serao/busd_cp/test/NonViolence/NONVIOLENCE_3329.mp4\n",
      "Moviepy - Building video /mnt/d/serao/busd_cp/test/NonViolence/NONVIOLENCE_3358.mp4.\n",
      "Moviepy - Writing video /mnt/d/serao/busd_cp/test/NonViolence/NONVIOLENCE_3358.mp4\n",
      "\n"
     ]
    },
    {
     "name": "stderr",
     "output_type": "stream",
     "text": [
      "                                                            \r"
     ]
    },
    {
     "name": "stdout",
     "output_type": "stream",
     "text": [
      "Moviepy - Done !\n",
      "Moviepy - video ready /mnt/d/serao/busd_cp/test/NonViolence/NONVIOLENCE_3358.mp4\n",
      "Moviepy - Building video /mnt/d/serao/busd_cp/test/NonViolence/NONVIOLENCE_3366.mp4.\n",
      "Moviepy - Writing video /mnt/d/serao/busd_cp/test/NonViolence/NONVIOLENCE_3366.mp4\n",
      "\n"
     ]
    },
    {
     "name": "stderr",
     "output_type": "stream",
     "text": [
      "                                                   \r"
     ]
    },
    {
     "name": "stdout",
     "output_type": "stream",
     "text": [
      "Moviepy - Done !\n",
      "Moviepy - video ready /mnt/d/serao/busd_cp/test/NonViolence/NONVIOLENCE_3366.mp4\n",
      "Moviepy - Building video /mnt/d/serao/busd_cp/test/NonViolence/NONVIOLENCE_3399.mp4.\n",
      "Moviepy - Writing video /mnt/d/serao/busd_cp/test/NonViolence/NONVIOLENCE_3399.mp4\n",
      "\n"
     ]
    },
    {
     "name": "stderr",
     "output_type": "stream",
     "text": [
      "                                                   \r"
     ]
    },
    {
     "name": "stdout",
     "output_type": "stream",
     "text": [
      "Moviepy - Done !\n",
      "Moviepy - video ready /mnt/d/serao/busd_cp/test/NonViolence/NONVIOLENCE_3399.mp4\n",
      "Moviepy - Building video /mnt/d/serao/busd_cp/test/NonViolence/NONVIOLENCE_3448.mp4.\n",
      "Moviepy - Writing video /mnt/d/serao/busd_cp/test/NonViolence/NONVIOLENCE_3448.mp4\n",
      "\n"
     ]
    },
    {
     "name": "stderr",
     "output_type": "stream",
     "text": [
      "                                                   \r"
     ]
    },
    {
     "name": "stdout",
     "output_type": "stream",
     "text": [
      "Moviepy - Done !\n",
      "Moviepy - video ready /mnt/d/serao/busd_cp/test/NonViolence/NONVIOLENCE_3448.mp4\n",
      "Moviepy - Building video /mnt/d/serao/busd_cp/test/NonViolence/NONVIOLENCE_3453.mp4.\n",
      "Moviepy - Writing video /mnt/d/serao/busd_cp/test/NonViolence/NONVIOLENCE_3453.mp4\n",
      "\n"
     ]
    },
    {
     "name": "stderr",
     "output_type": "stream",
     "text": [
      "                                                            \r"
     ]
    },
    {
     "name": "stdout",
     "output_type": "stream",
     "text": [
      "Moviepy - Done !\n",
      "Moviepy - video ready /mnt/d/serao/busd_cp/test/NonViolence/NONVIOLENCE_3453.mp4\n",
      "Moviepy - Building video /mnt/d/serao/busd_cp/test/NonViolence/NONVIOLENCE_3468.mp4.\n",
      "Moviepy - Writing video /mnt/d/serao/busd_cp/test/NonViolence/NONVIOLENCE_3468.mp4\n",
      "\n"
     ]
    },
    {
     "name": "stderr",
     "output_type": "stream",
     "text": [
      "                                                            \r"
     ]
    },
    {
     "name": "stdout",
     "output_type": "stream",
     "text": [
      "Moviepy - Done !\n",
      "Moviepy - video ready /mnt/d/serao/busd_cp/test/NonViolence/NONVIOLENCE_3468.mp4\n",
      "Moviepy - Building video /mnt/d/serao/busd_cp/test/NonViolence/NONVIOLENCE_3469.mp4.\n",
      "Moviepy - Writing video /mnt/d/serao/busd_cp/test/NonViolence/NONVIOLENCE_3469.mp4\n",
      "\n"
     ]
    },
    {
     "name": "stderr",
     "output_type": "stream",
     "text": [
      "                                                   \r"
     ]
    },
    {
     "name": "stdout",
     "output_type": "stream",
     "text": [
      "Moviepy - Done !\n",
      "Moviepy - video ready /mnt/d/serao/busd_cp/test/NonViolence/NONVIOLENCE_3469.mp4\n",
      "Moviepy - Building video /mnt/d/serao/busd_cp/test/NonViolence/NONVIOLENCE_3480.mp4.\n",
      "Moviepy - Writing video /mnt/d/serao/busd_cp/test/NonViolence/NONVIOLENCE_3480.mp4\n",
      "\n"
     ]
    },
    {
     "name": "stderr",
     "output_type": "stream",
     "text": [
      "                                                            \r"
     ]
    },
    {
     "name": "stdout",
     "output_type": "stream",
     "text": [
      "Moviepy - Done !\n",
      "Moviepy - video ready /mnt/d/serao/busd_cp/test/NonViolence/NONVIOLENCE_3480.mp4\n",
      "Moviepy - Building video /mnt/d/serao/busd_cp/test/NonViolence/NONVIOLENCE_3490.mp4.\n",
      "Moviepy - Writing video /mnt/d/serao/busd_cp/test/NonViolence/NONVIOLENCE_3490.mp4\n",
      "\n"
     ]
    },
    {
     "name": "stderr",
     "output_type": "stream",
     "text": [
      "                                                            \r"
     ]
    },
    {
     "name": "stdout",
     "output_type": "stream",
     "text": [
      "Moviepy - Done !\n",
      "Moviepy - video ready /mnt/d/serao/busd_cp/test/NonViolence/NONVIOLENCE_3490.mp4\n",
      "Moviepy - Building video /mnt/d/serao/busd_cp/test/NonViolence/NONVIOLENCE_3507.mp4.\n",
      "Moviepy - Writing video /mnt/d/serao/busd_cp/test/NonViolence/NONVIOLENCE_3507.mp4\n",
      "\n"
     ]
    },
    {
     "name": "stderr",
     "output_type": "stream",
     "text": [
      "                                                            \r"
     ]
    },
    {
     "name": "stdout",
     "output_type": "stream",
     "text": [
      "Moviepy - Done !\n",
      "Moviepy - video ready /mnt/d/serao/busd_cp/test/NonViolence/NONVIOLENCE_3507.mp4\n",
      "Moviepy - Building video /mnt/d/serao/busd_cp/test/NonViolence/NONVIOLENCE_3508.mp4.\n",
      "Moviepy - Writing video /mnt/d/serao/busd_cp/test/NonViolence/NONVIOLENCE_3508.mp4\n",
      "\n"
     ]
    },
    {
     "name": "stderr",
     "output_type": "stream",
     "text": [
      "                                                            \r"
     ]
    },
    {
     "name": "stdout",
     "output_type": "stream",
     "text": [
      "Moviepy - Done !\n",
      "Moviepy - video ready /mnt/d/serao/busd_cp/test/NonViolence/NONVIOLENCE_3508.mp4\n",
      "Moviepy - Building video /mnt/d/serao/busd_cp/test/NonViolence/NONVIOLENCE_3509.mp4.\n",
      "Moviepy - Writing video /mnt/d/serao/busd_cp/test/NonViolence/NONVIOLENCE_3509.mp4\n",
      "\n"
     ]
    },
    {
     "name": "stderr",
     "output_type": "stream",
     "text": [
      "                                                            \r"
     ]
    },
    {
     "name": "stdout",
     "output_type": "stream",
     "text": [
      "Moviepy - Done !\n",
      "Moviepy - video ready /mnt/d/serao/busd_cp/test/NonViolence/NONVIOLENCE_3509.mp4\n",
      "Moviepy - Building video /mnt/d/serao/busd_cp/test/NonViolence/NONVIOLENCE_3510.mp4.\n",
      "Moviepy - Writing video /mnt/d/serao/busd_cp/test/NonViolence/NONVIOLENCE_3510.mp4\n",
      "\n"
     ]
    },
    {
     "name": "stderr",
     "output_type": "stream",
     "text": [
      "                                                            \r"
     ]
    },
    {
     "name": "stdout",
     "output_type": "stream",
     "text": [
      "Moviepy - Done !\n",
      "Moviepy - video ready /mnt/d/serao/busd_cp/test/NonViolence/NONVIOLENCE_3510.mp4\n",
      "Moviepy - Building video /mnt/d/serao/busd_cp/test/NonViolence/NONVIOLENCE_3514.mp4.\n",
      "Moviepy - Writing video /mnt/d/serao/busd_cp/test/NonViolence/NONVIOLENCE_3514.mp4\n",
      "\n"
     ]
    },
    {
     "name": "stderr",
     "output_type": "stream",
     "text": [
      "                                                   \r"
     ]
    },
    {
     "name": "stdout",
     "output_type": "stream",
     "text": [
      "Moviepy - Done !\n",
      "Moviepy - video ready /mnt/d/serao/busd_cp/test/NonViolence/NONVIOLENCE_3514.mp4\n",
      "Moviepy - Building video /mnt/d/serao/busd_cp/test/NonViolence/NONVIOLENCE_3524.mp4.\n",
      "Moviepy - Writing video /mnt/d/serao/busd_cp/test/NonViolence/NONVIOLENCE_3524.mp4\n",
      "\n"
     ]
    },
    {
     "name": "stderr",
     "output_type": "stream",
     "text": [
      "                                                            \r"
     ]
    },
    {
     "name": "stdout",
     "output_type": "stream",
     "text": [
      "Moviepy - Done !\n",
      "Moviepy - video ready /mnt/d/serao/busd_cp/test/NonViolence/NONVIOLENCE_3524.mp4\n",
      "Moviepy - Building video /mnt/d/serao/busd_cp/test/NonViolence/NONVIOLENCE_3525.mp4.\n",
      "Moviepy - Writing video /mnt/d/serao/busd_cp/test/NonViolence/NONVIOLENCE_3525.mp4\n",
      "\n"
     ]
    },
    {
     "name": "stderr",
     "output_type": "stream",
     "text": [
      "                                                            \r"
     ]
    },
    {
     "name": "stdout",
     "output_type": "stream",
     "text": [
      "Moviepy - Done !\n",
      "Moviepy - video ready /mnt/d/serao/busd_cp/test/NonViolence/NONVIOLENCE_3525.mp4\n",
      "Moviepy - Building video /mnt/d/serao/busd_cp/test/NonViolence/NONVIOLENCE_3538.mp4.\n",
      "Moviepy - Writing video /mnt/d/serao/busd_cp/test/NonViolence/NONVIOLENCE_3538.mp4\n",
      "\n"
     ]
    },
    {
     "name": "stderr",
     "output_type": "stream",
     "text": [
      "                                                            \r"
     ]
    },
    {
     "name": "stdout",
     "output_type": "stream",
     "text": [
      "Moviepy - Done !\n",
      "Moviepy - video ready /mnt/d/serao/busd_cp/test/NonViolence/NONVIOLENCE_3538.mp4\n",
      "Moviepy - Building video /mnt/d/serao/busd_cp/test/NonViolence/NONVIOLENCE_3561.mp4.\n",
      "Moviepy - Writing video /mnt/d/serao/busd_cp/test/NonViolence/NONVIOLENCE_3561.mp4\n",
      "\n"
     ]
    },
    {
     "name": "stderr",
     "output_type": "stream",
     "text": [
      "                                                   \r"
     ]
    },
    {
     "name": "stdout",
     "output_type": "stream",
     "text": [
      "Moviepy - Done !\n",
      "Moviepy - video ready /mnt/d/serao/busd_cp/test/NonViolence/NONVIOLENCE_3561.mp4\n",
      "Moviepy - Building video /mnt/d/serao/busd_cp/test/NonViolence/NONVIOLENCE_3615.mp4.\n",
      "Moviepy - Writing video /mnt/d/serao/busd_cp/test/NonViolence/NONVIOLENCE_3615.mp4\n",
      "\n"
     ]
    },
    {
     "name": "stderr",
     "output_type": "stream",
     "text": [
      "                                                            \r"
     ]
    },
    {
     "name": "stdout",
     "output_type": "stream",
     "text": [
      "Moviepy - Done !\n",
      "Moviepy - video ready /mnt/d/serao/busd_cp/test/NonViolence/NONVIOLENCE_3615.mp4\n",
      "Moviepy - Building video /mnt/d/serao/busd_cp/test/NonViolence/NONVIOLENCE_3617.mp4.\n",
      "Moviepy - Writing video /mnt/d/serao/busd_cp/test/NonViolence/NONVIOLENCE_3617.mp4\n",
      "\n"
     ]
    },
    {
     "name": "stderr",
     "output_type": "stream",
     "text": [
      "                                                            \r"
     ]
    },
    {
     "name": "stdout",
     "output_type": "stream",
     "text": [
      "Moviepy - Done !\n",
      "Moviepy - video ready /mnt/d/serao/busd_cp/test/NonViolence/NONVIOLENCE_3617.mp4\n",
      "Moviepy - Building video /mnt/d/serao/busd_cp/test/NonViolence/NONVIOLENCE_362.mp4.\n",
      "Moviepy - Writing video /mnt/d/serao/busd_cp/test/NonViolence/NONVIOLENCE_362.mp4\n",
      "\n"
     ]
    },
    {
     "name": "stderr",
     "output_type": "stream",
     "text": [
      "                                                            \r"
     ]
    },
    {
     "name": "stdout",
     "output_type": "stream",
     "text": [
      "Moviepy - Done !\n",
      "Moviepy - video ready /mnt/d/serao/busd_cp/test/NonViolence/NONVIOLENCE_362.mp4\n",
      "Moviepy - Building video /mnt/d/serao/busd_cp/test/NonViolence/NONVIOLENCE_3634.mp4.\n",
      "Moviepy - Writing video /mnt/d/serao/busd_cp/test/NonViolence/NONVIOLENCE_3634.mp4\n",
      "\n"
     ]
    },
    {
     "name": "stderr",
     "output_type": "stream",
     "text": [
      "                                                   \r"
     ]
    },
    {
     "name": "stdout",
     "output_type": "stream",
     "text": [
      "Moviepy - Done !\n",
      "Moviepy - video ready /mnt/d/serao/busd_cp/test/NonViolence/NONVIOLENCE_3634.mp4\n",
      "Moviepy - Building video /mnt/d/serao/busd_cp/test/NonViolence/NONVIOLENCE_3639.mp4.\n",
      "Moviepy - Writing video /mnt/d/serao/busd_cp/test/NonViolence/NONVIOLENCE_3639.mp4\n",
      "\n"
     ]
    },
    {
     "name": "stderr",
     "output_type": "stream",
     "text": [
      "                                                            \r"
     ]
    },
    {
     "name": "stdout",
     "output_type": "stream",
     "text": [
      "Moviepy - Done !\n",
      "Moviepy - video ready /mnt/d/serao/busd_cp/test/NonViolence/NONVIOLENCE_3639.mp4\n",
      "Moviepy - Building video /mnt/d/serao/busd_cp/test/NonViolence/NONVIOLENCE_3645.mp4.\n",
      "Moviepy - Writing video /mnt/d/serao/busd_cp/test/NonViolence/NONVIOLENCE_3645.mp4\n",
      "\n"
     ]
    },
    {
     "name": "stderr",
     "output_type": "stream",
     "text": [
      "                                                            \r"
     ]
    },
    {
     "name": "stdout",
     "output_type": "stream",
     "text": [
      "Moviepy - Done !\n",
      "Moviepy - video ready /mnt/d/serao/busd_cp/test/NonViolence/NONVIOLENCE_3645.mp4\n",
      "Moviepy - Building video /mnt/d/serao/busd_cp/test/NonViolence/NONVIOLENCE_365.mp4.\n",
      "Moviepy - Writing video /mnt/d/serao/busd_cp/test/NonViolence/NONVIOLENCE_365.mp4\n",
      "\n"
     ]
    },
    {
     "name": "stderr",
     "output_type": "stream",
     "text": [
      "                                                            \r"
     ]
    },
    {
     "name": "stdout",
     "output_type": "stream",
     "text": [
      "Moviepy - Done !\n",
      "Moviepy - video ready /mnt/d/serao/busd_cp/test/NonViolence/NONVIOLENCE_365.mp4\n",
      "Moviepy - Building video /mnt/d/serao/busd_cp/test/NonViolence/NONVIOLENCE_3651.mp4.\n",
      "Moviepy - Writing video /mnt/d/serao/busd_cp/test/NonViolence/NONVIOLENCE_3651.mp4\n",
      "\n"
     ]
    },
    {
     "name": "stderr",
     "output_type": "stream",
     "text": [
      "                                                            \r"
     ]
    },
    {
     "name": "stdout",
     "output_type": "stream",
     "text": [
      "Moviepy - Done !\n",
      "Moviepy - video ready /mnt/d/serao/busd_cp/test/NonViolence/NONVIOLENCE_3651.mp4\n",
      "Moviepy - Building video /mnt/d/serao/busd_cp/test/NonViolence/NONVIOLENCE_3653.mp4.\n",
      "Moviepy - Writing video /mnt/d/serao/busd_cp/test/NonViolence/NONVIOLENCE_3653.mp4\n",
      "\n"
     ]
    },
    {
     "name": "stderr",
     "output_type": "stream",
     "text": [
      "                                                            \r"
     ]
    },
    {
     "name": "stdout",
     "output_type": "stream",
     "text": [
      "Moviepy - Done !\n",
      "Moviepy - video ready /mnt/d/serao/busd_cp/test/NonViolence/NONVIOLENCE_3653.mp4\n",
      "Moviepy - Building video /mnt/d/serao/busd_cp/test/NonViolence/NONVIOLENCE_3677.mp4.\n",
      "Moviepy - Writing video /mnt/d/serao/busd_cp/test/NonViolence/NONVIOLENCE_3677.mp4\n",
      "\n"
     ]
    },
    {
     "name": "stderr",
     "output_type": "stream",
     "text": [
      "                                                   \r"
     ]
    },
    {
     "name": "stdout",
     "output_type": "stream",
     "text": [
      "Moviepy - Done !\n",
      "Moviepy - video ready /mnt/d/serao/busd_cp/test/NonViolence/NONVIOLENCE_3677.mp4\n",
      "Moviepy - Building video /mnt/d/serao/busd_cp/test/NonViolence/NONVIOLENCE_3684.mp4.\n",
      "Moviepy - Writing video /mnt/d/serao/busd_cp/test/NonViolence/NONVIOLENCE_3684.mp4\n",
      "\n"
     ]
    },
    {
     "name": "stderr",
     "output_type": "stream",
     "text": [
      "                                                   \r"
     ]
    },
    {
     "name": "stdout",
     "output_type": "stream",
     "text": [
      "Moviepy - Done !\n",
      "Moviepy - video ready /mnt/d/serao/busd_cp/test/NonViolence/NONVIOLENCE_3684.mp4\n",
      "Moviepy - Building video /mnt/d/serao/busd_cp/test/NonViolence/NONVIOLENCE_3693.mp4.\n",
      "Moviepy - Writing video /mnt/d/serao/busd_cp/test/NonViolence/NONVIOLENCE_3693.mp4\n",
      "\n"
     ]
    },
    {
     "name": "stderr",
     "output_type": "stream",
     "text": [
      "                                                   \r"
     ]
    },
    {
     "name": "stdout",
     "output_type": "stream",
     "text": [
      "Moviepy - Done !\n",
      "Moviepy - video ready /mnt/d/serao/busd_cp/test/NonViolence/NONVIOLENCE_3693.mp4\n",
      "Moviepy - Building video /mnt/d/serao/busd_cp/test/NonViolence/NONVIOLENCE_3698.mp4.\n",
      "Moviepy - Writing video /mnt/d/serao/busd_cp/test/NonViolence/NONVIOLENCE_3698.mp4\n",
      "\n"
     ]
    },
    {
     "name": "stderr",
     "output_type": "stream",
     "text": [
      "                                                            \r"
     ]
    },
    {
     "name": "stdout",
     "output_type": "stream",
     "text": [
      "Moviepy - Done !\n",
      "Moviepy - video ready /mnt/d/serao/busd_cp/test/NonViolence/NONVIOLENCE_3698.mp4\n",
      "Moviepy - Building video /mnt/d/serao/busd_cp/test/NonViolence/NONVIOLENCE_3715.mp4.\n",
      "Moviepy - Writing video /mnt/d/serao/busd_cp/test/NonViolence/NONVIOLENCE_3715.mp4\n",
      "\n"
     ]
    },
    {
     "name": "stderr",
     "output_type": "stream",
     "text": [
      "                                                   \r"
     ]
    },
    {
     "name": "stdout",
     "output_type": "stream",
     "text": [
      "Moviepy - Done !\n",
      "Moviepy - video ready /mnt/d/serao/busd_cp/test/NonViolence/NONVIOLENCE_3715.mp4\n",
      "Moviepy - Building video /mnt/d/serao/busd_cp/test/NonViolence/NONVIOLENCE_3731.mp4.\n",
      "Moviepy - Writing video /mnt/d/serao/busd_cp/test/NonViolence/NONVIOLENCE_3731.mp4\n",
      "\n"
     ]
    },
    {
     "name": "stderr",
     "output_type": "stream",
     "text": [
      "                                                            \r"
     ]
    },
    {
     "name": "stdout",
     "output_type": "stream",
     "text": [
      "Moviepy - Done !\n",
      "Moviepy - video ready /mnt/d/serao/busd_cp/test/NonViolence/NONVIOLENCE_3731.mp4\n",
      "Moviepy - Building video /mnt/d/serao/busd_cp/test/NonViolence/NONVIOLENCE_375.mp4.\n",
      "Moviepy - Writing video /mnt/d/serao/busd_cp/test/NonViolence/NONVIOLENCE_375.mp4\n",
      "\n"
     ]
    },
    {
     "name": "stderr",
     "output_type": "stream",
     "text": [
      "                                                            \r"
     ]
    },
    {
     "name": "stdout",
     "output_type": "stream",
     "text": [
      "Moviepy - Done !\n",
      "Moviepy - video ready /mnt/d/serao/busd_cp/test/NonViolence/NONVIOLENCE_375.mp4\n",
      "Moviepy - Building video /mnt/d/serao/busd_cp/test/NonViolence/NONVIOLENCE_3772.mp4.\n",
      "Moviepy - Writing video /mnt/d/serao/busd_cp/test/NonViolence/NONVIOLENCE_3772.mp4\n",
      "\n"
     ]
    },
    {
     "name": "stderr",
     "output_type": "stream",
     "text": [
      "                                                   \r"
     ]
    },
    {
     "name": "stdout",
     "output_type": "stream",
     "text": [
      "Moviepy - Done !\n",
      "Moviepy - video ready /mnt/d/serao/busd_cp/test/NonViolence/NONVIOLENCE_3772.mp4\n",
      "Moviepy - Building video /mnt/d/serao/busd_cp/test/NonViolence/NONVIOLENCE_3773.mp4.\n",
      "Moviepy - Writing video /mnt/d/serao/busd_cp/test/NonViolence/NONVIOLENCE_3773.mp4\n",
      "\n"
     ]
    },
    {
     "name": "stderr",
     "output_type": "stream",
     "text": [
      "                                                            \r"
     ]
    },
    {
     "name": "stdout",
     "output_type": "stream",
     "text": [
      "Moviepy - Done !\n",
      "Moviepy - video ready /mnt/d/serao/busd_cp/test/NonViolence/NONVIOLENCE_3773.mp4\n",
      "Moviepy - Building video /mnt/d/serao/busd_cp/test/NonViolence/NONVIOLENCE_3778.mp4.\n",
      "Moviepy - Writing video /mnt/d/serao/busd_cp/test/NonViolence/NONVIOLENCE_3778.mp4\n",
      "\n"
     ]
    },
    {
     "name": "stderr",
     "output_type": "stream",
     "text": [
      "                                                            \r"
     ]
    },
    {
     "name": "stdout",
     "output_type": "stream",
     "text": [
      "Moviepy - Done !\n",
      "Moviepy - video ready /mnt/d/serao/busd_cp/test/NonViolence/NONVIOLENCE_3778.mp4\n",
      "Moviepy - Building video /mnt/d/serao/busd_cp/test/NonViolence/NONVIOLENCE_3792.mp4.\n",
      "Moviepy - Writing video /mnt/d/serao/busd_cp/test/NonViolence/NONVIOLENCE_3792.mp4\n",
      "\n"
     ]
    },
    {
     "name": "stderr",
     "output_type": "stream",
     "text": [
      "                                                            \r"
     ]
    },
    {
     "name": "stdout",
     "output_type": "stream",
     "text": [
      "Moviepy - Done !\n",
      "Moviepy - video ready /mnt/d/serao/busd_cp/test/NonViolence/NONVIOLENCE_3792.mp4\n",
      "Moviepy - Building video /mnt/d/serao/busd_cp/test/NonViolence/NONVIOLENCE_3797.mp4.\n",
      "Moviepy - Writing video /mnt/d/serao/busd_cp/test/NonViolence/NONVIOLENCE_3797.mp4\n",
      "\n"
     ]
    },
    {
     "name": "stderr",
     "output_type": "stream",
     "text": [
      "                                                            \r"
     ]
    },
    {
     "name": "stdout",
     "output_type": "stream",
     "text": [
      "Moviepy - Done !\n",
      "Moviepy - video ready /mnt/d/serao/busd_cp/test/NonViolence/NONVIOLENCE_3797.mp4\n",
      "Moviepy - Building video /mnt/d/serao/busd_cp/test/NonViolence/NONVIOLENCE_3808.mp4.\n",
      "Moviepy - Writing video /mnt/d/serao/busd_cp/test/NonViolence/NONVIOLENCE_3808.mp4\n",
      "\n"
     ]
    },
    {
     "name": "stderr",
     "output_type": "stream",
     "text": [
      "                                                            \r"
     ]
    },
    {
     "name": "stdout",
     "output_type": "stream",
     "text": [
      "Moviepy - Done !\n",
      "Moviepy - video ready /mnt/d/serao/busd_cp/test/NonViolence/NONVIOLENCE_3808.mp4\n",
      "Moviepy - Building video /mnt/d/serao/busd_cp/test/NonViolence/NONVIOLENCE_3809.mp4.\n",
      "Moviepy - Writing video /mnt/d/serao/busd_cp/test/NonViolence/NONVIOLENCE_3809.mp4\n",
      "\n"
     ]
    },
    {
     "name": "stderr",
     "output_type": "stream",
     "text": [
      "                                                   \r"
     ]
    },
    {
     "name": "stdout",
     "output_type": "stream",
     "text": [
      "Moviepy - Done !\n",
      "Moviepy - video ready /mnt/d/serao/busd_cp/test/NonViolence/NONVIOLENCE_3809.mp4\n",
      "Moviepy - Building video /mnt/d/serao/busd_cp/test/NonViolence/NONVIOLENCE_384.mp4.\n",
      "Moviepy - Writing video /mnt/d/serao/busd_cp/test/NonViolence/NONVIOLENCE_384.mp4\n",
      "\n"
     ]
    },
    {
     "name": "stderr",
     "output_type": "stream",
     "text": [
      "                                                            \r"
     ]
    },
    {
     "name": "stdout",
     "output_type": "stream",
     "text": [
      "Moviepy - Done !\n",
      "Moviepy - video ready /mnt/d/serao/busd_cp/test/NonViolence/NONVIOLENCE_384.mp4\n",
      "Moviepy - Building video /mnt/d/serao/busd_cp/test/NonViolence/NONVIOLENCE_404.mp4.\n",
      "Moviepy - Writing video /mnt/d/serao/busd_cp/test/NonViolence/NONVIOLENCE_404.mp4\n",
      "\n"
     ]
    },
    {
     "name": "stderr",
     "output_type": "stream",
     "text": [
      "                                                            \r"
     ]
    },
    {
     "name": "stdout",
     "output_type": "stream",
     "text": [
      "Moviepy - Done !\n",
      "Moviepy - video ready /mnt/d/serao/busd_cp/test/NonViolence/NONVIOLENCE_404.mp4\n",
      "Moviepy - Building video /mnt/d/serao/busd_cp/test/NonViolence/NONVIOLENCE_417.mp4.\n",
      "Moviepy - Writing video /mnt/d/serao/busd_cp/test/NonViolence/NONVIOLENCE_417.mp4\n",
      "\n"
     ]
    },
    {
     "name": "stderr",
     "output_type": "stream",
     "text": [
      "                                                            \r"
     ]
    },
    {
     "name": "stdout",
     "output_type": "stream",
     "text": [
      "Moviepy - Done !\n",
      "Moviepy - video ready /mnt/d/serao/busd_cp/test/NonViolence/NONVIOLENCE_417.mp4\n",
      "Moviepy - Building video /mnt/d/serao/busd_cp/test/NonViolence/NONVIOLENCE_419.mp4.\n",
      "Moviepy - Writing video /mnt/d/serao/busd_cp/test/NonViolence/NONVIOLENCE_419.mp4\n",
      "\n"
     ]
    },
    {
     "name": "stderr",
     "output_type": "stream",
     "text": [
      "                                                   \r"
     ]
    },
    {
     "name": "stdout",
     "output_type": "stream",
     "text": [
      "Moviepy - Done !\n",
      "Moviepy - video ready /mnt/d/serao/busd_cp/test/NonViolence/NONVIOLENCE_419.mp4\n",
      "Moviepy - Building video /mnt/d/serao/busd_cp/test/NonViolence/NONVIOLENCE_43.mp4.\n",
      "Moviepy - Writing video /mnt/d/serao/busd_cp/test/NonViolence/NONVIOLENCE_43.mp4\n",
      "\n"
     ]
    },
    {
     "name": "stderr",
     "output_type": "stream",
     "text": [
      "                                                            \r"
     ]
    },
    {
     "name": "stdout",
     "output_type": "stream",
     "text": [
      "Moviepy - Done !\n",
      "Moviepy - video ready /mnt/d/serao/busd_cp/test/NonViolence/NONVIOLENCE_43.mp4\n",
      "Moviepy - Building video /mnt/d/serao/busd_cp/test/NonViolence/NONVIOLENCE_433.mp4.\n",
      "Moviepy - Writing video /mnt/d/serao/busd_cp/test/NonViolence/NONVIOLENCE_433.mp4\n",
      "\n"
     ]
    },
    {
     "name": "stderr",
     "output_type": "stream",
     "text": [
      "                                                            \r"
     ]
    },
    {
     "name": "stdout",
     "output_type": "stream",
     "text": [
      "Moviepy - Done !\n",
      "Moviepy - video ready /mnt/d/serao/busd_cp/test/NonViolence/NONVIOLENCE_433.mp4\n",
      "Moviepy - Building video /mnt/d/serao/busd_cp/test/NonViolence/NONVIOLENCE_46.mp4.\n",
      "Moviepy - Writing video /mnt/d/serao/busd_cp/test/NonViolence/NONVIOLENCE_46.mp4\n",
      "\n"
     ]
    },
    {
     "name": "stderr",
     "output_type": "stream",
     "text": [
      "                                                            \r"
     ]
    },
    {
     "name": "stdout",
     "output_type": "stream",
     "text": [
      "Moviepy - Done !\n",
      "Moviepy - video ready /mnt/d/serao/busd_cp/test/NonViolence/NONVIOLENCE_46.mp4\n",
      "Moviepy - Building video /mnt/d/serao/busd_cp/test/NonViolence/NONVIOLENCE_467.mp4.\n",
      "Moviepy - Writing video /mnt/d/serao/busd_cp/test/NonViolence/NONVIOLENCE_467.mp4\n",
      "\n"
     ]
    },
    {
     "name": "stderr",
     "output_type": "stream",
     "text": [
      "                                                   \r"
     ]
    },
    {
     "name": "stdout",
     "output_type": "stream",
     "text": [
      "Moviepy - Done !\n",
      "Moviepy - video ready /mnt/d/serao/busd_cp/test/NonViolence/NONVIOLENCE_467.mp4\n",
      "Moviepy - Building video /mnt/d/serao/busd_cp/test/NonViolence/NONVIOLENCE_468.mp4.\n",
      "Moviepy - Writing video /mnt/d/serao/busd_cp/test/NonViolence/NONVIOLENCE_468.mp4\n",
      "\n"
     ]
    },
    {
     "name": "stderr",
     "output_type": "stream",
     "text": [
      "                                                   \r"
     ]
    },
    {
     "name": "stdout",
     "output_type": "stream",
     "text": [
      "Moviepy - Done !\n",
      "Moviepy - video ready /mnt/d/serao/busd_cp/test/NonViolence/NONVIOLENCE_468.mp4\n",
      "Moviepy - Building video /mnt/d/serao/busd_cp/test/NonViolence/NONVIOLENCE_514.mp4.\n",
      "Moviepy - Writing video /mnt/d/serao/busd_cp/test/NonViolence/NONVIOLENCE_514.mp4\n",
      "\n"
     ]
    },
    {
     "name": "stderr",
     "output_type": "stream",
     "text": [
      "                                                            \r"
     ]
    },
    {
     "name": "stdout",
     "output_type": "stream",
     "text": [
      "Moviepy - Done !\n",
      "Moviepy - video ready /mnt/d/serao/busd_cp/test/NonViolence/NONVIOLENCE_514.mp4\n",
      "Moviepy - Building video /mnt/d/serao/busd_cp/test/NonViolence/NONVIOLENCE_521.mp4.\n",
      "Moviepy - Writing video /mnt/d/serao/busd_cp/test/NonViolence/NONVIOLENCE_521.mp4\n",
      "\n"
     ]
    },
    {
     "name": "stderr",
     "output_type": "stream",
     "text": [
      "                                                            \r"
     ]
    },
    {
     "name": "stdout",
     "output_type": "stream",
     "text": [
      "Moviepy - Done !\n",
      "Moviepy - video ready /mnt/d/serao/busd_cp/test/NonViolence/NONVIOLENCE_521.mp4\n",
      "Moviepy - Building video /mnt/d/serao/busd_cp/test/NonViolence/NONVIOLENCE_532.mp4.\n",
      "Moviepy - Writing video /mnt/d/serao/busd_cp/test/NonViolence/NONVIOLENCE_532.mp4\n",
      "\n"
     ]
    },
    {
     "name": "stderr",
     "output_type": "stream",
     "text": [
      "                                                             \r"
     ]
    },
    {
     "name": "stdout",
     "output_type": "stream",
     "text": [
      "Moviepy - Done !\n",
      "Moviepy - video ready /mnt/d/serao/busd_cp/test/NonViolence/NONVIOLENCE_532.mp4\n",
      "Moviepy - Building video /mnt/d/serao/busd_cp/test/NonViolence/NONVIOLENCE_563.mp4.\n",
      "Moviepy - Writing video /mnt/d/serao/busd_cp/test/NonViolence/NONVIOLENCE_563.mp4\n",
      "\n"
     ]
    },
    {
     "name": "stderr",
     "output_type": "stream",
     "text": [
      "                                                            \r"
     ]
    },
    {
     "name": "stdout",
     "output_type": "stream",
     "text": [
      "Moviepy - Done !\n",
      "Moviepy - video ready /mnt/d/serao/busd_cp/test/NonViolence/NONVIOLENCE_563.mp4\n",
      "Moviepy - Building video /mnt/d/serao/busd_cp/test/NonViolence/NONVIOLENCE_569.mp4.\n",
      "Moviepy - Writing video /mnt/d/serao/busd_cp/test/NonViolence/NONVIOLENCE_569.mp4\n",
      "\n"
     ]
    },
    {
     "name": "stderr",
     "output_type": "stream",
     "text": [
      "                                                   \r"
     ]
    },
    {
     "name": "stdout",
     "output_type": "stream",
     "text": [
      "Moviepy - Done !\n",
      "Moviepy - video ready /mnt/d/serao/busd_cp/test/NonViolence/NONVIOLENCE_569.mp4\n",
      "Moviepy - Building video /mnt/d/serao/busd_cp/test/NonViolence/NONVIOLENCE_591.mp4.\n",
      "Moviepy - Writing video /mnt/d/serao/busd_cp/test/NonViolence/NONVIOLENCE_591.mp4\n",
      "\n"
     ]
    },
    {
     "name": "stderr",
     "output_type": "stream",
     "text": [
      "                                                            \r"
     ]
    },
    {
     "name": "stdout",
     "output_type": "stream",
     "text": [
      "Moviepy - Done !\n",
      "Moviepy - video ready /mnt/d/serao/busd_cp/test/NonViolence/NONVIOLENCE_591.mp4\n",
      "Moviepy - Building video /mnt/d/serao/busd_cp/test/NonViolence/NONVIOLENCE_6.mp4.\n",
      "Moviepy - Writing video /mnt/d/serao/busd_cp/test/NonViolence/NONVIOLENCE_6.mp4\n",
      "\n"
     ]
    },
    {
     "name": "stderr",
     "output_type": "stream",
     "text": [
      "                                                            \r"
     ]
    },
    {
     "name": "stdout",
     "output_type": "stream",
     "text": [
      "Moviepy - Done !\n",
      "Moviepy - video ready /mnt/d/serao/busd_cp/test/NonViolence/NONVIOLENCE_6.mp4\n",
      "Moviepy - Building video /mnt/d/serao/busd_cp/test/NonViolence/NONVIOLENCE_610.mp4.\n",
      "Moviepy - Writing video /mnt/d/serao/busd_cp/test/NonViolence/NONVIOLENCE_610.mp4\n",
      "\n"
     ]
    },
    {
     "name": "stderr",
     "output_type": "stream",
     "text": [
      "                                                   \r"
     ]
    },
    {
     "name": "stdout",
     "output_type": "stream",
     "text": [
      "Moviepy - Done !\n",
      "Moviepy - video ready /mnt/d/serao/busd_cp/test/NonViolence/NONVIOLENCE_610.mp4\n",
      "Moviepy - Building video /mnt/d/serao/busd_cp/test/NonViolence/NONVIOLENCE_619.mp4.\n",
      "Moviepy - Writing video /mnt/d/serao/busd_cp/test/NonViolence/NONVIOLENCE_619.mp4\n",
      "\n"
     ]
    },
    {
     "name": "stderr",
     "output_type": "stream",
     "text": [
      "                                                            \r"
     ]
    },
    {
     "name": "stdout",
     "output_type": "stream",
     "text": [
      "Moviepy - Done !\n",
      "Moviepy - video ready /mnt/d/serao/busd_cp/test/NonViolence/NONVIOLENCE_619.mp4\n",
      "Moviepy - Building video /mnt/d/serao/busd_cp/test/NonViolence/NONVIOLENCE_628.mp4.\n",
      "Moviepy - Writing video /mnt/d/serao/busd_cp/test/NonViolence/NONVIOLENCE_628.mp4\n",
      "\n"
     ]
    },
    {
     "name": "stderr",
     "output_type": "stream",
     "text": [
      "                                                            \r"
     ]
    },
    {
     "name": "stdout",
     "output_type": "stream",
     "text": [
      "Moviepy - Done !\n",
      "Moviepy - video ready /mnt/d/serao/busd_cp/test/NonViolence/NONVIOLENCE_628.mp4\n",
      "Moviepy - Building video /mnt/d/serao/busd_cp/test/NonViolence/NONVIOLENCE_630.mp4.\n",
      "Moviepy - Writing video /mnt/d/serao/busd_cp/test/NonViolence/NONVIOLENCE_630.mp4\n",
      "\n"
     ]
    },
    {
     "name": "stderr",
     "output_type": "stream",
     "text": [
      "                                                            \r"
     ]
    },
    {
     "name": "stdout",
     "output_type": "stream",
     "text": [
      "Moviepy - Done !\n",
      "Moviepy - video ready /mnt/d/serao/busd_cp/test/NonViolence/NONVIOLENCE_630.mp4\n",
      "Moviepy - Building video /mnt/d/serao/busd_cp/test/NonViolence/NONVIOLENCE_633.mp4.\n",
      "Moviepy - Writing video /mnt/d/serao/busd_cp/test/NonViolence/NONVIOLENCE_633.mp4\n",
      "\n"
     ]
    },
    {
     "name": "stderr",
     "output_type": "stream",
     "text": [
      "                                                   \r"
     ]
    },
    {
     "name": "stdout",
     "output_type": "stream",
     "text": [
      "Moviepy - Done !\n",
      "Moviepy - video ready /mnt/d/serao/busd_cp/test/NonViolence/NONVIOLENCE_633.mp4\n",
      "Moviepy - Building video /mnt/d/serao/busd_cp/test/NonViolence/NONVIOLENCE_658.mp4.\n",
      "Moviepy - Writing video /mnt/d/serao/busd_cp/test/NonViolence/NONVIOLENCE_658.mp4\n",
      "\n"
     ]
    },
    {
     "name": "stderr",
     "output_type": "stream",
     "text": [
      "                                                   \r"
     ]
    },
    {
     "name": "stdout",
     "output_type": "stream",
     "text": [
      "Moviepy - Done !\n",
      "Moviepy - video ready /mnt/d/serao/busd_cp/test/NonViolence/NONVIOLENCE_658.mp4\n",
      "Moviepy - Building video /mnt/d/serao/busd_cp/test/NonViolence/NONVIOLENCE_663.mp4.\n",
      "Moviepy - Writing video /mnt/d/serao/busd_cp/test/NonViolence/NONVIOLENCE_663.mp4\n",
      "\n"
     ]
    },
    {
     "name": "stderr",
     "output_type": "stream",
     "text": [
      "                                                            \r"
     ]
    },
    {
     "name": "stdout",
     "output_type": "stream",
     "text": [
      "Moviepy - Done !\n",
      "Moviepy - video ready /mnt/d/serao/busd_cp/test/NonViolence/NONVIOLENCE_663.mp4\n",
      "Moviepy - Building video /mnt/d/serao/busd_cp/test/NonViolence/NONVIOLENCE_673.mp4.\n",
      "Moviepy - Writing video /mnt/d/serao/busd_cp/test/NonViolence/NONVIOLENCE_673.mp4\n",
      "\n"
     ]
    },
    {
     "name": "stderr",
     "output_type": "stream",
     "text": [
      "                                                            \r"
     ]
    },
    {
     "name": "stdout",
     "output_type": "stream",
     "text": [
      "Moviepy - Done !\n",
      "Moviepy - video ready /mnt/d/serao/busd_cp/test/NonViolence/NONVIOLENCE_673.mp4\n",
      "Moviepy - Building video /mnt/d/serao/busd_cp/test/NonViolence/NONVIOLENCE_685.mp4.\n",
      "Moviepy - Writing video /mnt/d/serao/busd_cp/test/NonViolence/NONVIOLENCE_685.mp4\n",
      "\n"
     ]
    },
    {
     "name": "stderr",
     "output_type": "stream",
     "text": [
      "                                                   \r"
     ]
    },
    {
     "name": "stdout",
     "output_type": "stream",
     "text": [
      "Moviepy - Done !\n",
      "Moviepy - video ready /mnt/d/serao/busd_cp/test/NonViolence/NONVIOLENCE_685.mp4\n",
      "Moviepy - Building video /mnt/d/serao/busd_cp/test/NonViolence/NONVIOLENCE_687.mp4.\n",
      "Moviepy - Writing video /mnt/d/serao/busd_cp/test/NonViolence/NONVIOLENCE_687.mp4\n",
      "\n"
     ]
    },
    {
     "name": "stderr",
     "output_type": "stream",
     "text": [
      "                                                   \r"
     ]
    },
    {
     "name": "stdout",
     "output_type": "stream",
     "text": [
      "Moviepy - Done !\n",
      "Moviepy - video ready /mnt/d/serao/busd_cp/test/NonViolence/NONVIOLENCE_687.mp4\n",
      "Moviepy - Building video /mnt/d/serao/busd_cp/test/NonViolence/NONVIOLENCE_692.mp4.\n",
      "Moviepy - Writing video /mnt/d/serao/busd_cp/test/NonViolence/NONVIOLENCE_692.mp4\n",
      "\n"
     ]
    },
    {
     "name": "stderr",
     "output_type": "stream",
     "text": [
      "                                                             \r"
     ]
    },
    {
     "name": "stdout",
     "output_type": "stream",
     "text": [
      "Moviepy - Done !\n",
      "Moviepy - video ready /mnt/d/serao/busd_cp/test/NonViolence/NONVIOLENCE_692.mp4\n",
      "Moviepy - Building video /mnt/d/serao/busd_cp/test/NonViolence/NONVIOLENCE_729.mp4.\n",
      "Moviepy - Writing video /mnt/d/serao/busd_cp/test/NonViolence/NONVIOLENCE_729.mp4\n",
      "\n"
     ]
    },
    {
     "name": "stderr",
     "output_type": "stream",
     "text": [
      "                                                   \r"
     ]
    },
    {
     "name": "stdout",
     "output_type": "stream",
     "text": [
      "Moviepy - Done !\n",
      "Moviepy - video ready /mnt/d/serao/busd_cp/test/NonViolence/NONVIOLENCE_729.mp4\n",
      "Moviepy - Building video /mnt/d/serao/busd_cp/test/NonViolence/NONVIOLENCE_735.mp4.\n",
      "Moviepy - Writing video /mnt/d/serao/busd_cp/test/NonViolence/NONVIOLENCE_735.mp4\n",
      "\n"
     ]
    },
    {
     "name": "stderr",
     "output_type": "stream",
     "text": [
      "                                                            \r"
     ]
    },
    {
     "name": "stdout",
     "output_type": "stream",
     "text": [
      "Moviepy - Done !\n",
      "Moviepy - video ready /mnt/d/serao/busd_cp/test/NonViolence/NONVIOLENCE_735.mp4\n",
      "Moviepy - Building video /mnt/d/serao/busd_cp/test/NonViolence/NONVIOLENCE_793.mp4.\n",
      "Moviepy - Writing video /mnt/d/serao/busd_cp/test/NonViolence/NONVIOLENCE_793.mp4\n",
      "\n"
     ]
    },
    {
     "name": "stderr",
     "output_type": "stream",
     "text": [
      "                                                            \r"
     ]
    },
    {
     "name": "stdout",
     "output_type": "stream",
     "text": [
      "Moviepy - Done !\n",
      "Moviepy - video ready /mnt/d/serao/busd_cp/test/NonViolence/NONVIOLENCE_793.mp4\n",
      "Moviepy - Building video /mnt/d/serao/busd_cp/test/NonViolence/NONVIOLENCE_799.mp4.\n",
      "Moviepy - Writing video /mnt/d/serao/busd_cp/test/NonViolence/NONVIOLENCE_799.mp4\n",
      "\n"
     ]
    },
    {
     "name": "stderr",
     "output_type": "stream",
     "text": [
      "                                                             \r"
     ]
    },
    {
     "name": "stdout",
     "output_type": "stream",
     "text": [
      "Moviepy - Done !\n",
      "Moviepy - video ready /mnt/d/serao/busd_cp/test/NonViolence/NONVIOLENCE_799.mp4\n",
      "Moviepy - Building video /mnt/d/serao/busd_cp/test/NonViolence/NONVIOLENCE_847.mp4.\n",
      "Moviepy - Writing video /mnt/d/serao/busd_cp/test/NonViolence/NONVIOLENCE_847.mp4\n",
      "\n"
     ]
    },
    {
     "name": "stderr",
     "output_type": "stream",
     "text": [
      "                                                            \r"
     ]
    },
    {
     "name": "stdout",
     "output_type": "stream",
     "text": [
      "Moviepy - Done !\n",
      "Moviepy - video ready /mnt/d/serao/busd_cp/test/NonViolence/NONVIOLENCE_847.mp4\n",
      "Moviepy - Building video /mnt/d/serao/busd_cp/test/NonViolence/NONVIOLENCE_858.mp4.\n",
      "Moviepy - Writing video /mnt/d/serao/busd_cp/test/NonViolence/NONVIOLENCE_858.mp4\n",
      "\n"
     ]
    },
    {
     "name": "stderr",
     "output_type": "stream",
     "text": [
      "                                                            \r"
     ]
    },
    {
     "name": "stdout",
     "output_type": "stream",
     "text": [
      "Moviepy - Done !\n",
      "Moviepy - video ready /mnt/d/serao/busd_cp/test/NonViolence/NONVIOLENCE_858.mp4\n",
      "Moviepy - Building video /mnt/d/serao/busd_cp/test/NonViolence/NONVIOLENCE_885.mp4.\n",
      "Moviepy - Writing video /mnt/d/serao/busd_cp/test/NonViolence/NONVIOLENCE_885.mp4\n",
      "\n"
     ]
    },
    {
     "name": "stderr",
     "output_type": "stream",
     "text": [
      "                                                             \r"
     ]
    },
    {
     "name": "stdout",
     "output_type": "stream",
     "text": [
      "Moviepy - Done !\n",
      "Moviepy - video ready /mnt/d/serao/busd_cp/test/NonViolence/NONVIOLENCE_885.mp4\n",
      "Moviepy - Building video /mnt/d/serao/busd_cp/test/NonViolence/NONVIOLENCE_887.mp4.\n",
      "Moviepy - Writing video /mnt/d/serao/busd_cp/test/NonViolence/NONVIOLENCE_887.mp4\n",
      "\n"
     ]
    },
    {
     "name": "stderr",
     "output_type": "stream",
     "text": [
      "                                                            \r"
     ]
    },
    {
     "name": "stdout",
     "output_type": "stream",
     "text": [
      "Moviepy - Done !\n",
      "Moviepy - video ready /mnt/d/serao/busd_cp/test/NonViolence/NONVIOLENCE_887.mp4\n",
      "Moviepy - Building video /mnt/d/serao/busd_cp/test/NonViolence/NONVIOLENCE_888.mp4.\n",
      "Moviepy - Writing video /mnt/d/serao/busd_cp/test/NonViolence/NONVIOLENCE_888.mp4\n",
      "\n"
     ]
    },
    {
     "name": "stderr",
     "output_type": "stream",
     "text": [
      "                                                            \r"
     ]
    },
    {
     "name": "stdout",
     "output_type": "stream",
     "text": [
      "Moviepy - Done !\n",
      "Moviepy - video ready /mnt/d/serao/busd_cp/test/NonViolence/NONVIOLENCE_888.mp4\n",
      "Moviepy - Building video /mnt/d/serao/busd_cp/test/NonViolence/NONVIOLENCE_893.mp4.\n",
      "Moviepy - Writing video /mnt/d/serao/busd_cp/test/NonViolence/NONVIOLENCE_893.mp4\n",
      "\n"
     ]
    },
    {
     "name": "stderr",
     "output_type": "stream",
     "text": [
      "                                                            \r"
     ]
    },
    {
     "name": "stdout",
     "output_type": "stream",
     "text": [
      "Moviepy - Done !\n",
      "Moviepy - video ready /mnt/d/serao/busd_cp/test/NonViolence/NONVIOLENCE_893.mp4\n",
      "Moviepy - Building video /mnt/d/serao/busd_cp/test/NonViolence/NONVIOLENCE_905.mp4.\n",
      "Moviepy - Writing video /mnt/d/serao/busd_cp/test/NonViolence/NONVIOLENCE_905.mp4\n",
      "\n"
     ]
    },
    {
     "name": "stderr",
     "output_type": "stream",
     "text": [
      "                                                   \r"
     ]
    },
    {
     "name": "stdout",
     "output_type": "stream",
     "text": [
      "Moviepy - Done !\n",
      "Moviepy - video ready /mnt/d/serao/busd_cp/test/NonViolence/NONVIOLENCE_905.mp4\n",
      "Moviepy - Building video /mnt/d/serao/busd_cp/test/NonViolence/NONVIOLENCE_927.mp4.\n",
      "Moviepy - Writing video /mnt/d/serao/busd_cp/test/NonViolence/NONVIOLENCE_927.mp4\n",
      "\n"
     ]
    },
    {
     "name": "stderr",
     "output_type": "stream",
     "text": [
      "                                                            \r"
     ]
    },
    {
     "name": "stdout",
     "output_type": "stream",
     "text": [
      "Moviepy - Done !\n",
      "Moviepy - video ready /mnt/d/serao/busd_cp/test/NonViolence/NONVIOLENCE_927.mp4\n",
      "Moviepy - Building video /mnt/d/serao/busd_cp/test/NonViolence/NONVIOLENCE_928.mp4.\n",
      "Moviepy - Writing video /mnt/d/serao/busd_cp/test/NonViolence/NONVIOLENCE_928.mp4\n",
      "\n"
     ]
    },
    {
     "name": "stderr",
     "output_type": "stream",
     "text": [
      "                                                            \r"
     ]
    },
    {
     "name": "stdout",
     "output_type": "stream",
     "text": [
      "Moviepy - Done !\n",
      "Moviepy - video ready /mnt/d/serao/busd_cp/test/NonViolence/NONVIOLENCE_928.mp4\n",
      "Moviepy - Building video /mnt/d/serao/busd_cp/test/NonViolence/NONVIOLENCE_954.mp4.\n",
      "Moviepy - Writing video /mnt/d/serao/busd_cp/test/NonViolence/NONVIOLENCE_954.mp4\n",
      "\n"
     ]
    },
    {
     "name": "stderr",
     "output_type": "stream",
     "text": [
      "                                                            \r"
     ]
    },
    {
     "name": "stdout",
     "output_type": "stream",
     "text": [
      "Moviepy - Done !\n",
      "Moviepy - video ready /mnt/d/serao/busd_cp/test/NonViolence/NONVIOLENCE_954.mp4\n",
      "Moviepy - Building video /mnt/d/serao/busd_cp/test/NonViolence/NONVIOLENCE_963.mp4.\n",
      "Moviepy - Writing video /mnt/d/serao/busd_cp/test/NonViolence/NONVIOLENCE_963.mp4\n",
      "\n"
     ]
    },
    {
     "name": "stderr",
     "output_type": "stream",
     "text": [
      "                                                            \r"
     ]
    },
    {
     "name": "stdout",
     "output_type": "stream",
     "text": [
      "Moviepy - Done !\n",
      "Moviepy - video ready /mnt/d/serao/busd_cp/test/NonViolence/NONVIOLENCE_963.mp4\n",
      "Moviepy - Building video /mnt/d/serao/busd_cp/test/NonViolence/NONVIOLENCE_999.mp4.\n",
      "Moviepy - Writing video /mnt/d/serao/busd_cp/test/NonViolence/NONVIOLENCE_999.mp4\n",
      "\n"
     ]
    },
    {
     "name": "stderr",
     "output_type": "stream",
     "text": [
      "                                                            \r"
     ]
    },
    {
     "name": "stdout",
     "output_type": "stream",
     "text": [
      "Moviepy - Done !\n",
      "Moviepy - video ready /mnt/d/serao/busd_cp/test/NonViolence/NONVIOLENCE_999.mp4\n",
      "Moviepy - Building video /mnt/d/serao/busd_cp/test/Violence/VIOLENCE_100.mp4.\n",
      "Moviepy - Writing video /mnt/d/serao/busd_cp/test/Violence/VIOLENCE_100.mp4\n",
      "\n"
     ]
    },
    {
     "name": "stderr",
     "output_type": "stream",
     "text": [
      "                                                            \r"
     ]
    },
    {
     "name": "stdout",
     "output_type": "stream",
     "text": [
      "Moviepy - Done !\n",
      "Moviepy - video ready /mnt/d/serao/busd_cp/test/Violence/VIOLENCE_100.mp4\n",
      "Moviepy - Building video /mnt/d/serao/busd_cp/test/Violence/VIOLENCE_1002.mp4.\n",
      "Moviepy - Writing video /mnt/d/serao/busd_cp/test/Violence/VIOLENCE_1002.mp4\n",
      "\n"
     ]
    },
    {
     "name": "stderr",
     "output_type": "stream",
     "text": [
      "                                                            \r"
     ]
    },
    {
     "name": "stdout",
     "output_type": "stream",
     "text": [
      "Moviepy - Done !\n",
      "Moviepy - video ready /mnt/d/serao/busd_cp/test/Violence/VIOLENCE_1002.mp4\n",
      "Moviepy - Building video /mnt/d/serao/busd_cp/test/Violence/VIOLENCE_1005.mp4.\n",
      "Moviepy - Writing video /mnt/d/serao/busd_cp/test/Violence/VIOLENCE_1005.mp4\n",
      "\n"
     ]
    },
    {
     "name": "stderr",
     "output_type": "stream",
     "text": [
      "                                                            \r"
     ]
    },
    {
     "name": "stdout",
     "output_type": "stream",
     "text": [
      "Moviepy - Done !\n",
      "Moviepy - video ready /mnt/d/serao/busd_cp/test/Violence/VIOLENCE_1005.mp4\n",
      "Moviepy - Building video /mnt/d/serao/busd_cp/test/Violence/VIOLENCE_1007.mp4.\n",
      "Moviepy - Writing video /mnt/d/serao/busd_cp/test/Violence/VIOLENCE_1007.mp4\n",
      "\n"
     ]
    },
    {
     "name": "stderr",
     "output_type": "stream",
     "text": [
      "                                                            \r"
     ]
    },
    {
     "name": "stdout",
     "output_type": "stream",
     "text": [
      "Moviepy - Done !\n",
      "Moviepy - video ready /mnt/d/serao/busd_cp/test/Violence/VIOLENCE_1007.mp4\n",
      "Moviepy - Building video /mnt/d/serao/busd_cp/test/Violence/VIOLENCE_1010.mp4.\n",
      "Moviepy - Writing video /mnt/d/serao/busd_cp/test/Violence/VIOLENCE_1010.mp4\n",
      "\n"
     ]
    },
    {
     "name": "stderr",
     "output_type": "stream",
     "text": [
      "                                                            \r"
     ]
    },
    {
     "name": "stdout",
     "output_type": "stream",
     "text": [
      "Moviepy - Done !\n",
      "Moviepy - video ready /mnt/d/serao/busd_cp/test/Violence/VIOLENCE_1010.mp4\n",
      "Moviepy - Building video /mnt/d/serao/busd_cp/test/Violence/VIOLENCE_1015.mp4.\n",
      "Moviepy - Writing video /mnt/d/serao/busd_cp/test/Violence/VIOLENCE_1015.mp4\n",
      "\n"
     ]
    },
    {
     "name": "stderr",
     "output_type": "stream",
     "text": [
      "                                                            \r"
     ]
    },
    {
     "name": "stdout",
     "output_type": "stream",
     "text": [
      "Moviepy - Done !\n",
      "Moviepy - video ready /mnt/d/serao/busd_cp/test/Violence/VIOLENCE_1015.mp4\n",
      "Moviepy - Building video /mnt/d/serao/busd_cp/test/Violence/VIOLENCE_1017.mp4.\n",
      "Moviepy - Writing video /mnt/d/serao/busd_cp/test/Violence/VIOLENCE_1017.mp4\n",
      "\n"
     ]
    },
    {
     "name": "stderr",
     "output_type": "stream",
     "text": [
      "                                                             \r"
     ]
    },
    {
     "name": "stdout",
     "output_type": "stream",
     "text": [
      "Moviepy - Done !\n",
      "Moviepy - video ready /mnt/d/serao/busd_cp/test/Violence/VIOLENCE_1017.mp4\n",
      "Moviepy - Building video /mnt/d/serao/busd_cp/test/Violence/VIOLENCE_1018.mp4.\n",
      "Moviepy - Writing video /mnt/d/serao/busd_cp/test/Violence/VIOLENCE_1018.mp4\n",
      "\n"
     ]
    },
    {
     "name": "stderr",
     "output_type": "stream",
     "text": [
      "                                                             \r"
     ]
    },
    {
     "name": "stdout",
     "output_type": "stream",
     "text": [
      "Moviepy - Done !\n",
      "Moviepy - video ready /mnt/d/serao/busd_cp/test/Violence/VIOLENCE_1018.mp4\n",
      "Moviepy - Building video /mnt/d/serao/busd_cp/test/Violence/VIOLENCE_1027.mp4.\n",
      "Moviepy - Writing video /mnt/d/serao/busd_cp/test/Violence/VIOLENCE_1027.mp4\n",
      "\n"
     ]
    },
    {
     "name": "stderr",
     "output_type": "stream",
     "text": [
      "                                                            \r"
     ]
    },
    {
     "name": "stdout",
     "output_type": "stream",
     "text": [
      "Moviepy - Done !\n",
      "Moviepy - video ready /mnt/d/serao/busd_cp/test/Violence/VIOLENCE_1027.mp4\n",
      "Moviepy - Building video /mnt/d/serao/busd_cp/test/Violence/VIOLENCE_1032.mp4.\n",
      "Moviepy - Writing video /mnt/d/serao/busd_cp/test/Violence/VIOLENCE_1032.mp4\n",
      "\n"
     ]
    },
    {
     "name": "stderr",
     "output_type": "stream",
     "text": [
      "                                                            \r"
     ]
    },
    {
     "name": "stdout",
     "output_type": "stream",
     "text": [
      "Moviepy - Done !\n",
      "Moviepy - video ready /mnt/d/serao/busd_cp/test/Violence/VIOLENCE_1032.mp4\n",
      "Moviepy - Building video /mnt/d/serao/busd_cp/test/Violence/VIOLENCE_1043.mp4.\n",
      "Moviepy - Writing video /mnt/d/serao/busd_cp/test/Violence/VIOLENCE_1043.mp4\n",
      "\n"
     ]
    },
    {
     "name": "stderr",
     "output_type": "stream",
     "text": [
      "                                                            \r"
     ]
    },
    {
     "name": "stdout",
     "output_type": "stream",
     "text": [
      "Moviepy - Done !\n",
      "Moviepy - video ready /mnt/d/serao/busd_cp/test/Violence/VIOLENCE_1043.mp4\n",
      "Moviepy - Building video /mnt/d/serao/busd_cp/test/Violence/VIOLENCE_1053.mp4.\n",
      "Moviepy - Writing video /mnt/d/serao/busd_cp/test/Violence/VIOLENCE_1053.mp4\n",
      "\n"
     ]
    },
    {
     "name": "stderr",
     "output_type": "stream",
     "text": [
      "                                                             \r"
     ]
    },
    {
     "name": "stdout",
     "output_type": "stream",
     "text": [
      "Moviepy - Done !\n",
      "Moviepy - video ready /mnt/d/serao/busd_cp/test/Violence/VIOLENCE_1053.mp4\n",
      "Moviepy - Building video /mnt/d/serao/busd_cp/test/Violence/VIOLENCE_1055.mp4.\n",
      "Moviepy - Writing video /mnt/d/serao/busd_cp/test/Violence/VIOLENCE_1055.mp4\n",
      "\n"
     ]
    },
    {
     "name": "stderr",
     "output_type": "stream",
     "text": [
      "                                                            \r"
     ]
    },
    {
     "name": "stdout",
     "output_type": "stream",
     "text": [
      "Moviepy - Done !\n",
      "Moviepy - video ready /mnt/d/serao/busd_cp/test/Violence/VIOLENCE_1055.mp4\n",
      "Moviepy - Building video /mnt/d/serao/busd_cp/test/Violence/VIOLENCE_1063.mp4.\n",
      "Moviepy - Writing video /mnt/d/serao/busd_cp/test/Violence/VIOLENCE_1063.mp4\n",
      "\n"
     ]
    },
    {
     "name": "stderr",
     "output_type": "stream",
     "text": [
      "                                                            \r"
     ]
    },
    {
     "name": "stdout",
     "output_type": "stream",
     "text": [
      "Moviepy - Done !\n",
      "Moviepy - video ready /mnt/d/serao/busd_cp/test/Violence/VIOLENCE_1063.mp4\n",
      "Moviepy - Building video /mnt/d/serao/busd_cp/test/Violence/VIOLENCE_1068.mp4.\n",
      "Moviepy - Writing video /mnt/d/serao/busd_cp/test/Violence/VIOLENCE_1068.mp4\n",
      "\n"
     ]
    },
    {
     "name": "stderr",
     "output_type": "stream",
     "text": [
      "                                                            \r"
     ]
    },
    {
     "name": "stdout",
     "output_type": "stream",
     "text": [
      "Moviepy - Done !\n",
      "Moviepy - video ready /mnt/d/serao/busd_cp/test/Violence/VIOLENCE_1068.mp4\n",
      "Moviepy - Building video /mnt/d/serao/busd_cp/test/Violence/VIOLENCE_1070.mp4.\n",
      "Moviepy - Writing video /mnt/d/serao/busd_cp/test/Violence/VIOLENCE_1070.mp4\n",
      "\n"
     ]
    },
    {
     "name": "stderr",
     "output_type": "stream",
     "text": [
      "                                                            \r"
     ]
    },
    {
     "name": "stdout",
     "output_type": "stream",
     "text": [
      "Moviepy - Done !\n",
      "Moviepy - video ready /mnt/d/serao/busd_cp/test/Violence/VIOLENCE_1070.mp4\n",
      "Moviepy - Building video /mnt/d/serao/busd_cp/test/Violence/VIOLENCE_1072.mp4.\n",
      "Moviepy - Writing video /mnt/d/serao/busd_cp/test/Violence/VIOLENCE_1072.mp4\n",
      "\n"
     ]
    },
    {
     "name": "stderr",
     "output_type": "stream",
     "text": [
      "                                                            \r"
     ]
    },
    {
     "name": "stdout",
     "output_type": "stream",
     "text": [
      "Moviepy - Done !\n",
      "Moviepy - video ready /mnt/d/serao/busd_cp/test/Violence/VIOLENCE_1072.mp4\n",
      "Moviepy - Building video /mnt/d/serao/busd_cp/test/Violence/VIOLENCE_1079.mp4.\n",
      "Moviepy - Writing video /mnt/d/serao/busd_cp/test/Violence/VIOLENCE_1079.mp4\n",
      "\n"
     ]
    },
    {
     "name": "stderr",
     "output_type": "stream",
     "text": [
      "                                                            \r"
     ]
    },
    {
     "name": "stdout",
     "output_type": "stream",
     "text": [
      "Moviepy - Done !\n",
      "Moviepy - video ready /mnt/d/serao/busd_cp/test/Violence/VIOLENCE_1079.mp4\n",
      "Moviepy - Building video /mnt/d/serao/busd_cp/test/Violence/VIOLENCE_108.mp4.\n",
      "Moviepy - Writing video /mnt/d/serao/busd_cp/test/Violence/VIOLENCE_108.mp4\n",
      "\n"
     ]
    },
    {
     "name": "stderr",
     "output_type": "stream",
     "text": [
      "                                                             \r"
     ]
    },
    {
     "name": "stdout",
     "output_type": "stream",
     "text": [
      "Moviepy - Done !\n",
      "Moviepy - video ready /mnt/d/serao/busd_cp/test/Violence/VIOLENCE_108.mp4\n",
      "Moviepy - Building video /mnt/d/serao/busd_cp/test/Violence/VIOLENCE_1085.mp4.\n",
      "Moviepy - Writing video /mnt/d/serao/busd_cp/test/Violence/VIOLENCE_1085.mp4\n",
      "\n"
     ]
    },
    {
     "name": "stderr",
     "output_type": "stream",
     "text": [
      "                                                            \r"
     ]
    },
    {
     "name": "stdout",
     "output_type": "stream",
     "text": [
      "Moviepy - Done !\n",
      "Moviepy - video ready /mnt/d/serao/busd_cp/test/Violence/VIOLENCE_1085.mp4\n",
      "Moviepy - Building video /mnt/d/serao/busd_cp/test/Violence/VIOLENCE_1093.mp4.\n",
      "Moviepy - Writing video /mnt/d/serao/busd_cp/test/Violence/VIOLENCE_1093.mp4\n",
      "\n"
     ]
    },
    {
     "name": "stderr",
     "output_type": "stream",
     "text": [
      "                                                   \r"
     ]
    },
    {
     "name": "stdout",
     "output_type": "stream",
     "text": [
      "Moviepy - Done !\n",
      "Moviepy - video ready /mnt/d/serao/busd_cp/test/Violence/VIOLENCE_1093.mp4\n",
      "Moviepy - Building video /mnt/d/serao/busd_cp/test/Violence/VIOLENCE_1099.mp4.\n",
      "Moviepy - Writing video /mnt/d/serao/busd_cp/test/Violence/VIOLENCE_1099.mp4\n",
      "\n"
     ]
    },
    {
     "name": "stderr",
     "output_type": "stream",
     "text": [
      "                                                            \r"
     ]
    },
    {
     "name": "stdout",
     "output_type": "stream",
     "text": [
      "Moviepy - Done !\n",
      "Moviepy - video ready /mnt/d/serao/busd_cp/test/Violence/VIOLENCE_1099.mp4\n",
      "Moviepy - Building video /mnt/d/serao/busd_cp/test/Violence/VIOLENCE_11.mp4.\n",
      "Moviepy - Writing video /mnt/d/serao/busd_cp/test/Violence/VIOLENCE_11.mp4\n",
      "\n"
     ]
    },
    {
     "name": "stderr",
     "output_type": "stream",
     "text": [
      "                                                   \r"
     ]
    },
    {
     "name": "stdout",
     "output_type": "stream",
     "text": [
      "Moviepy - Done !\n",
      "Moviepy - video ready /mnt/d/serao/busd_cp/test/Violence/VIOLENCE_11.mp4\n",
      "Moviepy - Building video /mnt/d/serao/busd_cp/test/Violence/VIOLENCE_1101.mp4.\n",
      "Moviepy - Writing video /mnt/d/serao/busd_cp/test/Violence/VIOLENCE_1101.mp4\n",
      "\n"
     ]
    },
    {
     "name": "stderr",
     "output_type": "stream",
     "text": [
      "                                                            \r"
     ]
    },
    {
     "name": "stdout",
     "output_type": "stream",
     "text": [
      "Moviepy - Done !\n",
      "Moviepy - video ready /mnt/d/serao/busd_cp/test/Violence/VIOLENCE_1101.mp4\n",
      "Moviepy - Building video /mnt/d/serao/busd_cp/test/Violence/VIOLENCE_1115.mp4.\n",
      "Moviepy - Writing video /mnt/d/serao/busd_cp/test/Violence/VIOLENCE_1115.mp4\n",
      "\n"
     ]
    },
    {
     "name": "stderr",
     "output_type": "stream",
     "text": [
      "                                                   \r"
     ]
    },
    {
     "name": "stdout",
     "output_type": "stream",
     "text": [
      "Moviepy - Done !\n",
      "Moviepy - video ready /mnt/d/serao/busd_cp/test/Violence/VIOLENCE_1115.mp4\n",
      "Moviepy - Building video /mnt/d/serao/busd_cp/test/Violence/VIOLENCE_1117.mp4.\n",
      "Moviepy - Writing video /mnt/d/serao/busd_cp/test/Violence/VIOLENCE_1117.mp4\n",
      "\n"
     ]
    },
    {
     "name": "stderr",
     "output_type": "stream",
     "text": [
      "                                                   \r"
     ]
    },
    {
     "name": "stdout",
     "output_type": "stream",
     "text": [
      "Moviepy - Done !\n",
      "Moviepy - video ready /mnt/d/serao/busd_cp/test/Violence/VIOLENCE_1117.mp4\n",
      "Moviepy - Building video /mnt/d/serao/busd_cp/test/Violence/VIOLENCE_112.mp4.\n",
      "Moviepy - Writing video /mnt/d/serao/busd_cp/test/Violence/VIOLENCE_112.mp4\n",
      "\n"
     ]
    },
    {
     "name": "stderr",
     "output_type": "stream",
     "text": [
      "                                                   \r"
     ]
    },
    {
     "name": "stdout",
     "output_type": "stream",
     "text": [
      "Moviepy - Done !\n",
      "Moviepy - video ready /mnt/d/serao/busd_cp/test/Violence/VIOLENCE_112.mp4\n",
      "Moviepy - Building video /mnt/d/serao/busd_cp/test/Violence/VIOLENCE_1133.mp4.\n",
      "Moviepy - Writing video /mnt/d/serao/busd_cp/test/Violence/VIOLENCE_1133.mp4\n",
      "\n"
     ]
    },
    {
     "name": "stderr",
     "output_type": "stream",
     "text": [
      "                                                   \r"
     ]
    },
    {
     "name": "stdout",
     "output_type": "stream",
     "text": [
      "Moviepy - Done !\n",
      "Moviepy - video ready /mnt/d/serao/busd_cp/test/Violence/VIOLENCE_1133.mp4\n",
      "Moviepy - Building video /mnt/d/serao/busd_cp/test/Violence/VIOLENCE_1142.mp4.\n",
      "Moviepy - Writing video /mnt/d/serao/busd_cp/test/Violence/VIOLENCE_1142.mp4\n",
      "\n"
     ]
    },
    {
     "name": "stderr",
     "output_type": "stream",
     "text": [
      "                                                            \r"
     ]
    },
    {
     "name": "stdout",
     "output_type": "stream",
     "text": [
      "Moviepy - Done !\n",
      "Moviepy - video ready /mnt/d/serao/busd_cp/test/Violence/VIOLENCE_1142.mp4\n",
      "Moviepy - Building video /mnt/d/serao/busd_cp/test/Violence/VIOLENCE_1144.mp4.\n",
      "Moviepy - Writing video /mnt/d/serao/busd_cp/test/Violence/VIOLENCE_1144.mp4\n",
      "\n"
     ]
    },
    {
     "name": "stderr",
     "output_type": "stream",
     "text": [
      "                                                            \r"
     ]
    },
    {
     "name": "stdout",
     "output_type": "stream",
     "text": [
      "Moviepy - Done !\n",
      "Moviepy - video ready /mnt/d/serao/busd_cp/test/Violence/VIOLENCE_1144.mp4\n",
      "Moviepy - Building video /mnt/d/serao/busd_cp/test/Violence/VIOLENCE_1146.mp4.\n",
      "Moviepy - Writing video /mnt/d/serao/busd_cp/test/Violence/VIOLENCE_1146.mp4\n",
      "\n"
     ]
    },
    {
     "name": "stderr",
     "output_type": "stream",
     "text": [
      "                                                   \r"
     ]
    },
    {
     "name": "stdout",
     "output_type": "stream",
     "text": [
      "Moviepy - Done !\n",
      "Moviepy - video ready /mnt/d/serao/busd_cp/test/Violence/VIOLENCE_1146.mp4\n",
      "Moviepy - Building video /mnt/d/serao/busd_cp/test/Violence/VIOLENCE_1151.mp4.\n",
      "Moviepy - Writing video /mnt/d/serao/busd_cp/test/Violence/VIOLENCE_1151.mp4\n",
      "\n"
     ]
    },
    {
     "name": "stderr",
     "output_type": "stream",
     "text": [
      "                                                            \r"
     ]
    },
    {
     "name": "stdout",
     "output_type": "stream",
     "text": [
      "Moviepy - Done !\n",
      "Moviepy - video ready /mnt/d/serao/busd_cp/test/Violence/VIOLENCE_1151.mp4\n",
      "Moviepy - Building video /mnt/d/serao/busd_cp/test/Violence/VIOLENCE_1153.mp4.\n",
      "Moviepy - Writing video /mnt/d/serao/busd_cp/test/Violence/VIOLENCE_1153.mp4\n",
      "\n"
     ]
    },
    {
     "name": "stderr",
     "output_type": "stream",
     "text": [
      "                                                            \r"
     ]
    },
    {
     "name": "stdout",
     "output_type": "stream",
     "text": [
      "Moviepy - Done !\n",
      "Moviepy - video ready /mnt/d/serao/busd_cp/test/Violence/VIOLENCE_1153.mp4\n",
      "Moviepy - Building video /mnt/d/serao/busd_cp/test/Violence/VIOLENCE_1154.mp4.\n",
      "Moviepy - Writing video /mnt/d/serao/busd_cp/test/Violence/VIOLENCE_1154.mp4\n",
      "\n"
     ]
    },
    {
     "name": "stderr",
     "output_type": "stream",
     "text": [
      "                                                            \r"
     ]
    },
    {
     "name": "stdout",
     "output_type": "stream",
     "text": [
      "Moviepy - Done !\n",
      "Moviepy - video ready /mnt/d/serao/busd_cp/test/Violence/VIOLENCE_1154.mp4\n",
      "Moviepy - Building video /mnt/d/serao/busd_cp/test/Violence/VIOLENCE_1156.mp4.\n",
      "Moviepy - Writing video /mnt/d/serao/busd_cp/test/Violence/VIOLENCE_1156.mp4\n",
      "\n"
     ]
    },
    {
     "name": "stderr",
     "output_type": "stream",
     "text": [
      "                                                            \r"
     ]
    },
    {
     "name": "stdout",
     "output_type": "stream",
     "text": [
      "Moviepy - Done !\n",
      "Moviepy - video ready /mnt/d/serao/busd_cp/test/Violence/VIOLENCE_1156.mp4\n",
      "Moviepy - Building video /mnt/d/serao/busd_cp/test/Violence/VIOLENCE_1158.mp4.\n",
      "Moviepy - Writing video /mnt/d/serao/busd_cp/test/Violence/VIOLENCE_1158.mp4\n",
      "\n"
     ]
    },
    {
     "name": "stderr",
     "output_type": "stream",
     "text": [
      "                                                            \r"
     ]
    },
    {
     "name": "stdout",
     "output_type": "stream",
     "text": [
      "Moviepy - Done !\n",
      "Moviepy - video ready /mnt/d/serao/busd_cp/test/Violence/VIOLENCE_1158.mp4\n",
      "Moviepy - Building video /mnt/d/serao/busd_cp/test/Violence/VIOLENCE_1163.mp4.\n",
      "Moviepy - Writing video /mnt/d/serao/busd_cp/test/Violence/VIOLENCE_1163.mp4\n",
      "\n"
     ]
    },
    {
     "name": "stderr",
     "output_type": "stream",
     "text": [
      "                                                             \r"
     ]
    },
    {
     "name": "stdout",
     "output_type": "stream",
     "text": [
      "Moviepy - Done !\n",
      "Moviepy - video ready /mnt/d/serao/busd_cp/test/Violence/VIOLENCE_1163.mp4\n",
      "Moviepy - Building video /mnt/d/serao/busd_cp/test/Violence/VIOLENCE_1167.mp4.\n",
      "Moviepy - Writing video /mnt/d/serao/busd_cp/test/Violence/VIOLENCE_1167.mp4\n",
      "\n"
     ]
    },
    {
     "name": "stderr",
     "output_type": "stream",
     "text": [
      "                                                            \r"
     ]
    },
    {
     "name": "stdout",
     "output_type": "stream",
     "text": [
      "Moviepy - Done !\n",
      "Moviepy - video ready /mnt/d/serao/busd_cp/test/Violence/VIOLENCE_1167.mp4\n",
      "Moviepy - Building video /mnt/d/serao/busd_cp/test/Violence/VIOLENCE_117.mp4.\n",
      "Moviepy - Writing video /mnt/d/serao/busd_cp/test/Violence/VIOLENCE_117.mp4\n",
      "\n"
     ]
    },
    {
     "name": "stderr",
     "output_type": "stream",
     "text": [
      "                                                            \r"
     ]
    },
    {
     "name": "stdout",
     "output_type": "stream",
     "text": [
      "Moviepy - Done !\n",
      "Moviepy - video ready /mnt/d/serao/busd_cp/test/Violence/VIOLENCE_117.mp4\n",
      "Moviepy - Building video /mnt/d/serao/busd_cp/test/Violence/VIOLENCE_1175.mp4.\n",
      "Moviepy - Writing video /mnt/d/serao/busd_cp/test/Violence/VIOLENCE_1175.mp4\n",
      "\n"
     ]
    },
    {
     "name": "stderr",
     "output_type": "stream",
     "text": [
      "                                                   \r"
     ]
    },
    {
     "name": "stdout",
     "output_type": "stream",
     "text": [
      "Moviepy - Done !\n",
      "Moviepy - video ready /mnt/d/serao/busd_cp/test/Violence/VIOLENCE_1175.mp4\n",
      "Moviepy - Building video /mnt/d/serao/busd_cp/test/Violence/VIOLENCE_1178.mp4.\n",
      "Moviepy - Writing video /mnt/d/serao/busd_cp/test/Violence/VIOLENCE_1178.mp4\n",
      "\n"
     ]
    },
    {
     "name": "stderr",
     "output_type": "stream",
     "text": [
      "                                                            \r"
     ]
    },
    {
     "name": "stdout",
     "output_type": "stream",
     "text": [
      "Moviepy - Done !\n",
      "Moviepy - video ready /mnt/d/serao/busd_cp/test/Violence/VIOLENCE_1178.mp4\n",
      "Moviepy - Building video /mnt/d/serao/busd_cp/test/Violence/VIOLENCE_1189.mp4.\n",
      "Moviepy - Writing video /mnt/d/serao/busd_cp/test/Violence/VIOLENCE_1189.mp4\n",
      "\n"
     ]
    },
    {
     "name": "stderr",
     "output_type": "stream",
     "text": [
      "                                                            \r"
     ]
    },
    {
     "name": "stdout",
     "output_type": "stream",
     "text": [
      "Moviepy - Done !\n",
      "Moviepy - video ready /mnt/d/serao/busd_cp/test/Violence/VIOLENCE_1189.mp4\n",
      "Moviepy - Building video /mnt/d/serao/busd_cp/test/Violence/VIOLENCE_1192.mp4.\n",
      "Moviepy - Writing video /mnt/d/serao/busd_cp/test/Violence/VIOLENCE_1192.mp4\n",
      "\n"
     ]
    },
    {
     "name": "stderr",
     "output_type": "stream",
     "text": [
      "                                                            \r"
     ]
    },
    {
     "name": "stdout",
     "output_type": "stream",
     "text": [
      "Moviepy - Done !\n",
      "Moviepy - video ready /mnt/d/serao/busd_cp/test/Violence/VIOLENCE_1192.mp4\n",
      "Moviepy - Building video /mnt/d/serao/busd_cp/test/Violence/VIOLENCE_1198.mp4.\n",
      "Moviepy - Writing video /mnt/d/serao/busd_cp/test/Violence/VIOLENCE_1198.mp4\n",
      "\n"
     ]
    },
    {
     "name": "stderr",
     "output_type": "stream",
     "text": [
      "                                                            \r"
     ]
    },
    {
     "name": "stdout",
     "output_type": "stream",
     "text": [
      "Moviepy - Done !\n",
      "Moviepy - video ready /mnt/d/serao/busd_cp/test/Violence/VIOLENCE_1198.mp4\n",
      "Moviepy - Building video /mnt/d/serao/busd_cp/test/Violence/VIOLENCE_1221.mp4.\n",
      "Moviepy - Writing video /mnt/d/serao/busd_cp/test/Violence/VIOLENCE_1221.mp4\n",
      "\n"
     ]
    },
    {
     "name": "stderr",
     "output_type": "stream",
     "text": [
      "                                                             \r"
     ]
    },
    {
     "name": "stdout",
     "output_type": "stream",
     "text": [
      "Moviepy - Done !\n",
      "Moviepy - video ready /mnt/d/serao/busd_cp/test/Violence/VIOLENCE_1221.mp4\n",
      "Moviepy - Building video /mnt/d/serao/busd_cp/test/Violence/VIOLENCE_1227.mp4.\n",
      "Moviepy - Writing video /mnt/d/serao/busd_cp/test/Violence/VIOLENCE_1227.mp4\n",
      "\n"
     ]
    },
    {
     "name": "stderr",
     "output_type": "stream",
     "text": [
      "                                                            \r"
     ]
    },
    {
     "name": "stdout",
     "output_type": "stream",
     "text": [
      "Moviepy - Done !\n",
      "Moviepy - video ready /mnt/d/serao/busd_cp/test/Violence/VIOLENCE_1227.mp4\n",
      "Moviepy - Building video /mnt/d/serao/busd_cp/test/Violence/VIOLENCE_1228.mp4.\n",
      "Moviepy - Writing video /mnt/d/serao/busd_cp/test/Violence/VIOLENCE_1228.mp4\n",
      "\n"
     ]
    },
    {
     "name": "stderr",
     "output_type": "stream",
     "text": [
      "                                                            \r"
     ]
    },
    {
     "name": "stdout",
     "output_type": "stream",
     "text": [
      "Moviepy - Done !\n",
      "Moviepy - video ready /mnt/d/serao/busd_cp/test/Violence/VIOLENCE_1228.mp4\n",
      "Moviepy - Building video /mnt/d/serao/busd_cp/test/Violence/VIOLENCE_1230.mp4.\n",
      "Moviepy - Writing video /mnt/d/serao/busd_cp/test/Violence/VIOLENCE_1230.mp4\n",
      "\n"
     ]
    },
    {
     "name": "stderr",
     "output_type": "stream",
     "text": [
      "                                                   \r"
     ]
    },
    {
     "name": "stdout",
     "output_type": "stream",
     "text": [
      "Moviepy - Done !\n",
      "Moviepy - video ready /mnt/d/serao/busd_cp/test/Violence/VIOLENCE_1230.mp4\n",
      "Moviepy - Building video /mnt/d/serao/busd_cp/test/Violence/VIOLENCE_1236.mp4.\n",
      "Moviepy - Writing video /mnt/d/serao/busd_cp/test/Violence/VIOLENCE_1236.mp4\n",
      "\n"
     ]
    },
    {
     "name": "stderr",
     "output_type": "stream",
     "text": [
      "                                                   \r"
     ]
    },
    {
     "name": "stdout",
     "output_type": "stream",
     "text": [
      "Moviepy - Done !\n",
      "Moviepy - video ready /mnt/d/serao/busd_cp/test/Violence/VIOLENCE_1236.mp4\n",
      "Moviepy - Building video /mnt/d/serao/busd_cp/test/Violence/VIOLENCE_1238.mp4.\n",
      "Moviepy - Writing video /mnt/d/serao/busd_cp/test/Violence/VIOLENCE_1238.mp4\n",
      "\n"
     ]
    },
    {
     "name": "stderr",
     "output_type": "stream",
     "text": [
      "                                                             \r"
     ]
    },
    {
     "name": "stdout",
     "output_type": "stream",
     "text": [
      "Moviepy - Done !\n",
      "Moviepy - video ready /mnt/d/serao/busd_cp/test/Violence/VIOLENCE_1238.mp4\n",
      "Moviepy - Building video /mnt/d/serao/busd_cp/test/Violence/VIOLENCE_1239.mp4.\n",
      "Moviepy - Writing video /mnt/d/serao/busd_cp/test/Violence/VIOLENCE_1239.mp4\n",
      "\n"
     ]
    },
    {
     "name": "stderr",
     "output_type": "stream",
     "text": [
      "                                                   \r"
     ]
    },
    {
     "name": "stdout",
     "output_type": "stream",
     "text": [
      "Moviepy - Done !\n",
      "Moviepy - video ready /mnt/d/serao/busd_cp/test/Violence/VIOLENCE_1239.mp4\n",
      "Moviepy - Building video /mnt/d/serao/busd_cp/test/Violence/VIOLENCE_1240.mp4.\n",
      "Moviepy - Writing video /mnt/d/serao/busd_cp/test/Violence/VIOLENCE_1240.mp4\n",
      "\n"
     ]
    },
    {
     "name": "stderr",
     "output_type": "stream",
     "text": [
      "                                                            \r"
     ]
    },
    {
     "name": "stdout",
     "output_type": "stream",
     "text": [
      "Moviepy - Done !\n",
      "Moviepy - video ready /mnt/d/serao/busd_cp/test/Violence/VIOLENCE_1240.mp4\n",
      "Moviepy - Building video /mnt/d/serao/busd_cp/test/Violence/VIOLENCE_1260.mp4.\n",
      "Moviepy - Writing video /mnt/d/serao/busd_cp/test/Violence/VIOLENCE_1260.mp4\n",
      "\n"
     ]
    },
    {
     "name": "stderr",
     "output_type": "stream",
     "text": [
      "                                                            \r"
     ]
    },
    {
     "name": "stdout",
     "output_type": "stream",
     "text": [
      "Moviepy - Done !\n",
      "Moviepy - video ready /mnt/d/serao/busd_cp/test/Violence/VIOLENCE_1260.mp4\n",
      "Moviepy - Building video /mnt/d/serao/busd_cp/test/Violence/VIOLENCE_1265.mp4.\n",
      "Moviepy - Writing video /mnt/d/serao/busd_cp/test/Violence/VIOLENCE_1265.mp4\n",
      "\n"
     ]
    },
    {
     "name": "stderr",
     "output_type": "stream",
     "text": [
      "                                                            \r"
     ]
    },
    {
     "name": "stdout",
     "output_type": "stream",
     "text": [
      "Moviepy - Done !\n",
      "Moviepy - video ready /mnt/d/serao/busd_cp/test/Violence/VIOLENCE_1265.mp4\n",
      "Moviepy - Building video /mnt/d/serao/busd_cp/test/Violence/VIOLENCE_1268.mp4.\n",
      "Moviepy - Writing video /mnt/d/serao/busd_cp/test/Violence/VIOLENCE_1268.mp4\n",
      "\n"
     ]
    },
    {
     "name": "stderr",
     "output_type": "stream",
     "text": [
      "                                                            \r"
     ]
    },
    {
     "name": "stdout",
     "output_type": "stream",
     "text": [
      "Moviepy - Done !\n",
      "Moviepy - video ready /mnt/d/serao/busd_cp/test/Violence/VIOLENCE_1268.mp4\n",
      "Moviepy - Building video /mnt/d/serao/busd_cp/test/Violence/VIOLENCE_127.mp4.\n",
      "Moviepy - Writing video /mnt/d/serao/busd_cp/test/Violence/VIOLENCE_127.mp4\n",
      "\n"
     ]
    },
    {
     "name": "stderr",
     "output_type": "stream",
     "text": [
      "                                                            \r"
     ]
    },
    {
     "name": "stdout",
     "output_type": "stream",
     "text": [
      "Moviepy - Done !\n",
      "Moviepy - video ready /mnt/d/serao/busd_cp/test/Violence/VIOLENCE_127.mp4\n",
      "Moviepy - Building video /mnt/d/serao/busd_cp/test/Violence/VIOLENCE_1271.mp4.\n",
      "Moviepy - Writing video /mnt/d/serao/busd_cp/test/Violence/VIOLENCE_1271.mp4\n",
      "\n"
     ]
    },
    {
     "name": "stderr",
     "output_type": "stream",
     "text": [
      "                                                            \r"
     ]
    },
    {
     "name": "stdout",
     "output_type": "stream",
     "text": [
      "Moviepy - Done !\n",
      "Moviepy - video ready /mnt/d/serao/busd_cp/test/Violence/VIOLENCE_1271.mp4\n",
      "Moviepy - Building video /mnt/d/serao/busd_cp/test/Violence/VIOLENCE_1280.mp4.\n",
      "Moviepy - Writing video /mnt/d/serao/busd_cp/test/Violence/VIOLENCE_1280.mp4\n",
      "\n"
     ]
    },
    {
     "name": "stderr",
     "output_type": "stream",
     "text": [
      "                                                            \r"
     ]
    },
    {
     "name": "stdout",
     "output_type": "stream",
     "text": [
      "Moviepy - Done !\n",
      "Moviepy - video ready /mnt/d/serao/busd_cp/test/Violence/VIOLENCE_1280.mp4\n",
      "Moviepy - Building video /mnt/d/serao/busd_cp/test/Violence/VIOLENCE_1284.mp4.\n",
      "Moviepy - Writing video /mnt/d/serao/busd_cp/test/Violence/VIOLENCE_1284.mp4\n",
      "\n"
     ]
    },
    {
     "name": "stderr",
     "output_type": "stream",
     "text": [
      "                                                   \r"
     ]
    },
    {
     "name": "stdout",
     "output_type": "stream",
     "text": [
      "Moviepy - Done !\n",
      "Moviepy - video ready /mnt/d/serao/busd_cp/test/Violence/VIOLENCE_1284.mp4\n",
      "Moviepy - Building video /mnt/d/serao/busd_cp/test/Violence/VIOLENCE_1287.mp4.\n",
      "Moviepy - Writing video /mnt/d/serao/busd_cp/test/Violence/VIOLENCE_1287.mp4\n",
      "\n"
     ]
    },
    {
     "name": "stderr",
     "output_type": "stream",
     "text": [
      "                                                            \r"
     ]
    },
    {
     "name": "stdout",
     "output_type": "stream",
     "text": [
      "Moviepy - Done !\n",
      "Moviepy - video ready /mnt/d/serao/busd_cp/test/Violence/VIOLENCE_1287.mp4\n",
      "Moviepy - Building video /mnt/d/serao/busd_cp/test/Violence/VIOLENCE_1296.mp4.\n",
      "Moviepy - Writing video /mnt/d/serao/busd_cp/test/Violence/VIOLENCE_1296.mp4\n",
      "\n"
     ]
    },
    {
     "name": "stderr",
     "output_type": "stream",
     "text": [
      "                                                            \r"
     ]
    },
    {
     "name": "stdout",
     "output_type": "stream",
     "text": [
      "Moviepy - Done !\n",
      "Moviepy - video ready /mnt/d/serao/busd_cp/test/Violence/VIOLENCE_1296.mp4\n",
      "Moviepy - Building video /mnt/d/serao/busd_cp/test/Violence/VIOLENCE_1303.mp4.\n",
      "Moviepy - Writing video /mnt/d/serao/busd_cp/test/Violence/VIOLENCE_1303.mp4\n",
      "\n"
     ]
    },
    {
     "name": "stderr",
     "output_type": "stream",
     "text": [
      "                                                            \r"
     ]
    },
    {
     "name": "stdout",
     "output_type": "stream",
     "text": [
      "Moviepy - Done !\n",
      "Moviepy - video ready /mnt/d/serao/busd_cp/test/Violence/VIOLENCE_1303.mp4\n",
      "Moviepy - Building video /mnt/d/serao/busd_cp/test/Violence/VIOLENCE_1304.mp4.\n",
      "Moviepy - Writing video /mnt/d/serao/busd_cp/test/Violence/VIOLENCE_1304.mp4\n",
      "\n"
     ]
    },
    {
     "name": "stderr",
     "output_type": "stream",
     "text": [
      "                                                            \r"
     ]
    },
    {
     "name": "stdout",
     "output_type": "stream",
     "text": [
      "Moviepy - Done !\n",
      "Moviepy - video ready /mnt/d/serao/busd_cp/test/Violence/VIOLENCE_1304.mp4\n",
      "Moviepy - Building video /mnt/d/serao/busd_cp/test/Violence/VIOLENCE_134.mp4.\n",
      "Moviepy - Writing video /mnt/d/serao/busd_cp/test/Violence/VIOLENCE_134.mp4\n",
      "\n"
     ]
    },
    {
     "name": "stderr",
     "output_type": "stream",
     "text": [
      "                                                             \r"
     ]
    },
    {
     "name": "stdout",
     "output_type": "stream",
     "text": [
      "Moviepy - Done !\n",
      "Moviepy - video ready /mnt/d/serao/busd_cp/test/Violence/VIOLENCE_134.mp4\n",
      "Moviepy - Building video /mnt/d/serao/busd_cp/test/Violence/VIOLENCE_137.mp4.\n",
      "Moviepy - Writing video /mnt/d/serao/busd_cp/test/Violence/VIOLENCE_137.mp4\n",
      "\n"
     ]
    },
    {
     "name": "stderr",
     "output_type": "stream",
     "text": [
      "                                                            \r"
     ]
    },
    {
     "name": "stdout",
     "output_type": "stream",
     "text": [
      "Moviepy - Done !\n",
      "Moviepy - video ready /mnt/d/serao/busd_cp/test/Violence/VIOLENCE_137.mp4\n",
      "Moviepy - Building video /mnt/d/serao/busd_cp/test/Violence/VIOLENCE_139.mp4.\n",
      "Moviepy - Writing video /mnt/d/serao/busd_cp/test/Violence/VIOLENCE_139.mp4\n",
      "\n"
     ]
    },
    {
     "name": "stderr",
     "output_type": "stream",
     "text": [
      "                                                            \r"
     ]
    },
    {
     "name": "stdout",
     "output_type": "stream",
     "text": [
      "Moviepy - Done !\n",
      "Moviepy - video ready /mnt/d/serao/busd_cp/test/Violence/VIOLENCE_139.mp4\n",
      "Moviepy - Building video /mnt/d/serao/busd_cp/test/Violence/VIOLENCE_14.mp4.\n",
      "Moviepy - Writing video /mnt/d/serao/busd_cp/test/Violence/VIOLENCE_14.mp4\n",
      "\n"
     ]
    },
    {
     "name": "stderr",
     "output_type": "stream",
     "text": [
      "                                                            \r"
     ]
    },
    {
     "name": "stdout",
     "output_type": "stream",
     "text": [
      "Moviepy - Done !\n",
      "Moviepy - video ready /mnt/d/serao/busd_cp/test/Violence/VIOLENCE_14.mp4\n",
      "Moviepy - Building video /mnt/d/serao/busd_cp/test/Violence/VIOLENCE_142.mp4.\n",
      "Moviepy - Writing video /mnt/d/serao/busd_cp/test/Violence/VIOLENCE_142.mp4\n",
      "\n"
     ]
    },
    {
     "name": "stderr",
     "output_type": "stream",
     "text": [
      "                                                            \r"
     ]
    },
    {
     "name": "stdout",
     "output_type": "stream",
     "text": [
      "Moviepy - Done !\n",
      "Moviepy - video ready /mnt/d/serao/busd_cp/test/Violence/VIOLENCE_142.mp4\n",
      "Moviepy - Building video /mnt/d/serao/busd_cp/test/Violence/VIOLENCE_148.mp4.\n",
      "Moviepy - Writing video /mnt/d/serao/busd_cp/test/Violence/VIOLENCE_148.mp4\n",
      "\n"
     ]
    },
    {
     "name": "stderr",
     "output_type": "stream",
     "text": [
      "                                                   \r"
     ]
    },
    {
     "name": "stdout",
     "output_type": "stream",
     "text": [
      "Moviepy - Done !\n",
      "Moviepy - video ready /mnt/d/serao/busd_cp/test/Violence/VIOLENCE_148.mp4\n",
      "Moviepy - Building video /mnt/d/serao/busd_cp/test/Violence/VIOLENCE_149.mp4.\n",
      "Moviepy - Writing video /mnt/d/serao/busd_cp/test/Violence/VIOLENCE_149.mp4\n",
      "\n"
     ]
    },
    {
     "name": "stderr",
     "output_type": "stream",
     "text": [
      "                                                            \r"
     ]
    },
    {
     "name": "stdout",
     "output_type": "stream",
     "text": [
      "Moviepy - Done !\n",
      "Moviepy - video ready /mnt/d/serao/busd_cp/test/Violence/VIOLENCE_149.mp4\n",
      "Moviepy - Building video /mnt/d/serao/busd_cp/test/Violence/VIOLENCE_151.mp4.\n",
      "Moviepy - Writing video /mnt/d/serao/busd_cp/test/Violence/VIOLENCE_151.mp4\n",
      "\n"
     ]
    },
    {
     "name": "stderr",
     "output_type": "stream",
     "text": [
      "                                                            \r"
     ]
    },
    {
     "name": "stdout",
     "output_type": "stream",
     "text": [
      "Moviepy - Done !\n",
      "Moviepy - video ready /mnt/d/serao/busd_cp/test/Violence/VIOLENCE_151.mp4\n",
      "Moviepy - Building video /mnt/d/serao/busd_cp/test/Violence/VIOLENCE_154.mp4.\n",
      "Moviepy - Writing video /mnt/d/serao/busd_cp/test/Violence/VIOLENCE_154.mp4\n",
      "\n"
     ]
    },
    {
     "name": "stderr",
     "output_type": "stream",
     "text": [
      "                                                            \r"
     ]
    },
    {
     "name": "stdout",
     "output_type": "stream",
     "text": [
      "Moviepy - Done !\n",
      "Moviepy - video ready /mnt/d/serao/busd_cp/test/Violence/VIOLENCE_154.mp4\n",
      "Moviepy - Building video /mnt/d/serao/busd_cp/test/Violence/VIOLENCE_159.mp4.\n",
      "Moviepy - Writing video /mnt/d/serao/busd_cp/test/Violence/VIOLENCE_159.mp4\n",
      "\n"
     ]
    },
    {
     "name": "stderr",
     "output_type": "stream",
     "text": [
      "                                                            \r"
     ]
    },
    {
     "name": "stdout",
     "output_type": "stream",
     "text": [
      "Moviepy - Done !\n",
      "Moviepy - video ready /mnt/d/serao/busd_cp/test/Violence/VIOLENCE_159.mp4\n",
      "Moviepy - Building video /mnt/d/serao/busd_cp/test/Violence/VIOLENCE_161.mp4.\n",
      "Moviepy - Writing video /mnt/d/serao/busd_cp/test/Violence/VIOLENCE_161.mp4\n",
      "\n"
     ]
    },
    {
     "name": "stderr",
     "output_type": "stream",
     "text": [
      "                                                            \r"
     ]
    },
    {
     "name": "stdout",
     "output_type": "stream",
     "text": [
      "Moviepy - Done !\n",
      "Moviepy - video ready /mnt/d/serao/busd_cp/test/Violence/VIOLENCE_161.mp4\n",
      "Moviepy - Building video /mnt/d/serao/busd_cp/test/Violence/VIOLENCE_162.mp4.\n",
      "Moviepy - Writing video /mnt/d/serao/busd_cp/test/Violence/VIOLENCE_162.mp4\n",
      "\n"
     ]
    },
    {
     "name": "stderr",
     "output_type": "stream",
     "text": [
      "                                                            \r"
     ]
    },
    {
     "name": "stdout",
     "output_type": "stream",
     "text": [
      "Moviepy - Done !\n",
      "Moviepy - video ready /mnt/d/serao/busd_cp/test/Violence/VIOLENCE_162.mp4\n",
      "Moviepy - Building video /mnt/d/serao/busd_cp/test/Violence/VIOLENCE_165.mp4.\n",
      "Moviepy - Writing video /mnt/d/serao/busd_cp/test/Violence/VIOLENCE_165.mp4\n",
      "\n"
     ]
    },
    {
     "name": "stderr",
     "output_type": "stream",
     "text": [
      "                                                            \r"
     ]
    },
    {
     "name": "stdout",
     "output_type": "stream",
     "text": [
      "Moviepy - Done !\n",
      "Moviepy - video ready /mnt/d/serao/busd_cp/test/Violence/VIOLENCE_165.mp4\n",
      "Moviepy - Building video /mnt/d/serao/busd_cp/test/Violence/VIOLENCE_169.mp4.\n",
      "Moviepy - Writing video /mnt/d/serao/busd_cp/test/Violence/VIOLENCE_169.mp4\n",
      "\n"
     ]
    },
    {
     "name": "stderr",
     "output_type": "stream",
     "text": [
      "                                                            \r"
     ]
    },
    {
     "name": "stdout",
     "output_type": "stream",
     "text": [
      "Moviepy - Done !\n",
      "Moviepy - video ready /mnt/d/serao/busd_cp/test/Violence/VIOLENCE_169.mp4\n",
      "Moviepy - Building video /mnt/d/serao/busd_cp/test/Violence/VIOLENCE_170.mp4.\n",
      "Moviepy - Writing video /mnt/d/serao/busd_cp/test/Violence/VIOLENCE_170.mp4\n",
      "\n"
     ]
    },
    {
     "name": "stderr",
     "output_type": "stream",
     "text": [
      "                                                            \r"
     ]
    },
    {
     "name": "stdout",
     "output_type": "stream",
     "text": [
      "Moviepy - Done !\n",
      "Moviepy - video ready /mnt/d/serao/busd_cp/test/Violence/VIOLENCE_170.mp4\n",
      "Moviepy - Building video /mnt/d/serao/busd_cp/test/Violence/VIOLENCE_174.mp4.\n",
      "Moviepy - Writing video /mnt/d/serao/busd_cp/test/Violence/VIOLENCE_174.mp4\n",
      "\n"
     ]
    },
    {
     "name": "stderr",
     "output_type": "stream",
     "text": [
      "                                                             \r"
     ]
    },
    {
     "name": "stdout",
     "output_type": "stream",
     "text": [
      "Moviepy - Done !\n",
      "Moviepy - video ready /mnt/d/serao/busd_cp/test/Violence/VIOLENCE_174.mp4\n",
      "Moviepy - Building video /mnt/d/serao/busd_cp/test/Violence/VIOLENCE_175.mp4.\n",
      "Moviepy - Writing video /mnt/d/serao/busd_cp/test/Violence/VIOLENCE_175.mp4\n",
      "\n"
     ]
    },
    {
     "name": "stderr",
     "output_type": "stream",
     "text": [
      "                                                            \r"
     ]
    },
    {
     "name": "stdout",
     "output_type": "stream",
     "text": [
      "Moviepy - Done !\n",
      "Moviepy - video ready /mnt/d/serao/busd_cp/test/Violence/VIOLENCE_175.mp4\n",
      "Moviepy - Building video /mnt/d/serao/busd_cp/test/Violence/VIOLENCE_185.mp4.\n",
      "Moviepy - Writing video /mnt/d/serao/busd_cp/test/Violence/VIOLENCE_185.mp4\n",
      "\n"
     ]
    },
    {
     "name": "stderr",
     "output_type": "stream",
     "text": [
      "                                                            \r"
     ]
    },
    {
     "name": "stdout",
     "output_type": "stream",
     "text": [
      "Moviepy - Done !\n",
      "Moviepy - video ready /mnt/d/serao/busd_cp/test/Violence/VIOLENCE_185.mp4\n",
      "Moviepy - Building video /mnt/d/serao/busd_cp/test/Violence/VIOLENCE_186.mp4.\n",
      "Moviepy - Writing video /mnt/d/serao/busd_cp/test/Violence/VIOLENCE_186.mp4\n",
      "\n"
     ]
    },
    {
     "name": "stderr",
     "output_type": "stream",
     "text": [
      "                                                            \r"
     ]
    },
    {
     "name": "stdout",
     "output_type": "stream",
     "text": [
      "Moviepy - Done !\n",
      "Moviepy - video ready /mnt/d/serao/busd_cp/test/Violence/VIOLENCE_186.mp4\n",
      "Moviepy - Building video /mnt/d/serao/busd_cp/test/Violence/VIOLENCE_192.mp4.\n",
      "Moviepy - Writing video /mnt/d/serao/busd_cp/test/Violence/VIOLENCE_192.mp4\n",
      "\n"
     ]
    },
    {
     "name": "stderr",
     "output_type": "stream",
     "text": [
      "                                                            \r"
     ]
    },
    {
     "name": "stdout",
     "output_type": "stream",
     "text": [
      "Moviepy - Done !\n",
      "Moviepy - video ready /mnt/d/serao/busd_cp/test/Violence/VIOLENCE_192.mp4\n",
      "Moviepy - Building video /mnt/d/serao/busd_cp/test/Violence/VIOLENCE_212.mp4.\n",
      "Moviepy - Writing video /mnt/d/serao/busd_cp/test/Violence/VIOLENCE_212.mp4\n",
      "\n"
     ]
    },
    {
     "name": "stderr",
     "output_type": "stream",
     "text": [
      "                                                            \r"
     ]
    },
    {
     "name": "stdout",
     "output_type": "stream",
     "text": [
      "Moviepy - Done !\n",
      "Moviepy - video ready /mnt/d/serao/busd_cp/test/Violence/VIOLENCE_212.mp4\n",
      "Moviepy - Building video /mnt/d/serao/busd_cp/test/Violence/VIOLENCE_220.mp4.\n",
      "Moviepy - Writing video /mnt/d/serao/busd_cp/test/Violence/VIOLENCE_220.mp4\n",
      "\n"
     ]
    },
    {
     "name": "stderr",
     "output_type": "stream",
     "text": [
      "                                                            \r"
     ]
    },
    {
     "name": "stdout",
     "output_type": "stream",
     "text": [
      "Moviepy - Done !\n",
      "Moviepy - video ready /mnt/d/serao/busd_cp/test/Violence/VIOLENCE_220.mp4\n",
      "Moviepy - Building video /mnt/d/serao/busd_cp/test/Violence/VIOLENCE_223.mp4.\n",
      "Moviepy - Writing video /mnt/d/serao/busd_cp/test/Violence/VIOLENCE_223.mp4\n",
      "\n"
     ]
    },
    {
     "name": "stderr",
     "output_type": "stream",
     "text": [
      "                                                            \r"
     ]
    },
    {
     "name": "stdout",
     "output_type": "stream",
     "text": [
      "Moviepy - Done !\n",
      "Moviepy - video ready /mnt/d/serao/busd_cp/test/Violence/VIOLENCE_223.mp4\n",
      "Moviepy - Building video /mnt/d/serao/busd_cp/test/Violence/VIOLENCE_229.mp4.\n",
      "Moviepy - Writing video /mnt/d/serao/busd_cp/test/Violence/VIOLENCE_229.mp4\n",
      "\n"
     ]
    },
    {
     "name": "stderr",
     "output_type": "stream",
     "text": [
      "                                                            \r"
     ]
    },
    {
     "name": "stdout",
     "output_type": "stream",
     "text": [
      "Moviepy - Done !\n",
      "Moviepy - video ready /mnt/d/serao/busd_cp/test/Violence/VIOLENCE_229.mp4\n",
      "Moviepy - Building video /mnt/d/serao/busd_cp/test/Violence/VIOLENCE_234.mp4.\n",
      "Moviepy - Writing video /mnt/d/serao/busd_cp/test/Violence/VIOLENCE_234.mp4\n",
      "\n"
     ]
    },
    {
     "name": "stderr",
     "output_type": "stream",
     "text": [
      "                                                            \r"
     ]
    },
    {
     "name": "stdout",
     "output_type": "stream",
     "text": [
      "Moviepy - Done !\n",
      "Moviepy - video ready /mnt/d/serao/busd_cp/test/Violence/VIOLENCE_234.mp4\n",
      "Moviepy - Building video /mnt/d/serao/busd_cp/test/Violence/VIOLENCE_24.mp4.\n",
      "Moviepy - Writing video /mnt/d/serao/busd_cp/test/Violence/VIOLENCE_24.mp4\n",
      "\n"
     ]
    },
    {
     "name": "stderr",
     "output_type": "stream",
     "text": [
      "                                                   \r"
     ]
    },
    {
     "name": "stdout",
     "output_type": "stream",
     "text": [
      "Moviepy - Done !\n",
      "Moviepy - video ready /mnt/d/serao/busd_cp/test/Violence/VIOLENCE_24.mp4\n",
      "Moviepy - Building video /mnt/d/serao/busd_cp/test/Violence/VIOLENCE_243.mp4.\n",
      "Moviepy - Writing video /mnt/d/serao/busd_cp/test/Violence/VIOLENCE_243.mp4\n",
      "\n"
     ]
    },
    {
     "name": "stderr",
     "output_type": "stream",
     "text": [
      "                                                            \r"
     ]
    },
    {
     "name": "stdout",
     "output_type": "stream",
     "text": [
      "Moviepy - Done !\n",
      "Moviepy - video ready /mnt/d/serao/busd_cp/test/Violence/VIOLENCE_243.mp4\n",
      "Moviepy - Building video /mnt/d/serao/busd_cp/test/Violence/VIOLENCE_254.mp4.\n",
      "Moviepy - Writing video /mnt/d/serao/busd_cp/test/Violence/VIOLENCE_254.mp4\n",
      "\n"
     ]
    },
    {
     "name": "stderr",
     "output_type": "stream",
     "text": [
      "                                                            \r"
     ]
    },
    {
     "name": "stdout",
     "output_type": "stream",
     "text": [
      "Moviepy - Done !\n",
      "Moviepy - video ready /mnt/d/serao/busd_cp/test/Violence/VIOLENCE_254.mp4\n",
      "Moviepy - Building video /mnt/d/serao/busd_cp/test/Violence/VIOLENCE_256.mp4.\n",
      "Moviepy - Writing video /mnt/d/serao/busd_cp/test/Violence/VIOLENCE_256.mp4\n",
      "\n"
     ]
    },
    {
     "name": "stderr",
     "output_type": "stream",
     "text": [
      "                                                            \r"
     ]
    },
    {
     "name": "stdout",
     "output_type": "stream",
     "text": [
      "Moviepy - Done !\n",
      "Moviepy - video ready /mnt/d/serao/busd_cp/test/Violence/VIOLENCE_256.mp4\n",
      "Moviepy - Building video /mnt/d/serao/busd_cp/test/Violence/VIOLENCE_260.mp4.\n",
      "Moviepy - Writing video /mnt/d/serao/busd_cp/test/Violence/VIOLENCE_260.mp4\n",
      "\n"
     ]
    },
    {
     "name": "stderr",
     "output_type": "stream",
     "text": [
      "                                                   \r"
     ]
    },
    {
     "name": "stdout",
     "output_type": "stream",
     "text": [
      "Moviepy - Done !\n",
      "Moviepy - video ready /mnt/d/serao/busd_cp/test/Violence/VIOLENCE_260.mp4\n",
      "Moviepy - Building video /mnt/d/serao/busd_cp/test/Violence/VIOLENCE_28.mp4.\n",
      "Moviepy - Writing video /mnt/d/serao/busd_cp/test/Violence/VIOLENCE_28.mp4\n",
      "\n"
     ]
    },
    {
     "name": "stderr",
     "output_type": "stream",
     "text": [
      "                                                            \r"
     ]
    },
    {
     "name": "stdout",
     "output_type": "stream",
     "text": [
      "Moviepy - Done !\n",
      "Moviepy - video ready /mnt/d/serao/busd_cp/test/Violence/VIOLENCE_28.mp4\n",
      "Moviepy - Building video /mnt/d/serao/busd_cp/test/Violence/VIOLENCE_281.mp4.\n",
      "Moviepy - Writing video /mnt/d/serao/busd_cp/test/Violence/VIOLENCE_281.mp4\n",
      "\n"
     ]
    },
    {
     "name": "stderr",
     "output_type": "stream",
     "text": [
      "                                                            \r"
     ]
    },
    {
     "name": "stdout",
     "output_type": "stream",
     "text": [
      "Moviepy - Done !\n",
      "Moviepy - video ready /mnt/d/serao/busd_cp/test/Violence/VIOLENCE_281.mp4\n",
      "Moviepy - Building video /mnt/d/serao/busd_cp/test/Violence/VIOLENCE_285.mp4.\n",
      "Moviepy - Writing video /mnt/d/serao/busd_cp/test/Violence/VIOLENCE_285.mp4\n",
      "\n"
     ]
    },
    {
     "name": "stderr",
     "output_type": "stream",
     "text": [
      "                                                            \r"
     ]
    },
    {
     "name": "stdout",
     "output_type": "stream",
     "text": [
      "Moviepy - Done !\n",
      "Moviepy - video ready /mnt/d/serao/busd_cp/test/Violence/VIOLENCE_285.mp4\n",
      "Moviepy - Building video /mnt/d/serao/busd_cp/test/Violence/VIOLENCE_288.mp4.\n",
      "Moviepy - Writing video /mnt/d/serao/busd_cp/test/Violence/VIOLENCE_288.mp4\n",
      "\n"
     ]
    },
    {
     "name": "stderr",
     "output_type": "stream",
     "text": [
      "                                                             \r"
     ]
    },
    {
     "name": "stdout",
     "output_type": "stream",
     "text": [
      "Moviepy - Done !\n",
      "Moviepy - video ready /mnt/d/serao/busd_cp/test/Violence/VIOLENCE_288.mp4\n",
      "Moviepy - Building video /mnt/d/serao/busd_cp/test/Violence/VIOLENCE_297.mp4.\n",
      "Moviepy - Writing video /mnt/d/serao/busd_cp/test/Violence/VIOLENCE_297.mp4\n",
      "\n"
     ]
    },
    {
     "name": "stderr",
     "output_type": "stream",
     "text": [
      "                                                             \r"
     ]
    },
    {
     "name": "stdout",
     "output_type": "stream",
     "text": [
      "Moviepy - Done !\n",
      "Moviepy - video ready /mnt/d/serao/busd_cp/test/Violence/VIOLENCE_297.mp4\n",
      "Moviepy - Building video /mnt/d/serao/busd_cp/test/Violence/VIOLENCE_30.mp4.\n",
      "Moviepy - Writing video /mnt/d/serao/busd_cp/test/Violence/VIOLENCE_30.mp4\n",
      "\n"
     ]
    },
    {
     "name": "stderr",
     "output_type": "stream",
     "text": [
      "                                                   \r"
     ]
    },
    {
     "name": "stdout",
     "output_type": "stream",
     "text": [
      "Moviepy - Done !\n",
      "Moviepy - video ready /mnt/d/serao/busd_cp/test/Violence/VIOLENCE_30.mp4\n",
      "Moviepy - Building video /mnt/d/serao/busd_cp/test/Violence/VIOLENCE_311.mp4.\n",
      "Moviepy - Writing video /mnt/d/serao/busd_cp/test/Violence/VIOLENCE_311.mp4\n",
      "\n"
     ]
    },
    {
     "name": "stderr",
     "output_type": "stream",
     "text": [
      "                                                            \r"
     ]
    },
    {
     "name": "stdout",
     "output_type": "stream",
     "text": [
      "Moviepy - Done !\n",
      "Moviepy - video ready /mnt/d/serao/busd_cp/test/Violence/VIOLENCE_311.mp4\n",
      "Moviepy - Building video /mnt/d/serao/busd_cp/test/Violence/VIOLENCE_313.mp4.\n",
      "Moviepy - Writing video /mnt/d/serao/busd_cp/test/Violence/VIOLENCE_313.mp4\n",
      "\n"
     ]
    },
    {
     "name": "stderr",
     "output_type": "stream",
     "text": [
      "                                                            \r"
     ]
    },
    {
     "name": "stdout",
     "output_type": "stream",
     "text": [
      "Moviepy - Done !\n",
      "Moviepy - video ready /mnt/d/serao/busd_cp/test/Violence/VIOLENCE_313.mp4\n",
      "Moviepy - Building video /mnt/d/serao/busd_cp/test/Violence/VIOLENCE_314.mp4.\n",
      "Moviepy - Writing video /mnt/d/serao/busd_cp/test/Violence/VIOLENCE_314.mp4\n",
      "\n"
     ]
    },
    {
     "name": "stderr",
     "output_type": "stream",
     "text": [
      "                                                            \r"
     ]
    },
    {
     "name": "stdout",
     "output_type": "stream",
     "text": [
      "Moviepy - Done !\n",
      "Moviepy - video ready /mnt/d/serao/busd_cp/test/Violence/VIOLENCE_314.mp4\n",
      "Moviepy - Building video /mnt/d/serao/busd_cp/test/Violence/VIOLENCE_315.mp4.\n",
      "Moviepy - Writing video /mnt/d/serao/busd_cp/test/Violence/VIOLENCE_315.mp4\n",
      "\n"
     ]
    },
    {
     "name": "stderr",
     "output_type": "stream",
     "text": [
      "                                                            \r"
     ]
    },
    {
     "name": "stdout",
     "output_type": "stream",
     "text": [
      "Moviepy - Done !\n",
      "Moviepy - video ready /mnt/d/serao/busd_cp/test/Violence/VIOLENCE_315.mp4\n",
      "Moviepy - Building video /mnt/d/serao/busd_cp/test/Violence/VIOLENCE_32.mp4.\n",
      "Moviepy - Writing video /mnt/d/serao/busd_cp/test/Violence/VIOLENCE_32.mp4\n",
      "\n"
     ]
    },
    {
     "name": "stderr",
     "output_type": "stream",
     "text": [
      "                                                   \r"
     ]
    },
    {
     "name": "stdout",
     "output_type": "stream",
     "text": [
      "Moviepy - Done !\n",
      "Moviepy - video ready /mnt/d/serao/busd_cp/test/Violence/VIOLENCE_32.mp4\n",
      "Moviepy - Building video /mnt/d/serao/busd_cp/test/Violence/VIOLENCE_329.mp4.\n",
      "Moviepy - Writing video /mnt/d/serao/busd_cp/test/Violence/VIOLENCE_329.mp4\n",
      "\n"
     ]
    },
    {
     "name": "stderr",
     "output_type": "stream",
     "text": [
      "                                                             \r"
     ]
    },
    {
     "name": "stdout",
     "output_type": "stream",
     "text": [
      "Moviepy - Done !\n",
      "Moviepy - video ready /mnt/d/serao/busd_cp/test/Violence/VIOLENCE_329.mp4\n",
      "Moviepy - Building video /mnt/d/serao/busd_cp/test/Violence/VIOLENCE_332.mp4.\n",
      "Moviepy - Writing video /mnt/d/serao/busd_cp/test/Violence/VIOLENCE_332.mp4\n",
      "\n"
     ]
    },
    {
     "name": "stderr",
     "output_type": "stream",
     "text": [
      "                                                            \r"
     ]
    },
    {
     "name": "stdout",
     "output_type": "stream",
     "text": [
      "Moviepy - Done !\n",
      "Moviepy - video ready /mnt/d/serao/busd_cp/test/Violence/VIOLENCE_332.mp4\n",
      "Moviepy - Building video /mnt/d/serao/busd_cp/test/Violence/VIOLENCE_336.mp4.\n",
      "Moviepy - Writing video /mnt/d/serao/busd_cp/test/Violence/VIOLENCE_336.mp4\n",
      "\n"
     ]
    },
    {
     "name": "stderr",
     "output_type": "stream",
     "text": [
      "                                                   \r"
     ]
    },
    {
     "name": "stdout",
     "output_type": "stream",
     "text": [
      "Moviepy - Done !\n",
      "Moviepy - video ready /mnt/d/serao/busd_cp/test/Violence/VIOLENCE_336.mp4\n",
      "Moviepy - Building video /mnt/d/serao/busd_cp/test/Violence/VIOLENCE_341.mp4.\n",
      "Moviepy - Writing video /mnt/d/serao/busd_cp/test/Violence/VIOLENCE_341.mp4\n",
      "\n"
     ]
    },
    {
     "name": "stderr",
     "output_type": "stream",
     "text": [
      "                                                             \r"
     ]
    },
    {
     "name": "stdout",
     "output_type": "stream",
     "text": [
      "Moviepy - Done !\n",
      "Moviepy - video ready /mnt/d/serao/busd_cp/test/Violence/VIOLENCE_341.mp4\n",
      "Moviepy - Building video /mnt/d/serao/busd_cp/test/Violence/VIOLENCE_350.mp4.\n",
      "Moviepy - Writing video /mnt/d/serao/busd_cp/test/Violence/VIOLENCE_350.mp4\n",
      "\n"
     ]
    },
    {
     "name": "stderr",
     "output_type": "stream",
     "text": [
      "                                                   \r"
     ]
    },
    {
     "name": "stdout",
     "output_type": "stream",
     "text": [
      "Moviepy - Done !\n",
      "Moviepy - video ready /mnt/d/serao/busd_cp/test/Violence/VIOLENCE_350.mp4\n",
      "Moviepy - Building video /mnt/d/serao/busd_cp/test/Violence/VIOLENCE_352.mp4.\n",
      "Moviepy - Writing video /mnt/d/serao/busd_cp/test/Violence/VIOLENCE_352.mp4\n",
      "\n"
     ]
    },
    {
     "name": "stderr",
     "output_type": "stream",
     "text": [
      "                                                            \r"
     ]
    },
    {
     "name": "stdout",
     "output_type": "stream",
     "text": [
      "Moviepy - Done !\n",
      "Moviepy - video ready /mnt/d/serao/busd_cp/test/Violence/VIOLENCE_352.mp4\n",
      "Moviepy - Building video /mnt/d/serao/busd_cp/test/Violence/VIOLENCE_357.mp4.\n",
      "Moviepy - Writing video /mnt/d/serao/busd_cp/test/Violence/VIOLENCE_357.mp4\n",
      "\n"
     ]
    },
    {
     "name": "stderr",
     "output_type": "stream",
     "text": [
      "                                                   \r"
     ]
    },
    {
     "name": "stdout",
     "output_type": "stream",
     "text": [
      "Moviepy - Done !\n",
      "Moviepy - video ready /mnt/d/serao/busd_cp/test/Violence/VIOLENCE_357.mp4\n",
      "Moviepy - Building video /mnt/d/serao/busd_cp/test/Violence/VIOLENCE_36.mp4.\n",
      "Moviepy - Writing video /mnt/d/serao/busd_cp/test/Violence/VIOLENCE_36.mp4\n",
      "\n"
     ]
    },
    {
     "name": "stderr",
     "output_type": "stream",
     "text": [
      "                                                   \r"
     ]
    },
    {
     "name": "stdout",
     "output_type": "stream",
     "text": [
      "Moviepy - Done !\n",
      "Moviepy - video ready /mnt/d/serao/busd_cp/test/Violence/VIOLENCE_36.mp4\n",
      "Moviepy - Building video /mnt/d/serao/busd_cp/test/Violence/VIOLENCE_365.mp4.\n",
      "Moviepy - Writing video /mnt/d/serao/busd_cp/test/Violence/VIOLENCE_365.mp4\n",
      "\n"
     ]
    },
    {
     "name": "stderr",
     "output_type": "stream",
     "text": [
      "                                                            \r"
     ]
    },
    {
     "name": "stdout",
     "output_type": "stream",
     "text": [
      "Moviepy - Done !\n",
      "Moviepy - video ready /mnt/d/serao/busd_cp/test/Violence/VIOLENCE_365.mp4\n",
      "Moviepy - Building video /mnt/d/serao/busd_cp/test/Violence/VIOLENCE_366.mp4.\n",
      "Moviepy - Writing video /mnt/d/serao/busd_cp/test/Violence/VIOLENCE_366.mp4\n",
      "\n"
     ]
    },
    {
     "name": "stderr",
     "output_type": "stream",
     "text": [
      "                                                            \r"
     ]
    },
    {
     "name": "stdout",
     "output_type": "stream",
     "text": [
      "Moviepy - Done !\n",
      "Moviepy - video ready /mnt/d/serao/busd_cp/test/Violence/VIOLENCE_366.mp4\n",
      "Moviepy - Building video /mnt/d/serao/busd_cp/test/Violence/VIOLENCE_374.mp4.\n",
      "Moviepy - Writing video /mnt/d/serao/busd_cp/test/Violence/VIOLENCE_374.mp4\n",
      "\n"
     ]
    },
    {
     "name": "stderr",
     "output_type": "stream",
     "text": [
      "                                                            \r"
     ]
    },
    {
     "name": "stdout",
     "output_type": "stream",
     "text": [
      "Moviepy - Done !\n",
      "Moviepy - video ready /mnt/d/serao/busd_cp/test/Violence/VIOLENCE_374.mp4\n",
      "Moviepy - Building video /mnt/d/serao/busd_cp/test/Violence/VIOLENCE_375.mp4.\n",
      "Moviepy - Writing video /mnt/d/serao/busd_cp/test/Violence/VIOLENCE_375.mp4\n",
      "\n"
     ]
    },
    {
     "name": "stderr",
     "output_type": "stream",
     "text": [
      "                                                             \r"
     ]
    },
    {
     "name": "stdout",
     "output_type": "stream",
     "text": [
      "Moviepy - Done !\n",
      "Moviepy - video ready /mnt/d/serao/busd_cp/test/Violence/VIOLENCE_375.mp4\n",
      "Moviepy - Building video /mnt/d/serao/busd_cp/test/Violence/VIOLENCE_381.mp4.\n",
      "Moviepy - Writing video /mnt/d/serao/busd_cp/test/Violence/VIOLENCE_381.mp4\n",
      "\n"
     ]
    },
    {
     "name": "stderr",
     "output_type": "stream",
     "text": [
      "                                                   \r"
     ]
    },
    {
     "name": "stdout",
     "output_type": "stream",
     "text": [
      "Moviepy - Done !\n",
      "Moviepy - video ready /mnt/d/serao/busd_cp/test/Violence/VIOLENCE_381.mp4\n",
      "Moviepy - Building video /mnt/d/serao/busd_cp/test/Violence/VIOLENCE_384.mp4.\n",
      "Moviepy - Writing video /mnt/d/serao/busd_cp/test/Violence/VIOLENCE_384.mp4\n",
      "\n"
     ]
    },
    {
     "name": "stderr",
     "output_type": "stream",
     "text": [
      "                                                   \r"
     ]
    },
    {
     "name": "stdout",
     "output_type": "stream",
     "text": [
      "Moviepy - Done !\n",
      "Moviepy - video ready /mnt/d/serao/busd_cp/test/Violence/VIOLENCE_384.mp4\n",
      "Moviepy - Building video /mnt/d/serao/busd_cp/test/Violence/VIOLENCE_40.mp4.\n",
      "Moviepy - Writing video /mnt/d/serao/busd_cp/test/Violence/VIOLENCE_40.mp4\n",
      "\n"
     ]
    },
    {
     "name": "stderr",
     "output_type": "stream",
     "text": [
      "                                                   \r"
     ]
    },
    {
     "name": "stdout",
     "output_type": "stream",
     "text": [
      "Moviepy - Done !\n",
      "Moviepy - video ready /mnt/d/serao/busd_cp/test/Violence/VIOLENCE_40.mp4\n",
      "Moviepy - Building video /mnt/d/serao/busd_cp/test/Violence/VIOLENCE_404.mp4.\n",
      "Moviepy - Writing video /mnt/d/serao/busd_cp/test/Violence/VIOLENCE_404.mp4\n",
      "\n"
     ]
    },
    {
     "name": "stderr",
     "output_type": "stream",
     "text": [
      "                                                             \r"
     ]
    },
    {
     "name": "stdout",
     "output_type": "stream",
     "text": [
      "Moviepy - Done !\n",
      "Moviepy - video ready /mnt/d/serao/busd_cp/test/Violence/VIOLENCE_404.mp4\n",
      "Moviepy - Building video /mnt/d/serao/busd_cp/test/Violence/VIOLENCE_407.mp4.\n",
      "Moviepy - Writing video /mnt/d/serao/busd_cp/test/Violence/VIOLENCE_407.mp4\n",
      "\n"
     ]
    },
    {
     "name": "stderr",
     "output_type": "stream",
     "text": [
      "                                                   \r"
     ]
    },
    {
     "name": "stdout",
     "output_type": "stream",
     "text": [
      "Moviepy - Done !\n",
      "Moviepy - video ready /mnt/d/serao/busd_cp/test/Violence/VIOLENCE_407.mp4\n",
      "Moviepy - Building video /mnt/d/serao/busd_cp/test/Violence/VIOLENCE_417.mp4.\n",
      "Moviepy - Writing video /mnt/d/serao/busd_cp/test/Violence/VIOLENCE_417.mp4\n",
      "\n"
     ]
    },
    {
     "name": "stderr",
     "output_type": "stream",
     "text": [
      "                                                            \r"
     ]
    },
    {
     "name": "stdout",
     "output_type": "stream",
     "text": [
      "Moviepy - Done !\n",
      "Moviepy - video ready /mnt/d/serao/busd_cp/test/Violence/VIOLENCE_417.mp4\n",
      "Moviepy - Building video /mnt/d/serao/busd_cp/test/Violence/VIOLENCE_421.mp4.\n",
      "Moviepy - Writing video /mnt/d/serao/busd_cp/test/Violence/VIOLENCE_421.mp4\n",
      "\n"
     ]
    },
    {
     "name": "stderr",
     "output_type": "stream",
     "text": [
      "                                                   \r"
     ]
    },
    {
     "name": "stdout",
     "output_type": "stream",
     "text": [
      "Moviepy - Done !\n",
      "Moviepy - video ready /mnt/d/serao/busd_cp/test/Violence/VIOLENCE_421.mp4\n",
      "Moviepy - Building video /mnt/d/serao/busd_cp/test/Violence/VIOLENCE_423.mp4.\n",
      "Moviepy - Writing video /mnt/d/serao/busd_cp/test/Violence/VIOLENCE_423.mp4\n",
      "\n"
     ]
    },
    {
     "name": "stderr",
     "output_type": "stream",
     "text": [
      "                                                             \r"
     ]
    },
    {
     "name": "stdout",
     "output_type": "stream",
     "text": [
      "Moviepy - Done !\n",
      "Moviepy - video ready /mnt/d/serao/busd_cp/test/Violence/VIOLENCE_423.mp4\n",
      "Moviepy - Building video /mnt/d/serao/busd_cp/test/Violence/VIOLENCE_427.mp4.\n",
      "Moviepy - Writing video /mnt/d/serao/busd_cp/test/Violence/VIOLENCE_427.mp4\n",
      "\n"
     ]
    },
    {
     "name": "stderr",
     "output_type": "stream",
     "text": [
      "                                                   \r"
     ]
    },
    {
     "name": "stdout",
     "output_type": "stream",
     "text": [
      "Moviepy - Done !\n",
      "Moviepy - video ready /mnt/d/serao/busd_cp/test/Violence/VIOLENCE_427.mp4\n",
      "Moviepy - Building video /mnt/d/serao/busd_cp/test/Violence/VIOLENCE_43.mp4.\n",
      "Moviepy - Writing video /mnt/d/serao/busd_cp/test/Violence/VIOLENCE_43.mp4\n",
      "\n"
     ]
    },
    {
     "name": "stderr",
     "output_type": "stream",
     "text": [
      "                                                             \r"
     ]
    },
    {
     "name": "stdout",
     "output_type": "stream",
     "text": [
      "Moviepy - Done !\n",
      "Moviepy - video ready /mnt/d/serao/busd_cp/test/Violence/VIOLENCE_43.mp4\n",
      "Moviepy - Building video /mnt/d/serao/busd_cp/test/Violence/VIOLENCE_433.mp4.\n",
      "Moviepy - Writing video /mnt/d/serao/busd_cp/test/Violence/VIOLENCE_433.mp4\n",
      "\n"
     ]
    },
    {
     "name": "stderr",
     "output_type": "stream",
     "text": [
      "                                                            \r"
     ]
    },
    {
     "name": "stdout",
     "output_type": "stream",
     "text": [
      "Moviepy - Done !\n",
      "Moviepy - video ready /mnt/d/serao/busd_cp/test/Violence/VIOLENCE_433.mp4\n",
      "Moviepy - Building video /mnt/d/serao/busd_cp/test/Violence/VIOLENCE_434.mp4.\n",
      "Moviepy - Writing video /mnt/d/serao/busd_cp/test/Violence/VIOLENCE_434.mp4\n",
      "\n"
     ]
    },
    {
     "name": "stderr",
     "output_type": "stream",
     "text": [
      "                                                            \r"
     ]
    },
    {
     "name": "stdout",
     "output_type": "stream",
     "text": [
      "Moviepy - Done !\n",
      "Moviepy - video ready /mnt/d/serao/busd_cp/test/Violence/VIOLENCE_434.mp4\n",
      "Moviepy - Building video /mnt/d/serao/busd_cp/test/Violence/VIOLENCE_437.mp4.\n",
      "Moviepy - Writing video /mnt/d/serao/busd_cp/test/Violence/VIOLENCE_437.mp4\n",
      "\n"
     ]
    },
    {
     "name": "stderr",
     "output_type": "stream",
     "text": [
      "                                                            \r"
     ]
    },
    {
     "name": "stdout",
     "output_type": "stream",
     "text": [
      "Moviepy - Done !\n",
      "Moviepy - video ready /mnt/d/serao/busd_cp/test/Violence/VIOLENCE_437.mp4\n",
      "Moviepy - Building video /mnt/d/serao/busd_cp/test/Violence/VIOLENCE_442.mp4.\n",
      "Moviepy - Writing video /mnt/d/serao/busd_cp/test/Violence/VIOLENCE_442.mp4\n",
      "\n"
     ]
    },
    {
     "name": "stderr",
     "output_type": "stream",
     "text": [
      "                                                            \r"
     ]
    },
    {
     "name": "stdout",
     "output_type": "stream",
     "text": [
      "Moviepy - Done !\n",
      "Moviepy - video ready /mnt/d/serao/busd_cp/test/Violence/VIOLENCE_442.mp4\n",
      "Moviepy - Building video /mnt/d/serao/busd_cp/test/Violence/VIOLENCE_449.mp4.\n",
      "Moviepy - Writing video /mnt/d/serao/busd_cp/test/Violence/VIOLENCE_449.mp4\n",
      "\n"
     ]
    },
    {
     "name": "stderr",
     "output_type": "stream",
     "text": [
      "                                                            \r"
     ]
    },
    {
     "name": "stdout",
     "output_type": "stream",
     "text": [
      "Moviepy - Done !\n",
      "Moviepy - video ready /mnt/d/serao/busd_cp/test/Violence/VIOLENCE_449.mp4\n",
      "Moviepy - Building video /mnt/d/serao/busd_cp/test/Violence/VIOLENCE_45.mp4.\n",
      "Moviepy - Writing video /mnt/d/serao/busd_cp/test/Violence/VIOLENCE_45.mp4\n",
      "\n"
     ]
    },
    {
     "name": "stderr",
     "output_type": "stream",
     "text": [
      "                                                             \r"
     ]
    },
    {
     "name": "stdout",
     "output_type": "stream",
     "text": [
      "Moviepy - Done !\n",
      "Moviepy - video ready /mnt/d/serao/busd_cp/test/Violence/VIOLENCE_45.mp4\n",
      "Moviepy - Building video /mnt/d/serao/busd_cp/test/Violence/VIOLENCE_456.mp4.\n",
      "Moviepy - Writing video /mnt/d/serao/busd_cp/test/Violence/VIOLENCE_456.mp4\n",
      "\n"
     ]
    },
    {
     "name": "stderr",
     "output_type": "stream",
     "text": [
      "                                                            \r"
     ]
    },
    {
     "name": "stdout",
     "output_type": "stream",
     "text": [
      "Moviepy - Done !\n",
      "Moviepy - video ready /mnt/d/serao/busd_cp/test/Violence/VIOLENCE_456.mp4\n",
      "Moviepy - Building video /mnt/d/serao/busd_cp/test/Violence/VIOLENCE_46.mp4.\n",
      "Moviepy - Writing video /mnt/d/serao/busd_cp/test/Violence/VIOLENCE_46.mp4\n",
      "\n"
     ]
    },
    {
     "name": "stderr",
     "output_type": "stream",
     "text": [
      "                                                             \r"
     ]
    },
    {
     "name": "stdout",
     "output_type": "stream",
     "text": [
      "Moviepy - Done !\n",
      "Moviepy - video ready /mnt/d/serao/busd_cp/test/Violence/VIOLENCE_46.mp4\n",
      "Moviepy - Building video /mnt/d/serao/busd_cp/test/Violence/VIOLENCE_460.mp4.\n",
      "Moviepy - Writing video /mnt/d/serao/busd_cp/test/Violence/VIOLENCE_460.mp4\n",
      "\n"
     ]
    },
    {
     "name": "stderr",
     "output_type": "stream",
     "text": [
      "                                                            \r"
     ]
    },
    {
     "name": "stdout",
     "output_type": "stream",
     "text": [
      "Moviepy - Done !\n",
      "Moviepy - video ready /mnt/d/serao/busd_cp/test/Violence/VIOLENCE_460.mp4\n",
      "Moviepy - Building video /mnt/d/serao/busd_cp/test/Violence/VIOLENCE_467.mp4.\n",
      "Moviepy - Writing video /mnt/d/serao/busd_cp/test/Violence/VIOLENCE_467.mp4\n",
      "\n"
     ]
    },
    {
     "name": "stderr",
     "output_type": "stream",
     "text": [
      "                                                            \r"
     ]
    },
    {
     "name": "stdout",
     "output_type": "stream",
     "text": [
      "Moviepy - Done !\n",
      "Moviepy - video ready /mnt/d/serao/busd_cp/test/Violence/VIOLENCE_467.mp4\n",
      "Moviepy - Building video /mnt/d/serao/busd_cp/test/Violence/VIOLENCE_474.mp4.\n",
      "Moviepy - Writing video /mnt/d/serao/busd_cp/test/Violence/VIOLENCE_474.mp4\n",
      "\n"
     ]
    },
    {
     "name": "stderr",
     "output_type": "stream",
     "text": [
      "                                                            \r"
     ]
    },
    {
     "name": "stdout",
     "output_type": "stream",
     "text": [
      "Moviepy - Done !\n",
      "Moviepy - video ready /mnt/d/serao/busd_cp/test/Violence/VIOLENCE_474.mp4\n",
      "Moviepy - Building video /mnt/d/serao/busd_cp/test/Violence/VIOLENCE_478.mp4.\n",
      "Moviepy - Writing video /mnt/d/serao/busd_cp/test/Violence/VIOLENCE_478.mp4\n",
      "\n"
     ]
    },
    {
     "name": "stderr",
     "output_type": "stream",
     "text": [
      "                                                            \r"
     ]
    },
    {
     "name": "stdout",
     "output_type": "stream",
     "text": [
      "Moviepy - Done !\n",
      "Moviepy - video ready /mnt/d/serao/busd_cp/test/Violence/VIOLENCE_478.mp4\n",
      "Moviepy - Building video /mnt/d/serao/busd_cp/test/Violence/VIOLENCE_499.mp4.\n",
      "Moviepy - Writing video /mnt/d/serao/busd_cp/test/Violence/VIOLENCE_499.mp4\n",
      "\n"
     ]
    },
    {
     "name": "stderr",
     "output_type": "stream",
     "text": [
      "                                                            \r"
     ]
    },
    {
     "name": "stdout",
     "output_type": "stream",
     "text": [
      "Moviepy - Done !\n",
      "Moviepy - video ready /mnt/d/serao/busd_cp/test/Violence/VIOLENCE_499.mp4\n",
      "Moviepy - Building video /mnt/d/serao/busd_cp/test/Violence/VIOLENCE_5.mp4.\n",
      "Moviepy - Writing video /mnt/d/serao/busd_cp/test/Violence/VIOLENCE_5.mp4\n",
      "\n"
     ]
    },
    {
     "name": "stderr",
     "output_type": "stream",
     "text": [
      "                                                   \r"
     ]
    },
    {
     "name": "stdout",
     "output_type": "stream",
     "text": [
      "Moviepy - Done !\n",
      "Moviepy - video ready /mnt/d/serao/busd_cp/test/Violence/VIOLENCE_5.mp4\n",
      "Moviepy - Building video /mnt/d/serao/busd_cp/test/Violence/VIOLENCE_50.mp4.\n",
      "Moviepy - Writing video /mnt/d/serao/busd_cp/test/Violence/VIOLENCE_50.mp4\n",
      "\n"
     ]
    },
    {
     "name": "stderr",
     "output_type": "stream",
     "text": [
      "                                                            \r"
     ]
    },
    {
     "name": "stdout",
     "output_type": "stream",
     "text": [
      "Moviepy - Done !\n",
      "Moviepy - video ready /mnt/d/serao/busd_cp/test/Violence/VIOLENCE_50.mp4\n",
      "Moviepy - Building video /mnt/d/serao/busd_cp/test/Violence/VIOLENCE_505.mp4.\n",
      "Moviepy - Writing video /mnt/d/serao/busd_cp/test/Violence/VIOLENCE_505.mp4\n",
      "\n"
     ]
    },
    {
     "name": "stderr",
     "output_type": "stream",
     "text": [
      "                                                   \r"
     ]
    },
    {
     "name": "stdout",
     "output_type": "stream",
     "text": [
      "Moviepy - Done !\n",
      "Moviepy - video ready /mnt/d/serao/busd_cp/test/Violence/VIOLENCE_505.mp4\n",
      "Moviepy - Building video /mnt/d/serao/busd_cp/test/Violence/VIOLENCE_51.mp4.\n",
      "Moviepy - Writing video /mnt/d/serao/busd_cp/test/Violence/VIOLENCE_51.mp4\n",
      "\n"
     ]
    },
    {
     "name": "stderr",
     "output_type": "stream",
     "text": [
      "                                                            \r"
     ]
    },
    {
     "name": "stdout",
     "output_type": "stream",
     "text": [
      "Moviepy - Done !\n",
      "Moviepy - video ready /mnt/d/serao/busd_cp/test/Violence/VIOLENCE_51.mp4\n",
      "Moviepy - Building video /mnt/d/serao/busd_cp/test/Violence/VIOLENCE_512.mp4.\n",
      "Moviepy - Writing video /mnt/d/serao/busd_cp/test/Violence/VIOLENCE_512.mp4\n",
      "\n"
     ]
    },
    {
     "name": "stderr",
     "output_type": "stream",
     "text": [
      "                                                            \r"
     ]
    },
    {
     "name": "stdout",
     "output_type": "stream",
     "text": [
      "Moviepy - Done !\n",
      "Moviepy - video ready /mnt/d/serao/busd_cp/test/Violence/VIOLENCE_512.mp4\n",
      "Moviepy - Building video /mnt/d/serao/busd_cp/test/Violence/VIOLENCE_514.mp4.\n",
      "Moviepy - Writing video /mnt/d/serao/busd_cp/test/Violence/VIOLENCE_514.mp4\n",
      "\n"
     ]
    },
    {
     "name": "stderr",
     "output_type": "stream",
     "text": [
      "                                                   \r"
     ]
    },
    {
     "name": "stdout",
     "output_type": "stream",
     "text": [
      "Moviepy - Done !\n",
      "Moviepy - video ready /mnt/d/serao/busd_cp/test/Violence/VIOLENCE_514.mp4\n",
      "Moviepy - Building video /mnt/d/serao/busd_cp/test/Violence/VIOLENCE_522.mp4.\n",
      "Moviepy - Writing video /mnt/d/serao/busd_cp/test/Violence/VIOLENCE_522.mp4\n",
      "\n"
     ]
    },
    {
     "name": "stderr",
     "output_type": "stream",
     "text": [
      "                                                   \r"
     ]
    },
    {
     "name": "stdout",
     "output_type": "stream",
     "text": [
      "Moviepy - Done !\n",
      "Moviepy - video ready /mnt/d/serao/busd_cp/test/Violence/VIOLENCE_522.mp4\n",
      "Moviepy - Building video /mnt/d/serao/busd_cp/test/Violence/VIOLENCE_523.mp4.\n",
      "Moviepy - Writing video /mnt/d/serao/busd_cp/test/Violence/VIOLENCE_523.mp4\n",
      "\n"
     ]
    },
    {
     "name": "stderr",
     "output_type": "stream",
     "text": [
      "                                                             \r"
     ]
    },
    {
     "name": "stdout",
     "output_type": "stream",
     "text": [
      "Moviepy - Done !\n",
      "Moviepy - video ready /mnt/d/serao/busd_cp/test/Violence/VIOLENCE_523.mp4\n",
      "Moviepy - Building video /mnt/d/serao/busd_cp/test/Violence/VIOLENCE_528.mp4.\n",
      "Moviepy - Writing video /mnt/d/serao/busd_cp/test/Violence/VIOLENCE_528.mp4\n",
      "\n"
     ]
    },
    {
     "name": "stderr",
     "output_type": "stream",
     "text": [
      "                                                             \r"
     ]
    },
    {
     "name": "stdout",
     "output_type": "stream",
     "text": [
      "Moviepy - Done !\n",
      "Moviepy - video ready /mnt/d/serao/busd_cp/test/Violence/VIOLENCE_528.mp4\n",
      "Moviepy - Building video /mnt/d/serao/busd_cp/test/Violence/VIOLENCE_533.mp4.\n",
      "Moviepy - Writing video /mnt/d/serao/busd_cp/test/Violence/VIOLENCE_533.mp4\n",
      "\n"
     ]
    },
    {
     "name": "stderr",
     "output_type": "stream",
     "text": [
      "                                                   \r"
     ]
    },
    {
     "name": "stdout",
     "output_type": "stream",
     "text": [
      "Moviepy - Done !\n",
      "Moviepy - video ready /mnt/d/serao/busd_cp/test/Violence/VIOLENCE_533.mp4\n",
      "Moviepy - Building video /mnt/d/serao/busd_cp/test/Violence/VIOLENCE_538.mp4.\n",
      "Moviepy - Writing video /mnt/d/serao/busd_cp/test/Violence/VIOLENCE_538.mp4\n",
      "\n"
     ]
    },
    {
     "name": "stderr",
     "output_type": "stream",
     "text": [
      "                                                            \r"
     ]
    },
    {
     "name": "stdout",
     "output_type": "stream",
     "text": [
      "Moviepy - Done !\n",
      "Moviepy - video ready /mnt/d/serao/busd_cp/test/Violence/VIOLENCE_538.mp4\n",
      "Moviepy - Building video /mnt/d/serao/busd_cp/test/Violence/VIOLENCE_539.mp4.\n",
      "Moviepy - Writing video /mnt/d/serao/busd_cp/test/Violence/VIOLENCE_539.mp4\n",
      "\n"
     ]
    },
    {
     "name": "stderr",
     "output_type": "stream",
     "text": [
      "                                                            \r"
     ]
    },
    {
     "name": "stdout",
     "output_type": "stream",
     "text": [
      "Moviepy - Done !\n",
      "Moviepy - video ready /mnt/d/serao/busd_cp/test/Violence/VIOLENCE_539.mp4\n",
      "Moviepy - Building video /mnt/d/serao/busd_cp/test/Violence/VIOLENCE_54.mp4.\n",
      "Moviepy - Writing video /mnt/d/serao/busd_cp/test/Violence/VIOLENCE_54.mp4\n",
      "\n"
     ]
    },
    {
     "name": "stderr",
     "output_type": "stream",
     "text": [
      "                                                            \r"
     ]
    },
    {
     "name": "stdout",
     "output_type": "stream",
     "text": [
      "Moviepy - Done !\n",
      "Moviepy - video ready /mnt/d/serao/busd_cp/test/Violence/VIOLENCE_54.mp4\n",
      "Moviepy - Building video /mnt/d/serao/busd_cp/test/Violence/VIOLENCE_540.mp4.\n",
      "Moviepy - Writing video /mnt/d/serao/busd_cp/test/Violence/VIOLENCE_540.mp4\n",
      "\n"
     ]
    },
    {
     "name": "stderr",
     "output_type": "stream",
     "text": [
      "                                                            \r"
     ]
    },
    {
     "name": "stdout",
     "output_type": "stream",
     "text": [
      "Moviepy - Done !\n",
      "Moviepy - video ready /mnt/d/serao/busd_cp/test/Violence/VIOLENCE_540.mp4\n",
      "Moviepy - Building video /mnt/d/serao/busd_cp/test/Violence/VIOLENCE_545.mp4.\n",
      "Moviepy - Writing video /mnt/d/serao/busd_cp/test/Violence/VIOLENCE_545.mp4\n",
      "\n"
     ]
    },
    {
     "name": "stderr",
     "output_type": "stream",
     "text": [
      "                                                            \r"
     ]
    },
    {
     "name": "stdout",
     "output_type": "stream",
     "text": [
      "Moviepy - Done !\n",
      "Moviepy - video ready /mnt/d/serao/busd_cp/test/Violence/VIOLENCE_545.mp4\n",
      "Moviepy - Building video /mnt/d/serao/busd_cp/test/Violence/VIOLENCE_549.mp4.\n",
      "Moviepy - Writing video /mnt/d/serao/busd_cp/test/Violence/VIOLENCE_549.mp4\n",
      "\n"
     ]
    },
    {
     "name": "stderr",
     "output_type": "stream",
     "text": [
      "                                                            \r"
     ]
    },
    {
     "name": "stdout",
     "output_type": "stream",
     "text": [
      "Moviepy - Done !\n",
      "Moviepy - video ready /mnt/d/serao/busd_cp/test/Violence/VIOLENCE_549.mp4\n",
      "Moviepy - Building video /mnt/d/serao/busd_cp/test/Violence/VIOLENCE_551.mp4.\n",
      "Moviepy - Writing video /mnt/d/serao/busd_cp/test/Violence/VIOLENCE_551.mp4\n",
      "\n"
     ]
    },
    {
     "name": "stderr",
     "output_type": "stream",
     "text": [
      "                                                   \r"
     ]
    },
    {
     "name": "stdout",
     "output_type": "stream",
     "text": [
      "Moviepy - Done !\n",
      "Moviepy - video ready /mnt/d/serao/busd_cp/test/Violence/VIOLENCE_551.mp4\n",
      "Moviepy - Building video /mnt/d/serao/busd_cp/test/Violence/VIOLENCE_555.mp4.\n",
      "Moviepy - Writing video /mnt/d/serao/busd_cp/test/Violence/VIOLENCE_555.mp4\n",
      "\n"
     ]
    },
    {
     "name": "stderr",
     "output_type": "stream",
     "text": [
      "                                                            \r"
     ]
    },
    {
     "name": "stdout",
     "output_type": "stream",
     "text": [
      "Moviepy - Done !\n",
      "Moviepy - video ready /mnt/d/serao/busd_cp/test/Violence/VIOLENCE_555.mp4\n",
      "Moviepy - Building video /mnt/d/serao/busd_cp/test/Violence/VIOLENCE_558.mp4.\n",
      "Moviepy - Writing video /mnt/d/serao/busd_cp/test/Violence/VIOLENCE_558.mp4\n",
      "\n"
     ]
    },
    {
     "name": "stderr",
     "output_type": "stream",
     "text": [
      "                                                            \r"
     ]
    },
    {
     "name": "stdout",
     "output_type": "stream",
     "text": [
      "Moviepy - Done !\n",
      "Moviepy - video ready /mnt/d/serao/busd_cp/test/Violence/VIOLENCE_558.mp4\n",
      "Moviepy - Building video /mnt/d/serao/busd_cp/test/Violence/VIOLENCE_559.mp4.\n",
      "Moviepy - Writing video /mnt/d/serao/busd_cp/test/Violence/VIOLENCE_559.mp4\n",
      "\n"
     ]
    },
    {
     "name": "stderr",
     "output_type": "stream",
     "text": [
      "                                                            \r"
     ]
    },
    {
     "name": "stdout",
     "output_type": "stream",
     "text": [
      "Moviepy - Done !\n",
      "Moviepy - video ready /mnt/d/serao/busd_cp/test/Violence/VIOLENCE_559.mp4\n",
      "Moviepy - Building video /mnt/d/serao/busd_cp/test/Violence/VIOLENCE_561.mp4.\n",
      "Moviepy - Writing video /mnt/d/serao/busd_cp/test/Violence/VIOLENCE_561.mp4\n",
      "\n"
     ]
    },
    {
     "name": "stderr",
     "output_type": "stream",
     "text": [
      "                                                            \r"
     ]
    },
    {
     "name": "stdout",
     "output_type": "stream",
     "text": [
      "Moviepy - Done !\n",
      "Moviepy - video ready /mnt/d/serao/busd_cp/test/Violence/VIOLENCE_561.mp4\n",
      "Moviepy - Building video /mnt/d/serao/busd_cp/test/Violence/VIOLENCE_571.mp4.\n",
      "Moviepy - Writing video /mnt/d/serao/busd_cp/test/Violence/VIOLENCE_571.mp4\n",
      "\n"
     ]
    },
    {
     "name": "stderr",
     "output_type": "stream",
     "text": [
      "                                                            \r"
     ]
    },
    {
     "name": "stdout",
     "output_type": "stream",
     "text": [
      "Moviepy - Done !\n",
      "Moviepy - video ready /mnt/d/serao/busd_cp/test/Violence/VIOLENCE_571.mp4\n",
      "Moviepy - Building video /mnt/d/serao/busd_cp/test/Violence/VIOLENCE_577.mp4.\n",
      "Moviepy - Writing video /mnt/d/serao/busd_cp/test/Violence/VIOLENCE_577.mp4\n",
      "\n"
     ]
    },
    {
     "name": "stderr",
     "output_type": "stream",
     "text": [
      "                                                            \r"
     ]
    },
    {
     "name": "stdout",
     "output_type": "stream",
     "text": [
      "Moviepy - Done !\n",
      "Moviepy - video ready /mnt/d/serao/busd_cp/test/Violence/VIOLENCE_577.mp4\n",
      "Moviepy - Building video /mnt/d/serao/busd_cp/test/Violence/VIOLENCE_582.mp4.\n",
      "Moviepy - Writing video /mnt/d/serao/busd_cp/test/Violence/VIOLENCE_582.mp4\n",
      "\n"
     ]
    },
    {
     "name": "stderr",
     "output_type": "stream",
     "text": [
      "                                                            \r"
     ]
    },
    {
     "name": "stdout",
     "output_type": "stream",
     "text": [
      "Moviepy - Done !\n",
      "Moviepy - video ready /mnt/d/serao/busd_cp/test/Violence/VIOLENCE_582.mp4\n",
      "Moviepy - Building video /mnt/d/serao/busd_cp/test/Violence/VIOLENCE_587.mp4.\n",
      "Moviepy - Writing video /mnt/d/serao/busd_cp/test/Violence/VIOLENCE_587.mp4\n",
      "\n"
     ]
    },
    {
     "name": "stderr",
     "output_type": "stream",
     "text": [
      "                                                   \r"
     ]
    },
    {
     "name": "stdout",
     "output_type": "stream",
     "text": [
      "Moviepy - Done !\n",
      "Moviepy - video ready /mnt/d/serao/busd_cp/test/Violence/VIOLENCE_587.mp4\n",
      "Moviepy - Building video /mnt/d/serao/busd_cp/test/Violence/VIOLENCE_592.mp4.\n",
      "Moviepy - Writing video /mnt/d/serao/busd_cp/test/Violence/VIOLENCE_592.mp4\n",
      "\n"
     ]
    },
    {
     "name": "stderr",
     "output_type": "stream",
     "text": [
      "                                                            \r"
     ]
    },
    {
     "name": "stdout",
     "output_type": "stream",
     "text": [
      "Moviepy - Done !\n",
      "Moviepy - video ready /mnt/d/serao/busd_cp/test/Violence/VIOLENCE_592.mp4\n",
      "Moviepy - Building video /mnt/d/serao/busd_cp/test/Violence/VIOLENCE_599.mp4.\n",
      "Moviepy - Writing video /mnt/d/serao/busd_cp/test/Violence/VIOLENCE_599.mp4\n",
      "\n"
     ]
    },
    {
     "name": "stderr",
     "output_type": "stream",
     "text": [
      "                                                            \r"
     ]
    },
    {
     "name": "stdout",
     "output_type": "stream",
     "text": [
      "Moviepy - Done !\n",
      "Moviepy - video ready /mnt/d/serao/busd_cp/test/Violence/VIOLENCE_599.mp4\n",
      "Moviepy - Building video /mnt/d/serao/busd_cp/test/Violence/VIOLENCE_60.mp4.\n",
      "Moviepy - Writing video /mnt/d/serao/busd_cp/test/Violence/VIOLENCE_60.mp4\n",
      "\n"
     ]
    },
    {
     "name": "stderr",
     "output_type": "stream",
     "text": [
      "                                                            \r"
     ]
    },
    {
     "name": "stdout",
     "output_type": "stream",
     "text": [
      "Moviepy - Done !\n",
      "Moviepy - video ready /mnt/d/serao/busd_cp/test/Violence/VIOLENCE_60.mp4\n",
      "Moviepy - Building video /mnt/d/serao/busd_cp/test/Violence/VIOLENCE_602.mp4.\n",
      "Moviepy - Writing video /mnt/d/serao/busd_cp/test/Violence/VIOLENCE_602.mp4\n",
      "\n"
     ]
    },
    {
     "name": "stderr",
     "output_type": "stream",
     "text": [
      "                                                            \r"
     ]
    },
    {
     "name": "stdout",
     "output_type": "stream",
     "text": [
      "Moviepy - Done !\n",
      "Moviepy - video ready /mnt/d/serao/busd_cp/test/Violence/VIOLENCE_602.mp4\n",
      "Moviepy - Building video /mnt/d/serao/busd_cp/test/Violence/VIOLENCE_606.mp4.\n",
      "Moviepy - Writing video /mnt/d/serao/busd_cp/test/Violence/VIOLENCE_606.mp4\n",
      "\n"
     ]
    },
    {
     "name": "stderr",
     "output_type": "stream",
     "text": [
      "                                                            \r"
     ]
    },
    {
     "name": "stdout",
     "output_type": "stream",
     "text": [
      "Moviepy - Done !\n",
      "Moviepy - video ready /mnt/d/serao/busd_cp/test/Violence/VIOLENCE_606.mp4\n",
      "Moviepy - Building video /mnt/d/serao/busd_cp/test/Violence/VIOLENCE_607.mp4.\n",
      "Moviepy - Writing video /mnt/d/serao/busd_cp/test/Violence/VIOLENCE_607.mp4\n",
      "\n"
     ]
    },
    {
     "name": "stderr",
     "output_type": "stream",
     "text": [
      "                                                            \r"
     ]
    },
    {
     "name": "stdout",
     "output_type": "stream",
     "text": [
      "Moviepy - Done !\n",
      "Moviepy - video ready /mnt/d/serao/busd_cp/test/Violence/VIOLENCE_607.mp4\n",
      "Moviepy - Building video /mnt/d/serao/busd_cp/test/Violence/VIOLENCE_609.mp4.\n",
      "Moviepy - Writing video /mnt/d/serao/busd_cp/test/Violence/VIOLENCE_609.mp4\n",
      "\n"
     ]
    },
    {
     "name": "stderr",
     "output_type": "stream",
     "text": [
      "                                                             \r"
     ]
    },
    {
     "name": "stdout",
     "output_type": "stream",
     "text": [
      "Moviepy - Done !\n",
      "Moviepy - video ready /mnt/d/serao/busd_cp/test/Violence/VIOLENCE_609.mp4\n",
      "Moviepy - Building video /mnt/d/serao/busd_cp/test/Violence/VIOLENCE_616.mp4.\n",
      "Moviepy - Writing video /mnt/d/serao/busd_cp/test/Violence/VIOLENCE_616.mp4\n",
      "\n"
     ]
    },
    {
     "name": "stderr",
     "output_type": "stream",
     "text": [
      "                                                   \r"
     ]
    },
    {
     "name": "stdout",
     "output_type": "stream",
     "text": [
      "Moviepy - Done !\n",
      "Moviepy - video ready /mnt/d/serao/busd_cp/test/Violence/VIOLENCE_616.mp4\n",
      "Moviepy - Building video /mnt/d/serao/busd_cp/test/Violence/VIOLENCE_625.mp4.\n",
      "Moviepy - Writing video /mnt/d/serao/busd_cp/test/Violence/VIOLENCE_625.mp4\n",
      "\n"
     ]
    },
    {
     "name": "stderr",
     "output_type": "stream",
     "text": [
      "                                                            \r"
     ]
    },
    {
     "name": "stdout",
     "output_type": "stream",
     "text": [
      "Moviepy - Done !\n",
      "Moviepy - video ready /mnt/d/serao/busd_cp/test/Violence/VIOLENCE_625.mp4\n",
      "Moviepy - Building video /mnt/d/serao/busd_cp/test/Violence/VIOLENCE_632.mp4.\n",
      "Moviepy - Writing video /mnt/d/serao/busd_cp/test/Violence/VIOLENCE_632.mp4\n",
      "\n"
     ]
    },
    {
     "name": "stderr",
     "output_type": "stream",
     "text": [
      "                                                             \r"
     ]
    },
    {
     "name": "stdout",
     "output_type": "stream",
     "text": [
      "Moviepy - Done !\n",
      "Moviepy - video ready /mnt/d/serao/busd_cp/test/Violence/VIOLENCE_632.mp4\n",
      "Moviepy - Building video /mnt/d/serao/busd_cp/test/Violence/VIOLENCE_636.mp4.\n",
      "Moviepy - Writing video /mnt/d/serao/busd_cp/test/Violence/VIOLENCE_636.mp4\n",
      "\n"
     ]
    },
    {
     "name": "stderr",
     "output_type": "stream",
     "text": [
      "                                                   \r"
     ]
    },
    {
     "name": "stdout",
     "output_type": "stream",
     "text": [
      "Moviepy - Done !\n",
      "Moviepy - video ready /mnt/d/serao/busd_cp/test/Violence/VIOLENCE_636.mp4\n",
      "Moviepy - Building video /mnt/d/serao/busd_cp/test/Violence/VIOLENCE_637.mp4.\n",
      "Moviepy - Writing video /mnt/d/serao/busd_cp/test/Violence/VIOLENCE_637.mp4\n",
      "\n"
     ]
    },
    {
     "name": "stderr",
     "output_type": "stream",
     "text": [
      "                                                             \r"
     ]
    },
    {
     "name": "stdout",
     "output_type": "stream",
     "text": [
      "Moviepy - Done !\n",
      "Moviepy - video ready /mnt/d/serao/busd_cp/test/Violence/VIOLENCE_637.mp4\n",
      "Moviepy - Building video /mnt/d/serao/busd_cp/test/Violence/VIOLENCE_640.mp4.\n",
      "Moviepy - Writing video /mnt/d/serao/busd_cp/test/Violence/VIOLENCE_640.mp4\n",
      "\n"
     ]
    },
    {
     "name": "stderr",
     "output_type": "stream",
     "text": [
      "                                                            \r"
     ]
    },
    {
     "name": "stdout",
     "output_type": "stream",
     "text": [
      "Moviepy - Done !\n",
      "Moviepy - video ready /mnt/d/serao/busd_cp/test/Violence/VIOLENCE_640.mp4\n",
      "Moviepy - Building video /mnt/d/serao/busd_cp/test/Violence/VIOLENCE_644.mp4.\n",
      "Moviepy - Writing video /mnt/d/serao/busd_cp/test/Violence/VIOLENCE_644.mp4\n",
      "\n"
     ]
    },
    {
     "name": "stderr",
     "output_type": "stream",
     "text": [
      "                                                            \r"
     ]
    },
    {
     "name": "stdout",
     "output_type": "stream",
     "text": [
      "Moviepy - Done !\n",
      "Moviepy - video ready /mnt/d/serao/busd_cp/test/Violence/VIOLENCE_644.mp4\n",
      "Moviepy - Building video /mnt/d/serao/busd_cp/test/Violence/VIOLENCE_648.mp4.\n",
      "Moviepy - Writing video /mnt/d/serao/busd_cp/test/Violence/VIOLENCE_648.mp4\n",
      "\n"
     ]
    },
    {
     "name": "stderr",
     "output_type": "stream",
     "text": [
      "                                                            \r"
     ]
    },
    {
     "name": "stdout",
     "output_type": "stream",
     "text": [
      "Moviepy - Done !\n",
      "Moviepy - video ready /mnt/d/serao/busd_cp/test/Violence/VIOLENCE_648.mp4\n",
      "Moviepy - Building video /mnt/d/serao/busd_cp/test/Violence/VIOLENCE_650.mp4.\n",
      "Moviepy - Writing video /mnt/d/serao/busd_cp/test/Violence/VIOLENCE_650.mp4\n",
      "\n"
     ]
    },
    {
     "name": "stderr",
     "output_type": "stream",
     "text": [
      "                                                            \r"
     ]
    },
    {
     "name": "stdout",
     "output_type": "stream",
     "text": [
      "Moviepy - Done !\n",
      "Moviepy - video ready /mnt/d/serao/busd_cp/test/Violence/VIOLENCE_650.mp4\n",
      "Moviepy - Building video /mnt/d/serao/busd_cp/test/Violence/VIOLENCE_654.mp4.\n",
      "Moviepy - Writing video /mnt/d/serao/busd_cp/test/Violence/VIOLENCE_654.mp4\n",
      "\n"
     ]
    },
    {
     "name": "stderr",
     "output_type": "stream",
     "text": [
      "                                                            \r"
     ]
    },
    {
     "name": "stdout",
     "output_type": "stream",
     "text": [
      "Moviepy - Done !\n",
      "Moviepy - video ready /mnt/d/serao/busd_cp/test/Violence/VIOLENCE_654.mp4\n",
      "Moviepy - Building video /mnt/d/serao/busd_cp/test/Violence/VIOLENCE_664.mp4.\n",
      "Moviepy - Writing video /mnt/d/serao/busd_cp/test/Violence/VIOLENCE_664.mp4\n",
      "\n"
     ]
    },
    {
     "name": "stderr",
     "output_type": "stream",
     "text": [
      "                                                            \r"
     ]
    },
    {
     "name": "stdout",
     "output_type": "stream",
     "text": [
      "Moviepy - Done !\n",
      "Moviepy - video ready /mnt/d/serao/busd_cp/test/Violence/VIOLENCE_664.mp4\n",
      "Moviepy - Building video /mnt/d/serao/busd_cp/test/Violence/VIOLENCE_677.mp4.\n",
      "Moviepy - Writing video /mnt/d/serao/busd_cp/test/Violence/VIOLENCE_677.mp4\n",
      "\n"
     ]
    },
    {
     "name": "stderr",
     "output_type": "stream",
     "text": [
      "                                                   \r"
     ]
    },
    {
     "name": "stdout",
     "output_type": "stream",
     "text": [
      "Moviepy - Done !\n",
      "Moviepy - video ready /mnt/d/serao/busd_cp/test/Violence/VIOLENCE_677.mp4\n",
      "Moviepy - Building video /mnt/d/serao/busd_cp/test/Violence/VIOLENCE_678.mp4.\n",
      "Moviepy - Writing video /mnt/d/serao/busd_cp/test/Violence/VIOLENCE_678.mp4\n",
      "\n"
     ]
    },
    {
     "name": "stderr",
     "output_type": "stream",
     "text": [
      "                                                            \r"
     ]
    },
    {
     "name": "stdout",
     "output_type": "stream",
     "text": [
      "Moviepy - Done !\n",
      "Moviepy - video ready /mnt/d/serao/busd_cp/test/Violence/VIOLENCE_678.mp4\n",
      "Moviepy - Building video /mnt/d/serao/busd_cp/test/Violence/VIOLENCE_685.mp4.\n",
      "Moviepy - Writing video /mnt/d/serao/busd_cp/test/Violence/VIOLENCE_685.mp4\n",
      "\n"
     ]
    },
    {
     "name": "stderr",
     "output_type": "stream",
     "text": [
      "                                                   \r"
     ]
    },
    {
     "name": "stdout",
     "output_type": "stream",
     "text": [
      "Moviepy - Done !\n",
      "Moviepy - video ready /mnt/d/serao/busd_cp/test/Violence/VIOLENCE_685.mp4\n",
      "Moviepy - Building video /mnt/d/serao/busd_cp/test/Violence/VIOLENCE_688.mp4.\n",
      "Moviepy - Writing video /mnt/d/serao/busd_cp/test/Violence/VIOLENCE_688.mp4\n",
      "\n"
     ]
    },
    {
     "name": "stderr",
     "output_type": "stream",
     "text": [
      "                                                            \r"
     ]
    },
    {
     "name": "stdout",
     "output_type": "stream",
     "text": [
      "Moviepy - Done !\n",
      "Moviepy - video ready /mnt/d/serao/busd_cp/test/Violence/VIOLENCE_688.mp4\n",
      "Moviepy - Building video /mnt/d/serao/busd_cp/test/Violence/VIOLENCE_689.mp4.\n",
      "Moviepy - Writing video /mnt/d/serao/busd_cp/test/Violence/VIOLENCE_689.mp4\n",
      "\n"
     ]
    },
    {
     "name": "stderr",
     "output_type": "stream",
     "text": [
      "                                                            \r"
     ]
    },
    {
     "name": "stdout",
     "output_type": "stream",
     "text": [
      "Moviepy - Done !\n",
      "Moviepy - video ready /mnt/d/serao/busd_cp/test/Violence/VIOLENCE_689.mp4\n",
      "Moviepy - Building video /mnt/d/serao/busd_cp/test/Violence/VIOLENCE_69.mp4.\n",
      "Moviepy - Writing video /mnt/d/serao/busd_cp/test/Violence/VIOLENCE_69.mp4\n",
      "\n"
     ]
    },
    {
     "name": "stderr",
     "output_type": "stream",
     "text": [
      "                                                            \r"
     ]
    },
    {
     "name": "stdout",
     "output_type": "stream",
     "text": [
      "Moviepy - Done !\n",
      "Moviepy - video ready /mnt/d/serao/busd_cp/test/Violence/VIOLENCE_69.mp4\n",
      "Moviepy - Building video /mnt/d/serao/busd_cp/test/Violence/VIOLENCE_698.mp4.\n",
      "Moviepy - Writing video /mnt/d/serao/busd_cp/test/Violence/VIOLENCE_698.mp4\n",
      "\n"
     ]
    },
    {
     "name": "stderr",
     "output_type": "stream",
     "text": [
      "                                                            \r"
     ]
    },
    {
     "name": "stdout",
     "output_type": "stream",
     "text": [
      "Moviepy - Done !\n",
      "Moviepy - video ready /mnt/d/serao/busd_cp/test/Violence/VIOLENCE_698.mp4\n",
      "Moviepy - Building video /mnt/d/serao/busd_cp/test/Violence/VIOLENCE_7.mp4.\n",
      "Moviepy - Writing video /mnt/d/serao/busd_cp/test/Violence/VIOLENCE_7.mp4\n",
      "\n"
     ]
    },
    {
     "name": "stderr",
     "output_type": "stream",
     "text": [
      "                                                   \r"
     ]
    },
    {
     "name": "stdout",
     "output_type": "stream",
     "text": [
      "Moviepy - Done !\n",
      "Moviepy - video ready /mnt/d/serao/busd_cp/test/Violence/VIOLENCE_7.mp4\n",
      "Moviepy - Building video /mnt/d/serao/busd_cp/test/Violence/VIOLENCE_700.mp4.\n",
      "Moviepy - Writing video /mnt/d/serao/busd_cp/test/Violence/VIOLENCE_700.mp4\n",
      "\n"
     ]
    },
    {
     "name": "stderr",
     "output_type": "stream",
     "text": [
      "                                                            \r"
     ]
    },
    {
     "name": "stdout",
     "output_type": "stream",
     "text": [
      "Moviepy - Done !\n",
      "Moviepy - video ready /mnt/d/serao/busd_cp/test/Violence/VIOLENCE_700.mp4\n",
      "Moviepy - Building video /mnt/d/serao/busd_cp/test/Violence/VIOLENCE_701.mp4.\n",
      "Moviepy - Writing video /mnt/d/serao/busd_cp/test/Violence/VIOLENCE_701.mp4\n",
      "\n"
     ]
    },
    {
     "name": "stderr",
     "output_type": "stream",
     "text": [
      "                                                            \r"
     ]
    },
    {
     "name": "stdout",
     "output_type": "stream",
     "text": [
      "Moviepy - Done !\n",
      "Moviepy - video ready /mnt/d/serao/busd_cp/test/Violence/VIOLENCE_701.mp4\n",
      "Moviepy - Building video /mnt/d/serao/busd_cp/test/Violence/VIOLENCE_704.mp4.\n",
      "Moviepy - Writing video /mnt/d/serao/busd_cp/test/Violence/VIOLENCE_704.mp4\n",
      "\n"
     ]
    },
    {
     "name": "stderr",
     "output_type": "stream",
     "text": [
      "                                                            \r"
     ]
    },
    {
     "name": "stdout",
     "output_type": "stream",
     "text": [
      "Moviepy - Done !\n",
      "Moviepy - video ready /mnt/d/serao/busd_cp/test/Violence/VIOLENCE_704.mp4\n",
      "Moviepy - Building video /mnt/d/serao/busd_cp/test/Violence/VIOLENCE_708.mp4.\n",
      "Moviepy - Writing video /mnt/d/serao/busd_cp/test/Violence/VIOLENCE_708.mp4\n",
      "\n"
     ]
    },
    {
     "name": "stderr",
     "output_type": "stream",
     "text": [
      "                                                            \r"
     ]
    },
    {
     "name": "stdout",
     "output_type": "stream",
     "text": [
      "Moviepy - Done !\n",
      "Moviepy - video ready /mnt/d/serao/busd_cp/test/Violence/VIOLENCE_708.mp4\n",
      "Moviepy - Building video /mnt/d/serao/busd_cp/test/Violence/VIOLENCE_722.mp4.\n",
      "Moviepy - Writing video /mnt/d/serao/busd_cp/test/Violence/VIOLENCE_722.mp4\n",
      "\n"
     ]
    },
    {
     "name": "stderr",
     "output_type": "stream",
     "text": [
      "                                                            \r"
     ]
    },
    {
     "name": "stdout",
     "output_type": "stream",
     "text": [
      "Moviepy - Done !\n",
      "Moviepy - video ready /mnt/d/serao/busd_cp/test/Violence/VIOLENCE_722.mp4\n",
      "Moviepy - Building video /mnt/d/serao/busd_cp/test/Violence/VIOLENCE_727.mp4.\n",
      "Moviepy - Writing video /mnt/d/serao/busd_cp/test/Violence/VIOLENCE_727.mp4\n",
      "\n"
     ]
    },
    {
     "name": "stderr",
     "output_type": "stream",
     "text": [
      "                                                   \r"
     ]
    },
    {
     "name": "stdout",
     "output_type": "stream",
     "text": [
      "Moviepy - Done !\n",
      "Moviepy - video ready /mnt/d/serao/busd_cp/test/Violence/VIOLENCE_727.mp4\n",
      "Moviepy - Building video /mnt/d/serao/busd_cp/test/Violence/VIOLENCE_728.mp4.\n",
      "Moviepy - Writing video /mnt/d/serao/busd_cp/test/Violence/VIOLENCE_728.mp4\n",
      "\n"
     ]
    },
    {
     "name": "stderr",
     "output_type": "stream",
     "text": [
      "                                                             \r"
     ]
    },
    {
     "name": "stdout",
     "output_type": "stream",
     "text": [
      "Moviepy - Done !\n",
      "Moviepy - video ready /mnt/d/serao/busd_cp/test/Violence/VIOLENCE_728.mp4\n",
      "Moviepy - Building video /mnt/d/serao/busd_cp/test/Violence/VIOLENCE_73.mp4.\n",
      "Moviepy - Writing video /mnt/d/serao/busd_cp/test/Violence/VIOLENCE_73.mp4\n",
      "\n"
     ]
    },
    {
     "name": "stderr",
     "output_type": "stream",
     "text": [
      "                                                   \r"
     ]
    },
    {
     "name": "stdout",
     "output_type": "stream",
     "text": [
      "Moviepy - Done !\n",
      "Moviepy - video ready /mnt/d/serao/busd_cp/test/Violence/VIOLENCE_73.mp4\n",
      "Moviepy - Building video /mnt/d/serao/busd_cp/test/Violence/VIOLENCE_731.mp4.\n",
      "Moviepy - Writing video /mnt/d/serao/busd_cp/test/Violence/VIOLENCE_731.mp4\n",
      "\n"
     ]
    },
    {
     "name": "stderr",
     "output_type": "stream",
     "text": [
      "                                                   \r"
     ]
    },
    {
     "name": "stdout",
     "output_type": "stream",
     "text": [
      "Moviepy - Done !\n",
      "Moviepy - video ready /mnt/d/serao/busd_cp/test/Violence/VIOLENCE_731.mp4\n",
      "Moviepy - Building video /mnt/d/serao/busd_cp/test/Violence/VIOLENCE_735.mp4.\n",
      "Moviepy - Writing video /mnt/d/serao/busd_cp/test/Violence/VIOLENCE_735.mp4\n",
      "\n"
     ]
    },
    {
     "name": "stderr",
     "output_type": "stream",
     "text": [
      "                                                             \r"
     ]
    },
    {
     "name": "stdout",
     "output_type": "stream",
     "text": [
      "Moviepy - Done !\n",
      "Moviepy - video ready /mnt/d/serao/busd_cp/test/Violence/VIOLENCE_735.mp4\n",
      "Moviepy - Building video /mnt/d/serao/busd_cp/test/Violence/VIOLENCE_746.mp4.\n",
      "Moviepy - Writing video /mnt/d/serao/busd_cp/test/Violence/VIOLENCE_746.mp4\n",
      "\n"
     ]
    },
    {
     "name": "stderr",
     "output_type": "stream",
     "text": [
      "                                                            \r"
     ]
    },
    {
     "name": "stdout",
     "output_type": "stream",
     "text": [
      "Moviepy - Done !\n",
      "Moviepy - video ready /mnt/d/serao/busd_cp/test/Violence/VIOLENCE_746.mp4\n",
      "Moviepy - Building video /mnt/d/serao/busd_cp/test/Violence/VIOLENCE_747.mp4.\n",
      "Moviepy - Writing video /mnt/d/serao/busd_cp/test/Violence/VIOLENCE_747.mp4\n",
      "\n"
     ]
    },
    {
     "name": "stderr",
     "output_type": "stream",
     "text": [
      "                                                            \r"
     ]
    },
    {
     "name": "stdout",
     "output_type": "stream",
     "text": [
      "Moviepy - Done !\n",
      "Moviepy - video ready /mnt/d/serao/busd_cp/test/Violence/VIOLENCE_747.mp4\n",
      "Moviepy - Building video /mnt/d/serao/busd_cp/test/Violence/VIOLENCE_749.mp4.\n",
      "Moviepy - Writing video /mnt/d/serao/busd_cp/test/Violence/VIOLENCE_749.mp4\n",
      "\n"
     ]
    },
    {
     "name": "stderr",
     "output_type": "stream",
     "text": [
      "                                                            \r"
     ]
    },
    {
     "name": "stdout",
     "output_type": "stream",
     "text": [
      "Moviepy - Done !\n",
      "Moviepy - video ready /mnt/d/serao/busd_cp/test/Violence/VIOLENCE_749.mp4\n",
      "Moviepy - Building video /mnt/d/serao/busd_cp/test/Violence/VIOLENCE_752.mp4.\n",
      "Moviepy - Writing video /mnt/d/serao/busd_cp/test/Violence/VIOLENCE_752.mp4\n",
      "\n"
     ]
    },
    {
     "name": "stderr",
     "output_type": "stream",
     "text": [
      "                                                            \r"
     ]
    },
    {
     "name": "stdout",
     "output_type": "stream",
     "text": [
      "Moviepy - Done !\n",
      "Moviepy - video ready /mnt/d/serao/busd_cp/test/Violence/VIOLENCE_752.mp4\n",
      "Moviepy - Building video /mnt/d/serao/busd_cp/test/Violence/VIOLENCE_754.mp4.\n",
      "Moviepy - Writing video /mnt/d/serao/busd_cp/test/Violence/VIOLENCE_754.mp4\n",
      "\n"
     ]
    },
    {
     "name": "stderr",
     "output_type": "stream",
     "text": [
      "                                                            \r"
     ]
    },
    {
     "name": "stdout",
     "output_type": "stream",
     "text": [
      "Moviepy - Done !\n",
      "Moviepy - video ready /mnt/d/serao/busd_cp/test/Violence/VIOLENCE_754.mp4\n",
      "Moviepy - Building video /mnt/d/serao/busd_cp/test/Violence/VIOLENCE_757.mp4.\n",
      "Moviepy - Writing video /mnt/d/serao/busd_cp/test/Violence/VIOLENCE_757.mp4\n",
      "\n"
     ]
    },
    {
     "name": "stderr",
     "output_type": "stream",
     "text": [
      "                                                            \r"
     ]
    },
    {
     "name": "stdout",
     "output_type": "stream",
     "text": [
      "Moviepy - Done !\n",
      "Moviepy - video ready /mnt/d/serao/busd_cp/test/Violence/VIOLENCE_757.mp4\n",
      "Moviepy - Building video /mnt/d/serao/busd_cp/test/Violence/VIOLENCE_761.mp4.\n",
      "Moviepy - Writing video /mnt/d/serao/busd_cp/test/Violence/VIOLENCE_761.mp4\n",
      "\n"
     ]
    },
    {
     "name": "stderr",
     "output_type": "stream",
     "text": [
      "                                                            \r"
     ]
    },
    {
     "name": "stdout",
     "output_type": "stream",
     "text": [
      "Moviepy - Done !\n",
      "Moviepy - video ready /mnt/d/serao/busd_cp/test/Violence/VIOLENCE_761.mp4\n",
      "Moviepy - Building video /mnt/d/serao/busd_cp/test/Violence/VIOLENCE_768.mp4.\n",
      "Moviepy - Writing video /mnt/d/serao/busd_cp/test/Violence/VIOLENCE_768.mp4\n",
      "\n"
     ]
    },
    {
     "name": "stderr",
     "output_type": "stream",
     "text": [
      "                                                            \r"
     ]
    },
    {
     "name": "stdout",
     "output_type": "stream",
     "text": [
      "Moviepy - Done !\n",
      "Moviepy - video ready /mnt/d/serao/busd_cp/test/Violence/VIOLENCE_768.mp4\n",
      "Moviepy - Building video /mnt/d/serao/busd_cp/test/Violence/VIOLENCE_770.mp4.\n",
      "Moviepy - Writing video /mnt/d/serao/busd_cp/test/Violence/VIOLENCE_770.mp4\n",
      "\n"
     ]
    },
    {
     "name": "stderr",
     "output_type": "stream",
     "text": [
      "                                                            \r"
     ]
    },
    {
     "name": "stdout",
     "output_type": "stream",
     "text": [
      "Moviepy - Done !\n",
      "Moviepy - video ready /mnt/d/serao/busd_cp/test/Violence/VIOLENCE_770.mp4\n",
      "Moviepy - Building video /mnt/d/serao/busd_cp/test/Violence/VIOLENCE_774.mp4.\n",
      "Moviepy - Writing video /mnt/d/serao/busd_cp/test/Violence/VIOLENCE_774.mp4\n",
      "\n"
     ]
    },
    {
     "name": "stderr",
     "output_type": "stream",
     "text": [
      "                                                   \r"
     ]
    },
    {
     "name": "stdout",
     "output_type": "stream",
     "text": [
      "Moviepy - Done !\n",
      "Moviepy - video ready /mnt/d/serao/busd_cp/test/Violence/VIOLENCE_774.mp4\n",
      "Moviepy - Building video /mnt/d/serao/busd_cp/test/Violence/VIOLENCE_776.mp4.\n",
      "Moviepy - Writing video /mnt/d/serao/busd_cp/test/Violence/VIOLENCE_776.mp4\n",
      "\n"
     ]
    },
    {
     "name": "stderr",
     "output_type": "stream",
     "text": [
      "                                                            \r"
     ]
    },
    {
     "name": "stdout",
     "output_type": "stream",
     "text": [
      "Moviepy - Done !\n",
      "Moviepy - video ready /mnt/d/serao/busd_cp/test/Violence/VIOLENCE_776.mp4\n",
      "Moviepy - Building video /mnt/d/serao/busd_cp/test/Violence/VIOLENCE_779.mp4.\n",
      "Moviepy - Writing video /mnt/d/serao/busd_cp/test/Violence/VIOLENCE_779.mp4\n",
      "\n"
     ]
    },
    {
     "name": "stderr",
     "output_type": "stream",
     "text": [
      "                                                            \r"
     ]
    },
    {
     "name": "stdout",
     "output_type": "stream",
     "text": [
      "Moviepy - Done !\n",
      "Moviepy - video ready /mnt/d/serao/busd_cp/test/Violence/VIOLENCE_779.mp4\n",
      "Moviepy - Building video /mnt/d/serao/busd_cp/test/Violence/VIOLENCE_784.mp4.\n",
      "Moviepy - Writing video /mnt/d/serao/busd_cp/test/Violence/VIOLENCE_784.mp4\n",
      "\n"
     ]
    },
    {
     "name": "stderr",
     "output_type": "stream",
     "text": [
      "                                                            \r"
     ]
    },
    {
     "name": "stdout",
     "output_type": "stream",
     "text": [
      "Moviepy - Done !\n",
      "Moviepy - video ready /mnt/d/serao/busd_cp/test/Violence/VIOLENCE_784.mp4\n",
      "Moviepy - Building video /mnt/d/serao/busd_cp/test/Violence/VIOLENCE_796.mp4.\n",
      "Moviepy - Writing video /mnt/d/serao/busd_cp/test/Violence/VIOLENCE_796.mp4\n",
      "\n"
     ]
    },
    {
     "name": "stderr",
     "output_type": "stream",
     "text": [
      "                                                            \r"
     ]
    },
    {
     "name": "stdout",
     "output_type": "stream",
     "text": [
      "Moviepy - Done !\n",
      "Moviepy - video ready /mnt/d/serao/busd_cp/test/Violence/VIOLENCE_796.mp4\n",
      "Moviepy - Building video /mnt/d/serao/busd_cp/test/Violence/VIOLENCE_80.mp4.\n",
      "Moviepy - Writing video /mnt/d/serao/busd_cp/test/Violence/VIOLENCE_80.mp4\n",
      "\n"
     ]
    },
    {
     "name": "stderr",
     "output_type": "stream",
     "text": [
      "                                                            \r"
     ]
    },
    {
     "name": "stdout",
     "output_type": "stream",
     "text": [
      "Moviepy - Done !\n",
      "Moviepy - video ready /mnt/d/serao/busd_cp/test/Violence/VIOLENCE_80.mp4\n",
      "Moviepy - Building video /mnt/d/serao/busd_cp/test/Violence/VIOLENCE_803.mp4.\n",
      "Moviepy - Writing video /mnt/d/serao/busd_cp/test/Violence/VIOLENCE_803.mp4\n",
      "\n"
     ]
    },
    {
     "name": "stderr",
     "output_type": "stream",
     "text": [
      "                                                            \r"
     ]
    },
    {
     "name": "stdout",
     "output_type": "stream",
     "text": [
      "Moviepy - Done !\n",
      "Moviepy - video ready /mnt/d/serao/busd_cp/test/Violence/VIOLENCE_803.mp4\n",
      "Moviepy - Building video /mnt/d/serao/busd_cp/test/Violence/VIOLENCE_806.mp4.\n",
      "Moviepy - Writing video /mnt/d/serao/busd_cp/test/Violence/VIOLENCE_806.mp4\n",
      "\n"
     ]
    },
    {
     "name": "stderr",
     "output_type": "stream",
     "text": [
      "                                                   \r"
     ]
    },
    {
     "name": "stdout",
     "output_type": "stream",
     "text": [
      "Moviepy - Done !\n",
      "Moviepy - video ready /mnt/d/serao/busd_cp/test/Violence/VIOLENCE_806.mp4\n",
      "Moviepy - Building video /mnt/d/serao/busd_cp/test/Violence/VIOLENCE_808.mp4.\n",
      "Moviepy - Writing video /mnt/d/serao/busd_cp/test/Violence/VIOLENCE_808.mp4\n",
      "\n"
     ]
    },
    {
     "name": "stderr",
     "output_type": "stream",
     "text": [
      "                                                            \r"
     ]
    },
    {
     "name": "stdout",
     "output_type": "stream",
     "text": [
      "Moviepy - Done !\n",
      "Moviepy - video ready /mnt/d/serao/busd_cp/test/Violence/VIOLENCE_808.mp4\n",
      "Moviepy - Building video /mnt/d/serao/busd_cp/test/Violence/VIOLENCE_818.mp4.\n",
      "Moviepy - Writing video /mnt/d/serao/busd_cp/test/Violence/VIOLENCE_818.mp4\n",
      "\n"
     ]
    },
    {
     "name": "stderr",
     "output_type": "stream",
     "text": [
      "                                                   \r"
     ]
    },
    {
     "name": "stdout",
     "output_type": "stream",
     "text": [
      "Moviepy - Done !\n",
      "Moviepy - video ready /mnt/d/serao/busd_cp/test/Violence/VIOLENCE_818.mp4\n",
      "Moviepy - Building video /mnt/d/serao/busd_cp/test/Violence/VIOLENCE_837.mp4.\n",
      "Moviepy - Writing video /mnt/d/serao/busd_cp/test/Violence/VIOLENCE_837.mp4\n",
      "\n"
     ]
    },
    {
     "name": "stderr",
     "output_type": "stream",
     "text": [
      "                                                   \r"
     ]
    },
    {
     "name": "stdout",
     "output_type": "stream",
     "text": [
      "Moviepy - Done !\n",
      "Moviepy - video ready /mnt/d/serao/busd_cp/test/Violence/VIOLENCE_837.mp4\n",
      "Moviepy - Building video /mnt/d/serao/busd_cp/test/Violence/VIOLENCE_841.mp4.\n",
      "Moviepy - Writing video /mnt/d/serao/busd_cp/test/Violence/VIOLENCE_841.mp4\n",
      "\n"
     ]
    },
    {
     "name": "stderr",
     "output_type": "stream",
     "text": [
      "                                                   \r"
     ]
    },
    {
     "name": "stdout",
     "output_type": "stream",
     "text": [
      "Moviepy - Done !\n",
      "Moviepy - video ready /mnt/d/serao/busd_cp/test/Violence/VIOLENCE_841.mp4\n",
      "Moviepy - Building video /mnt/d/serao/busd_cp/test/Violence/VIOLENCE_842.mp4.\n",
      "Moviepy - Writing video /mnt/d/serao/busd_cp/test/Violence/VIOLENCE_842.mp4\n",
      "\n"
     ]
    },
    {
     "name": "stderr",
     "output_type": "stream",
     "text": [
      "                                                   \r"
     ]
    },
    {
     "name": "stdout",
     "output_type": "stream",
     "text": [
      "Moviepy - Done !\n",
      "Moviepy - video ready /mnt/d/serao/busd_cp/test/Violence/VIOLENCE_842.mp4\n",
      "Moviepy - Building video /mnt/d/serao/busd_cp/test/Violence/VIOLENCE_843.mp4.\n",
      "Moviepy - Writing video /mnt/d/serao/busd_cp/test/Violence/VIOLENCE_843.mp4\n",
      "\n"
     ]
    },
    {
     "name": "stderr",
     "output_type": "stream",
     "text": [
      "                                                            \r"
     ]
    },
    {
     "name": "stdout",
     "output_type": "stream",
     "text": [
      "Moviepy - Done !\n",
      "Moviepy - video ready /mnt/d/serao/busd_cp/test/Violence/VIOLENCE_843.mp4\n",
      "Moviepy - Building video /mnt/d/serao/busd_cp/test/Violence/VIOLENCE_847.mp4.\n",
      "Moviepy - Writing video /mnt/d/serao/busd_cp/test/Violence/VIOLENCE_847.mp4\n",
      "\n"
     ]
    },
    {
     "name": "stderr",
     "output_type": "stream",
     "text": [
      "                                                   \r"
     ]
    },
    {
     "name": "stdout",
     "output_type": "stream",
     "text": [
      "Moviepy - Done !\n",
      "Moviepy - video ready /mnt/d/serao/busd_cp/test/Violence/VIOLENCE_847.mp4\n",
      "Moviepy - Building video /mnt/d/serao/busd_cp/test/Violence/VIOLENCE_848.mp4.\n",
      "Moviepy - Writing video /mnt/d/serao/busd_cp/test/Violence/VIOLENCE_848.mp4\n",
      "\n"
     ]
    },
    {
     "name": "stderr",
     "output_type": "stream",
     "text": [
      "                                                             \r"
     ]
    },
    {
     "name": "stdout",
     "output_type": "stream",
     "text": [
      "Moviepy - Done !\n",
      "Moviepy - video ready /mnt/d/serao/busd_cp/test/Violence/VIOLENCE_848.mp4\n",
      "Moviepy - Building video /mnt/d/serao/busd_cp/test/Violence/VIOLENCE_852.mp4.\n",
      "Moviepy - Writing video /mnt/d/serao/busd_cp/test/Violence/VIOLENCE_852.mp4\n",
      "\n"
     ]
    },
    {
     "name": "stderr",
     "output_type": "stream",
     "text": [
      "                                                             \r"
     ]
    },
    {
     "name": "stdout",
     "output_type": "stream",
     "text": [
      "Moviepy - Done !\n",
      "Moviepy - video ready /mnt/d/serao/busd_cp/test/Violence/VIOLENCE_852.mp4\n",
      "Moviepy - Building video /mnt/d/serao/busd_cp/test/Violence/VIOLENCE_853.mp4.\n",
      "Moviepy - Writing video /mnt/d/serao/busd_cp/test/Violence/VIOLENCE_853.mp4\n",
      "\n"
     ]
    },
    {
     "name": "stderr",
     "output_type": "stream",
     "text": [
      "                                                   \r"
     ]
    },
    {
     "name": "stdout",
     "output_type": "stream",
     "text": [
      "Moviepy - Done !\n",
      "Moviepy - video ready /mnt/d/serao/busd_cp/test/Violence/VIOLENCE_853.mp4\n",
      "Moviepy - Building video /mnt/d/serao/busd_cp/test/Violence/VIOLENCE_86.mp4.\n",
      "Moviepy - Writing video /mnt/d/serao/busd_cp/test/Violence/VIOLENCE_86.mp4\n",
      "\n"
     ]
    },
    {
     "name": "stderr",
     "output_type": "stream",
     "text": [
      "                                                             \r"
     ]
    },
    {
     "name": "stdout",
     "output_type": "stream",
     "text": [
      "Moviepy - Done !\n",
      "Moviepy - video ready /mnt/d/serao/busd_cp/test/Violence/VIOLENCE_86.mp4\n",
      "Moviepy - Building video /mnt/d/serao/busd_cp/test/Violence/VIOLENCE_860.mp4.\n",
      "Moviepy - Writing video /mnt/d/serao/busd_cp/test/Violence/VIOLENCE_860.mp4\n",
      "\n"
     ]
    },
    {
     "name": "stderr",
     "output_type": "stream",
     "text": [
      "                                                   \r"
     ]
    },
    {
     "name": "stdout",
     "output_type": "stream",
     "text": [
      "Moviepy - Done !\n",
      "Moviepy - video ready /mnt/d/serao/busd_cp/test/Violence/VIOLENCE_860.mp4\n",
      "Moviepy - Building video /mnt/d/serao/busd_cp/test/Violence/VIOLENCE_866.mp4.\n",
      "Moviepy - Writing video /mnt/d/serao/busd_cp/test/Violence/VIOLENCE_866.mp4\n",
      "\n"
     ]
    },
    {
     "name": "stderr",
     "output_type": "stream",
     "text": [
      "                                                            \r"
     ]
    },
    {
     "name": "stdout",
     "output_type": "stream",
     "text": [
      "Moviepy - Done !\n",
      "Moviepy - video ready /mnt/d/serao/busd_cp/test/Violence/VIOLENCE_866.mp4\n",
      "Moviepy - Building video /mnt/d/serao/busd_cp/test/Violence/VIOLENCE_871.mp4.\n",
      "Moviepy - Writing video /mnt/d/serao/busd_cp/test/Violence/VIOLENCE_871.mp4\n",
      "\n"
     ]
    },
    {
     "name": "stderr",
     "output_type": "stream",
     "text": [
      "                                                            \r"
     ]
    },
    {
     "name": "stdout",
     "output_type": "stream",
     "text": [
      "Moviepy - Done !\n",
      "Moviepy - video ready /mnt/d/serao/busd_cp/test/Violence/VIOLENCE_871.mp4\n",
      "Moviepy - Building video /mnt/d/serao/busd_cp/test/Violence/VIOLENCE_872.mp4.\n",
      "Moviepy - Writing video /mnt/d/serao/busd_cp/test/Violence/VIOLENCE_872.mp4\n",
      "\n"
     ]
    },
    {
     "name": "stderr",
     "output_type": "stream",
     "text": [
      "                                                            \r"
     ]
    },
    {
     "name": "stdout",
     "output_type": "stream",
     "text": [
      "Moviepy - Done !\n",
      "Moviepy - video ready /mnt/d/serao/busd_cp/test/Violence/VIOLENCE_872.mp4\n",
      "Moviepy - Building video /mnt/d/serao/busd_cp/test/Violence/VIOLENCE_875.mp4.\n",
      "Moviepy - Writing video /mnt/d/serao/busd_cp/test/Violence/VIOLENCE_875.mp4\n",
      "\n"
     ]
    },
    {
     "name": "stderr",
     "output_type": "stream",
     "text": [
      "                                                            \r"
     ]
    },
    {
     "name": "stdout",
     "output_type": "stream",
     "text": [
      "Moviepy - Done !\n",
      "Moviepy - video ready /mnt/d/serao/busd_cp/test/Violence/VIOLENCE_875.mp4\n",
      "Moviepy - Building video /mnt/d/serao/busd_cp/test/Violence/VIOLENCE_878.mp4.\n",
      "Moviepy - Writing video /mnt/d/serao/busd_cp/test/Violence/VIOLENCE_878.mp4\n",
      "\n"
     ]
    },
    {
     "name": "stderr",
     "output_type": "stream",
     "text": [
      "                                                            \r"
     ]
    },
    {
     "name": "stdout",
     "output_type": "stream",
     "text": [
      "Moviepy - Done !\n",
      "Moviepy - video ready /mnt/d/serao/busd_cp/test/Violence/VIOLENCE_878.mp4\n",
      "Moviepy - Building video /mnt/d/serao/busd_cp/test/Violence/VIOLENCE_879.mp4.\n",
      "Moviepy - Writing video /mnt/d/serao/busd_cp/test/Violence/VIOLENCE_879.mp4\n",
      "\n"
     ]
    },
    {
     "name": "stderr",
     "output_type": "stream",
     "text": [
      "                                                            \r"
     ]
    },
    {
     "name": "stdout",
     "output_type": "stream",
     "text": [
      "Moviepy - Done !\n",
      "Moviepy - video ready /mnt/d/serao/busd_cp/test/Violence/VIOLENCE_879.mp4\n",
      "Moviepy - Building video /mnt/d/serao/busd_cp/test/Violence/VIOLENCE_883.mp4.\n",
      "Moviepy - Writing video /mnt/d/serao/busd_cp/test/Violence/VIOLENCE_883.mp4\n",
      "\n"
     ]
    },
    {
     "name": "stderr",
     "output_type": "stream",
     "text": [
      "                                                            \r"
     ]
    },
    {
     "name": "stdout",
     "output_type": "stream",
     "text": [
      "Moviepy - Done !\n",
      "Moviepy - video ready /mnt/d/serao/busd_cp/test/Violence/VIOLENCE_883.mp4\n",
      "Moviepy - Building video /mnt/d/serao/busd_cp/test/Violence/VIOLENCE_888.mp4.\n",
      "Moviepy - Writing video /mnt/d/serao/busd_cp/test/Violence/VIOLENCE_888.mp4\n",
      "\n"
     ]
    },
    {
     "name": "stderr",
     "output_type": "stream",
     "text": [
      "                                                            \r"
     ]
    },
    {
     "name": "stdout",
     "output_type": "stream",
     "text": [
      "Moviepy - Done !\n",
      "Moviepy - video ready /mnt/d/serao/busd_cp/test/Violence/VIOLENCE_888.mp4\n",
      "Moviepy - Building video /mnt/d/serao/busd_cp/test/Violence/VIOLENCE_893.mp4.\n",
      "Moviepy - Writing video /mnt/d/serao/busd_cp/test/Violence/VIOLENCE_893.mp4\n",
      "\n"
     ]
    },
    {
     "name": "stderr",
     "output_type": "stream",
     "text": [
      "                                                   \r"
     ]
    },
    {
     "name": "stdout",
     "output_type": "stream",
     "text": [
      "Moviepy - Done !\n",
      "Moviepy - video ready /mnt/d/serao/busd_cp/test/Violence/VIOLENCE_893.mp4\n",
      "Moviepy - Building video /mnt/d/serao/busd_cp/test/Violence/VIOLENCE_896.mp4.\n",
      "Moviepy - Writing video /mnt/d/serao/busd_cp/test/Violence/VIOLENCE_896.mp4\n",
      "\n"
     ]
    },
    {
     "name": "stderr",
     "output_type": "stream",
     "text": [
      "                                                   \r"
     ]
    },
    {
     "name": "stdout",
     "output_type": "stream",
     "text": [
      "Moviepy - Done !\n",
      "Moviepy - video ready /mnt/d/serao/busd_cp/test/Violence/VIOLENCE_896.mp4\n",
      "Moviepy - Building video /mnt/d/serao/busd_cp/test/Violence/VIOLENCE_911.mp4.\n",
      "Moviepy - Writing video /mnt/d/serao/busd_cp/test/Violence/VIOLENCE_911.mp4\n",
      "\n"
     ]
    },
    {
     "name": "stderr",
     "output_type": "stream",
     "text": [
      "                                                            \r"
     ]
    },
    {
     "name": "stdout",
     "output_type": "stream",
     "text": [
      "Moviepy - Done !\n",
      "Moviepy - video ready /mnt/d/serao/busd_cp/test/Violence/VIOLENCE_911.mp4\n",
      "Moviepy - Building video /mnt/d/serao/busd_cp/test/Violence/VIOLENCE_912.mp4.\n",
      "Moviepy - Writing video /mnt/d/serao/busd_cp/test/Violence/VIOLENCE_912.mp4\n",
      "\n"
     ]
    },
    {
     "name": "stderr",
     "output_type": "stream",
     "text": [
      "                                                            \r"
     ]
    },
    {
     "name": "stdout",
     "output_type": "stream",
     "text": [
      "Moviepy - Done !\n",
      "Moviepy - video ready /mnt/d/serao/busd_cp/test/Violence/VIOLENCE_912.mp4\n",
      "Moviepy - Building video /mnt/d/serao/busd_cp/test/Violence/VIOLENCE_914.mp4.\n",
      "Moviepy - Writing video /mnt/d/serao/busd_cp/test/Violence/VIOLENCE_914.mp4\n",
      "\n"
     ]
    },
    {
     "name": "stderr",
     "output_type": "stream",
     "text": [
      "                                                   \r"
     ]
    },
    {
     "name": "stdout",
     "output_type": "stream",
     "text": [
      "Moviepy - Done !\n",
      "Moviepy - video ready /mnt/d/serao/busd_cp/test/Violence/VIOLENCE_914.mp4\n",
      "Moviepy - Building video /mnt/d/serao/busd_cp/test/Violence/VIOLENCE_916.mp4.\n",
      "Moviepy - Writing video /mnt/d/serao/busd_cp/test/Violence/VIOLENCE_916.mp4\n",
      "\n"
     ]
    },
    {
     "name": "stderr",
     "output_type": "stream",
     "text": [
      "                                                             \r"
     ]
    },
    {
     "name": "stdout",
     "output_type": "stream",
     "text": [
      "Moviepy - Done !\n",
      "Moviepy - video ready /mnt/d/serao/busd_cp/test/Violence/VIOLENCE_916.mp4\n",
      "Moviepy - Building video /mnt/d/serao/busd_cp/test/Violence/VIOLENCE_925.mp4.\n",
      "Moviepy - Writing video /mnt/d/serao/busd_cp/test/Violence/VIOLENCE_925.mp4\n",
      "\n"
     ]
    },
    {
     "name": "stderr",
     "output_type": "stream",
     "text": [
      "                                                            \r"
     ]
    },
    {
     "name": "stdout",
     "output_type": "stream",
     "text": [
      "Moviepy - Done !\n",
      "Moviepy - video ready /mnt/d/serao/busd_cp/test/Violence/VIOLENCE_925.mp4\n",
      "Moviepy - Building video /mnt/d/serao/busd_cp/test/Violence/VIOLENCE_93.mp4.\n",
      "Moviepy - Writing video /mnt/d/serao/busd_cp/test/Violence/VIOLENCE_93.mp4\n",
      "\n"
     ]
    },
    {
     "name": "stderr",
     "output_type": "stream",
     "text": [
      "                                                            \r"
     ]
    },
    {
     "name": "stdout",
     "output_type": "stream",
     "text": [
      "Moviepy - Done !\n",
      "Moviepy - video ready /mnt/d/serao/busd_cp/test/Violence/VIOLENCE_93.mp4\n",
      "Moviepy - Building video /mnt/d/serao/busd_cp/test/Violence/VIOLENCE_932.mp4.\n",
      "Moviepy - Writing video /mnt/d/serao/busd_cp/test/Violence/VIOLENCE_932.mp4\n",
      "\n"
     ]
    },
    {
     "name": "stderr",
     "output_type": "stream",
     "text": [
      "                                                            \r"
     ]
    },
    {
     "name": "stdout",
     "output_type": "stream",
     "text": [
      "Moviepy - Done !\n",
      "Moviepy - video ready /mnt/d/serao/busd_cp/test/Violence/VIOLENCE_932.mp4\n",
      "Moviepy - Building video /mnt/d/serao/busd_cp/test/Violence/VIOLENCE_944.mp4.\n",
      "Moviepy - Writing video /mnt/d/serao/busd_cp/test/Violence/VIOLENCE_944.mp4\n",
      "\n"
     ]
    },
    {
     "name": "stderr",
     "output_type": "stream",
     "text": [
      "                                                            \r"
     ]
    },
    {
     "name": "stdout",
     "output_type": "stream",
     "text": [
      "Moviepy - Done !\n",
      "Moviepy - video ready /mnt/d/serao/busd_cp/test/Violence/VIOLENCE_944.mp4\n",
      "Moviepy - Building video /mnt/d/serao/busd_cp/test/Violence/VIOLENCE_945.mp4.\n",
      "Moviepy - Writing video /mnt/d/serao/busd_cp/test/Violence/VIOLENCE_945.mp4\n",
      "\n"
     ]
    },
    {
     "name": "stderr",
     "output_type": "stream",
     "text": [
      "                                                            \r"
     ]
    },
    {
     "name": "stdout",
     "output_type": "stream",
     "text": [
      "Moviepy - Done !\n",
      "Moviepy - video ready /mnt/d/serao/busd_cp/test/Violence/VIOLENCE_945.mp4\n",
      "Moviepy - Building video /mnt/d/serao/busd_cp/test/Violence/VIOLENCE_948.mp4.\n",
      "Moviepy - Writing video /mnt/d/serao/busd_cp/test/Violence/VIOLENCE_948.mp4\n",
      "\n"
     ]
    },
    {
     "name": "stderr",
     "output_type": "stream",
     "text": [
      "                                                   \r"
     ]
    },
    {
     "name": "stdout",
     "output_type": "stream",
     "text": [
      "Moviepy - Done !\n",
      "Moviepy - video ready /mnt/d/serao/busd_cp/test/Violence/VIOLENCE_948.mp4\n",
      "Moviepy - Building video /mnt/d/serao/busd_cp/test/Violence/VIOLENCE_954.mp4.\n",
      "Moviepy - Writing video /mnt/d/serao/busd_cp/test/Violence/VIOLENCE_954.mp4\n",
      "\n"
     ]
    },
    {
     "name": "stderr",
     "output_type": "stream",
     "text": [
      "                                                             \r"
     ]
    },
    {
     "name": "stdout",
     "output_type": "stream",
     "text": [
      "Moviepy - Done !\n",
      "Moviepy - video ready /mnt/d/serao/busd_cp/test/Violence/VIOLENCE_954.mp4\n",
      "Moviepy - Building video /mnt/d/serao/busd_cp/test/Violence/VIOLENCE_955.mp4.\n",
      "Moviepy - Writing video /mnt/d/serao/busd_cp/test/Violence/VIOLENCE_955.mp4\n",
      "\n"
     ]
    },
    {
     "name": "stderr",
     "output_type": "stream",
     "text": [
      "                                                            \r"
     ]
    },
    {
     "name": "stdout",
     "output_type": "stream",
     "text": [
      "Moviepy - Done !\n",
      "Moviepy - video ready /mnt/d/serao/busd_cp/test/Violence/VIOLENCE_955.mp4\n",
      "Moviepy - Building video /mnt/d/serao/busd_cp/test/Violence/VIOLENCE_956.mp4.\n",
      "Moviepy - Writing video /mnt/d/serao/busd_cp/test/Violence/VIOLENCE_956.mp4\n",
      "\n"
     ]
    },
    {
     "name": "stderr",
     "output_type": "stream",
     "text": [
      "                                                            \r"
     ]
    },
    {
     "name": "stdout",
     "output_type": "stream",
     "text": [
      "Moviepy - Done !\n",
      "Moviepy - video ready /mnt/d/serao/busd_cp/test/Violence/VIOLENCE_956.mp4\n",
      "Moviepy - Building video /mnt/d/serao/busd_cp/test/Violence/VIOLENCE_957.mp4.\n",
      "Moviepy - Writing video /mnt/d/serao/busd_cp/test/Violence/VIOLENCE_957.mp4\n",
      "\n"
     ]
    },
    {
     "name": "stderr",
     "output_type": "stream",
     "text": [
      "                                                             \r"
     ]
    },
    {
     "name": "stdout",
     "output_type": "stream",
     "text": [
      "Moviepy - Done !\n",
      "Moviepy - video ready /mnt/d/serao/busd_cp/test/Violence/VIOLENCE_957.mp4\n",
      "Moviepy - Building video /mnt/d/serao/busd_cp/test/Violence/VIOLENCE_959.mp4.\n",
      "Moviepy - Writing video /mnt/d/serao/busd_cp/test/Violence/VIOLENCE_959.mp4\n",
      "\n"
     ]
    },
    {
     "name": "stderr",
     "output_type": "stream",
     "text": [
      "                                                             \r"
     ]
    },
    {
     "name": "stdout",
     "output_type": "stream",
     "text": [
      "Moviepy - Done !\n",
      "Moviepy - video ready /mnt/d/serao/busd_cp/test/Violence/VIOLENCE_959.mp4\n",
      "Moviepy - Building video /mnt/d/serao/busd_cp/test/Violence/VIOLENCE_969.mp4.\n",
      "Moviepy - Writing video /mnt/d/serao/busd_cp/test/Violence/VIOLENCE_969.mp4\n",
      "\n"
     ]
    },
    {
     "name": "stderr",
     "output_type": "stream",
     "text": [
      "                                                            \r"
     ]
    },
    {
     "name": "stdout",
     "output_type": "stream",
     "text": [
      "Moviepy - Done !\n",
      "Moviepy - video ready /mnt/d/serao/busd_cp/test/Violence/VIOLENCE_969.mp4\n",
      "Moviepy - Building video /mnt/d/serao/busd_cp/test/Violence/VIOLENCE_97.mp4.\n",
      "Moviepy - Writing video /mnt/d/serao/busd_cp/test/Violence/VIOLENCE_97.mp4\n",
      "\n"
     ]
    },
    {
     "name": "stderr",
     "output_type": "stream",
     "text": [
      "                                                             \r"
     ]
    },
    {
     "name": "stdout",
     "output_type": "stream",
     "text": [
      "Moviepy - Done !\n",
      "Moviepy - video ready /mnt/d/serao/busd_cp/test/Violence/VIOLENCE_97.mp4\n",
      "Moviepy - Building video /mnt/d/serao/busd_cp/test/Violence/VIOLENCE_970.mp4.\n",
      "Moviepy - Writing video /mnt/d/serao/busd_cp/test/Violence/VIOLENCE_970.mp4\n",
      "\n"
     ]
    },
    {
     "name": "stderr",
     "output_type": "stream",
     "text": [
      "                                                            \r"
     ]
    },
    {
     "name": "stdout",
     "output_type": "stream",
     "text": [
      "Moviepy - Done !\n",
      "Moviepy - video ready /mnt/d/serao/busd_cp/test/Violence/VIOLENCE_970.mp4\n",
      "Moviepy - Building video /mnt/d/serao/busd_cp/test/Violence/VIOLENCE_977.mp4.\n",
      "Moviepy - Writing video /mnt/d/serao/busd_cp/test/Violence/VIOLENCE_977.mp4\n",
      "\n"
     ]
    },
    {
     "name": "stderr",
     "output_type": "stream",
     "text": [
      "                                                            \r"
     ]
    },
    {
     "name": "stdout",
     "output_type": "stream",
     "text": [
      "Moviepy - Done !\n",
      "Moviepy - video ready /mnt/d/serao/busd_cp/test/Violence/VIOLENCE_977.mp4\n",
      "Moviepy - Building video /mnt/d/serao/busd_cp/test/Violence/VIOLENCE_993.mp4.\n",
      "Moviepy - Writing video /mnt/d/serao/busd_cp/test/Violence/VIOLENCE_993.mp4\n",
      "\n"
     ]
    },
    {
     "name": "stderr",
     "output_type": "stream",
     "text": [
      "                                                            \r"
     ]
    },
    {
     "name": "stdout",
     "output_type": "stream",
     "text": [
      "Moviepy - Done !\n",
      "Moviepy - video ready /mnt/d/serao/busd_cp/test/Violence/VIOLENCE_993.mp4\n",
      "Moviepy - Building video /mnt/d/serao/busd_cp/test/Violence/VIOLENCE_995.mp4.\n",
      "Moviepy - Writing video /mnt/d/serao/busd_cp/test/Violence/VIOLENCE_995.mp4\n",
      "\n"
     ]
    },
    {
     "name": "stderr",
     "output_type": "stream",
     "text": [
      "                                                            \r"
     ]
    },
    {
     "name": "stdout",
     "output_type": "stream",
     "text": [
      "Moviepy - Done !\n",
      "Moviepy - video ready /mnt/d/serao/busd_cp/test/Violence/VIOLENCE_995.mp4\n",
      "Moviepy - Building video /mnt/d/serao/busd_cp/test/Violence/VIOLENCE_998.mp4.\n",
      "Moviepy - Writing video /mnt/d/serao/busd_cp/test/Violence/VIOLENCE_998.mp4\n",
      "\n"
     ]
    },
    {
     "name": "stderr",
     "output_type": "stream",
     "text": [
      "                                                            \r"
     ]
    },
    {
     "name": "stdout",
     "output_type": "stream",
     "text": [
      "Moviepy - Done !\n",
      "Moviepy - video ready /mnt/d/serao/busd_cp/test/Violence/VIOLENCE_998.mp4\n"
     ]
    }
   ],
   "source": [
    "import os\n",
    "from moviepy.editor import *\n",
    "from torchvision.datasets.folder import make_dataset\n",
    "from tqdm import tqdm\n",
    "\n",
    "\n",
    "classes = [d.name for d in os.scandir('/mnt/d/serao/busd_cp/test') if d.is_dir()]\n",
    "classes.sort()\n",
    "class_to_index = {cls_name: i for i, cls_name in enumerate(classes)}\n",
    "videos_index = make_dataset('/mnt/d/serao/busd_cp/test', class_to_index, ('.avi', '.mp4'), is_valid_file=None)\n",
    "\n",
    "for video, label in videos_index:\n",
    "    clip1 = VideoFileClip(video)\n",
    "    # resizing video downsize 50 %\n",
    "    clip2 = clip1.resize(0.5)\n",
    "    split = video.split('.')\n",
    "    clip2.write_videofile(split[0] + '.mp4', fps=30, codec='libx264', logger='bar')"
   ]
  }
 ],
 "metadata": {
  "interpreter": {
   "hash": "375897ae384fc3a9d5f8e8bb1d0666a9dfaee7949d048cd52c6c0c1ac076dc2b"
  },
  "kernelspec": {
   "display_name": "Python 3.8.10 ('env': venv)",
   "language": "python",
   "name": "python3"
  },
  "language_info": {
   "codemirror_mode": {
    "name": "ipython",
    "version": 3
   },
   "file_extension": ".py",
   "mimetype": "text/x-python",
   "name": "python",
   "nbconvert_exporter": "python",
   "pygments_lexer": "ipython3",
   "version": "3.8.10"
  },
  "orig_nbformat": 4
 },
 "nbformat": 4,
 "nbformat_minor": 2
}
